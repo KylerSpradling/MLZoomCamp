{
 "cells": [
  {
   "cell_type": "code",
   "execution_count": 1,
   "id": "c54ead70",
   "metadata": {},
   "outputs": [],
   "source": [
    "import pandas as pd\n",
    "import numpy as np\n",
    "import matplotlib.pyplot as plt\n",
    "import seaborn as sns\n",
    "from sklearn.model_selection import train_test_split"
   ]
  },
  {
   "cell_type": "markdown",
   "id": "f87414da",
   "metadata": {},
   "source": [
    "# Data Loading"
   ]
  },
  {
   "cell_type": "code",
   "execution_count": 17,
   "id": "4e4a7ff9",
   "metadata": {},
   "outputs": [
    {
     "data": {
      "application/vnd.microsoft.datawrangler.viewer.v0+json": {
       "columns": [
        {
         "name": "index",
         "rawType": "int64",
         "type": "integer"
        },
        {
         "name": "lead_source",
         "rawType": "object",
         "type": "string"
        },
        {
         "name": "industry",
         "rawType": "object",
         "type": "unknown"
        },
        {
         "name": "number_of_courses_viewed",
         "rawType": "int64",
         "type": "integer"
        },
        {
         "name": "annual_income",
         "rawType": "float64",
         "type": "float"
        },
        {
         "name": "employment_status",
         "rawType": "object",
         "type": "unknown"
        },
        {
         "name": "location",
         "rawType": "object",
         "type": "string"
        },
        {
         "name": "interaction_count",
         "rawType": "int64",
         "type": "integer"
        },
        {
         "name": "lead_score",
         "rawType": "float64",
         "type": "float"
        },
        {
         "name": "converted",
         "rawType": "int64",
         "type": "integer"
        }
       ],
       "ref": "6de6e272-cfcc-48dc-9914-ab8fc994659f",
       "rows": [
        [
         "0",
         "paid_ads",
         null,
         "1",
         "79450.0",
         "unemployed",
         "south_america",
         "4",
         "0.94",
         "1"
        ],
        [
         "1",
         "social_media",
         "retail",
         "1",
         "46992.0",
         "employed",
         "south_america",
         "1",
         "0.8",
         "0"
        ],
        [
         "2",
         "events",
         "healthcare",
         "5",
         "78796.0",
         "unemployed",
         "australia",
         "3",
         "0.69",
         "1"
        ],
        [
         "3",
         "paid_ads",
         "retail",
         "2",
         "83843.0",
         null,
         "australia",
         "1",
         "0.87",
         "0"
        ],
        [
         "4",
         "referral",
         "education",
         "3",
         "85012.0",
         "self_employed",
         "europe",
         "3",
         "0.62",
         "1"
        ]
       ],
       "shape": {
        "columns": 9,
        "rows": 5
       }
      },
      "text/html": [
       "<div>\n",
       "<style scoped>\n",
       "    .dataframe tbody tr th:only-of-type {\n",
       "        vertical-align: middle;\n",
       "    }\n",
       "\n",
       "    .dataframe tbody tr th {\n",
       "        vertical-align: top;\n",
       "    }\n",
       "\n",
       "    .dataframe thead th {\n",
       "        text-align: right;\n",
       "    }\n",
       "</style>\n",
       "<table border=\"1\" class=\"dataframe\">\n",
       "  <thead>\n",
       "    <tr style=\"text-align: right;\">\n",
       "      <th></th>\n",
       "      <th>lead_source</th>\n",
       "      <th>industry</th>\n",
       "      <th>number_of_courses_viewed</th>\n",
       "      <th>annual_income</th>\n",
       "      <th>employment_status</th>\n",
       "      <th>location</th>\n",
       "      <th>interaction_count</th>\n",
       "      <th>lead_score</th>\n",
       "      <th>converted</th>\n",
       "    </tr>\n",
       "  </thead>\n",
       "  <tbody>\n",
       "    <tr>\n",
       "      <th>0</th>\n",
       "      <td>paid_ads</td>\n",
       "      <td>NaN</td>\n",
       "      <td>1</td>\n",
       "      <td>79450.0</td>\n",
       "      <td>unemployed</td>\n",
       "      <td>south_america</td>\n",
       "      <td>4</td>\n",
       "      <td>0.94</td>\n",
       "      <td>1</td>\n",
       "    </tr>\n",
       "    <tr>\n",
       "      <th>1</th>\n",
       "      <td>social_media</td>\n",
       "      <td>retail</td>\n",
       "      <td>1</td>\n",
       "      <td>46992.0</td>\n",
       "      <td>employed</td>\n",
       "      <td>south_america</td>\n",
       "      <td>1</td>\n",
       "      <td>0.80</td>\n",
       "      <td>0</td>\n",
       "    </tr>\n",
       "    <tr>\n",
       "      <th>2</th>\n",
       "      <td>events</td>\n",
       "      <td>healthcare</td>\n",
       "      <td>5</td>\n",
       "      <td>78796.0</td>\n",
       "      <td>unemployed</td>\n",
       "      <td>australia</td>\n",
       "      <td>3</td>\n",
       "      <td>0.69</td>\n",
       "      <td>1</td>\n",
       "    </tr>\n",
       "    <tr>\n",
       "      <th>3</th>\n",
       "      <td>paid_ads</td>\n",
       "      <td>retail</td>\n",
       "      <td>2</td>\n",
       "      <td>83843.0</td>\n",
       "      <td>NaN</td>\n",
       "      <td>australia</td>\n",
       "      <td>1</td>\n",
       "      <td>0.87</td>\n",
       "      <td>0</td>\n",
       "    </tr>\n",
       "    <tr>\n",
       "      <th>4</th>\n",
       "      <td>referral</td>\n",
       "      <td>education</td>\n",
       "      <td>3</td>\n",
       "      <td>85012.0</td>\n",
       "      <td>self_employed</td>\n",
       "      <td>europe</td>\n",
       "      <td>3</td>\n",
       "      <td>0.62</td>\n",
       "      <td>1</td>\n",
       "    </tr>\n",
       "  </tbody>\n",
       "</table>\n",
       "</div>"
      ],
      "text/plain": [
       "    lead_source    industry  number_of_courses_viewed  annual_income  \\\n",
       "0      paid_ads         NaN                         1        79450.0   \n",
       "1  social_media      retail                         1        46992.0   \n",
       "2        events  healthcare                         5        78796.0   \n",
       "3      paid_ads      retail                         2        83843.0   \n",
       "4      referral   education                         3        85012.0   \n",
       "\n",
       "  employment_status       location  interaction_count  lead_score  converted  \n",
       "0        unemployed  south_america                  4        0.94          1  \n",
       "1          employed  south_america                  1        0.80          0  \n",
       "2        unemployed      australia                  3        0.69          1  \n",
       "3               NaN      australia                  1        0.87          0  \n",
       "4     self_employed         europe                  3        0.62          1  "
      ]
     },
     "execution_count": 17,
     "metadata": {},
     "output_type": "execute_result"
    }
   ],
   "source": [
    "url = 'https://raw.githubusercontent.com/alexeygrigorev/datasets/master/course_lead_scoring.csv'\n",
    "df = pd.read_csv(url)\n",
    "df.head()"
   ]
  },
  {
   "cell_type": "markdown",
   "id": "bb9ff5e4",
   "metadata": {},
   "source": [
    "# Data preparation\n",
    "* Check if the missing values are presented in the features.\n",
    "* If there are missing values:\n",
    "    * For categorical features, replace them with 'NA'\n",
    "    * For numerical features, replace with with 0.0"
   ]
  },
  {
   "cell_type": "code",
   "execution_count": 18,
   "id": "7f5e9daf",
   "metadata": {},
   "outputs": [
    {
     "data": {
      "text/plain": [
       "lead_source                 128\n",
       "industry                    134\n",
       "number_of_courses_viewed      0\n",
       "annual_income               181\n",
       "employment_status           100\n",
       "location                     63\n",
       "interaction_count             0\n",
       "lead_score                    0\n",
       "converted                     0\n",
       "dtype: int64"
      ]
     },
     "execution_count": 18,
     "metadata": {},
     "output_type": "execute_result"
    }
   ],
   "source": [
    "df.isna().sum()"
   ]
  },
  {
   "cell_type": "code",
   "execution_count": 19,
   "id": "3e05508d",
   "metadata": {},
   "outputs": [
    {
     "data": {
      "application/vnd.microsoft.datawrangler.viewer.v0+json": {
       "columns": [
        {
         "name": "index",
         "rawType": "int64",
         "type": "integer"
        },
        {
         "name": "lead_source",
         "rawType": "object",
         "type": "unknown"
        },
        {
         "name": "industry",
         "rawType": "object",
         "type": "unknown"
        },
        {
         "name": "annual_income",
         "rawType": "float64",
         "type": "float"
        },
        {
         "name": "employment_status",
         "rawType": "object",
         "type": "unknown"
        },
        {
         "name": "location",
         "rawType": "object",
         "type": "unknown"
        }
       ],
       "ref": "6602e2d4-55f0-4a6b-8d19-ba1246aa26da",
       "rows": [
        [
         "0",
         "paid_ads",
         null,
         "79450.0",
         "unemployed",
         "south_america"
        ],
        [
         "1",
         "social_media",
         "retail",
         "46992.0",
         "employed",
         "south_america"
        ],
        [
         "2",
         "events",
         "healthcare",
         "78796.0",
         "unemployed",
         "australia"
        ],
        [
         "3",
         "paid_ads",
         "retail",
         "83843.0",
         null,
         "australia"
        ],
        [
         "4",
         "referral",
         "education",
         "85012.0",
         "self_employed",
         "europe"
        ],
        [
         "5",
         "events",
         "manufacturing",
         "59904.0",
         null,
         "africa"
        ],
        [
         "6",
         "social_media",
         "technology",
         "51283.0",
         null,
         "middle_east"
        ],
        [
         "7",
         "social_media",
         null,
         "62975.0",
         "student",
         "europe"
        ],
        [
         "8",
         "referral",
         "healthcare",
         "38648.0",
         "unemployed",
         "south_america"
        ],
        [
         "9",
         "paid_ads",
         "other",
         "59866.0",
         "student",
         "australia"
        ],
        [
         "10",
         "paid_ads",
         "retail",
         "79276.0",
         "employed",
         "middle_east"
        ],
        [
         "11",
         "organic_search",
         "finance",
         "80304.0",
         "self_employed",
         null
        ],
        [
         "12",
         "organic_search",
         null,
         "55615.0",
         "self_employed",
         "middle_east"
        ],
        [
         "13",
         "social_media",
         "other",
         "55438.0",
         null,
         "middle_east"
        ],
        [
         "14",
         "paid_ads",
         "healthcare",
         null,
         "unemployed",
         "middle_east"
        ],
        [
         "15",
         "referral",
         "healthcare",
         "56004.0",
         "student",
         "middle_east"
        ],
        [
         "16",
         "referral",
         "retail",
         "54612.0",
         "self_employed",
         "europe"
        ],
        [
         "17",
         "referral",
         "other",
         "92470.0",
         "unemployed",
         "europe"
        ],
        [
         "18",
         "referral",
         "manufacturing",
         "74380.0",
         "self_employed",
         null
        ],
        [
         "19",
         "paid_ads",
         null,
         "62809.0",
         "self_employed",
         "europe"
        ],
        [
         "20",
         "social_media",
         "technology",
         "62067.0",
         "student",
         "north_america"
        ],
        [
         "21",
         "social_media",
         "retail",
         "56594.0",
         "student",
         "europe"
        ],
        [
         "22",
         "referral",
         "other",
         "72729.0",
         "student",
         "middle_east"
        ],
        [
         "23",
         "events",
         "retail",
         "94862.0",
         "unemployed",
         "africa"
        ],
        [
         "24",
         "organic_search",
         "education",
         "68182.0",
         "employed",
         "south_america"
        ],
        [
         "25",
         "organic_search",
         "finance",
         "51159.0",
         "employed",
         "europe"
        ],
        [
         "26",
         "referral",
         "healthcare",
         "46268.0",
         "employed",
         "north_america"
        ],
        [
         "27",
         "social_media",
         "other",
         "63133.0",
         "unemployed",
         "north_america"
        ],
        [
         "28",
         "referral",
         "other",
         "57767.0",
         "student",
         "europe"
        ],
        [
         "29",
         "referral",
         "finance",
         "73420.0",
         "unemployed",
         null
        ],
        [
         "30",
         "paid_ads",
         "finance",
         "60617.0",
         "self_employed",
         "north_america"
        ],
        [
         "31",
         "events",
         "other",
         "66476.0",
         "self_employed",
         "africa"
        ],
        [
         "32",
         "referral",
         null,
         "43704.0",
         "employed",
         "australia"
        ],
        [
         "33",
         "events",
         "healthcare",
         "54547.0",
         "employed",
         "africa"
        ],
        [
         "34",
         "events",
         "other",
         "59157.0",
         "student",
         "south_america"
        ],
        [
         "35",
         "organic_search",
         null,
         "63220.0",
         "unemployed",
         "north_america"
        ],
        [
         "36",
         "organic_search",
         "healthcare",
         "54186.0",
         null,
         "north_america"
        ],
        [
         "37",
         null,
         "other",
         "51207.0",
         "student",
         "middle_east"
        ],
        [
         "38",
         "social_media",
         "healthcare",
         "85005.0",
         null,
         "asia"
        ],
        [
         "39",
         null,
         "other",
         "67314.0",
         null,
         "europe"
        ],
        [
         "40",
         "social_media",
         "healthcare",
         "78509.0",
         "student",
         "north_america"
        ],
        [
         "41",
         null,
         "manufacturing",
         "59886.0",
         "employed",
         "asia"
        ],
        [
         "42",
         "paid_ads",
         "retail",
         "65854.0",
         "employed",
         "africa"
        ],
        [
         "43",
         "social_media",
         "healthcare",
         "61602.0",
         "student",
         "middle_east"
        ],
        [
         "44",
         "social_media",
         "technology",
         "63854.0",
         "employed",
         "africa"
        ],
        [
         "45",
         "social_media",
         "education",
         "47767.0",
         "unemployed",
         "europe"
        ],
        [
         "46",
         "social_media",
         "education",
         "60886.0",
         "student",
         "asia"
        ],
        [
         "47",
         null,
         "other",
         "57246.0",
         "self_employed",
         "asia"
        ],
        [
         "48",
         "events",
         null,
         "40529.0",
         "student",
         "north_america"
        ],
        [
         "49",
         "events",
         null,
         "53077.0",
         "unemployed",
         "north_america"
        ]
       ],
       "shape": {
        "columns": 5,
        "rows": 1462
       }
      },
      "text/html": [
       "<div>\n",
       "<style scoped>\n",
       "    .dataframe tbody tr th:only-of-type {\n",
       "        vertical-align: middle;\n",
       "    }\n",
       "\n",
       "    .dataframe tbody tr th {\n",
       "        vertical-align: top;\n",
       "    }\n",
       "\n",
       "    .dataframe thead th {\n",
       "        text-align: right;\n",
       "    }\n",
       "</style>\n",
       "<table border=\"1\" class=\"dataframe\">\n",
       "  <thead>\n",
       "    <tr style=\"text-align: right;\">\n",
       "      <th></th>\n",
       "      <th>lead_source</th>\n",
       "      <th>industry</th>\n",
       "      <th>annual_income</th>\n",
       "      <th>employment_status</th>\n",
       "      <th>location</th>\n",
       "    </tr>\n",
       "  </thead>\n",
       "  <tbody>\n",
       "    <tr>\n",
       "      <th>0</th>\n",
       "      <td>paid_ads</td>\n",
       "      <td>NaN</td>\n",
       "      <td>79450.0</td>\n",
       "      <td>unemployed</td>\n",
       "      <td>south_america</td>\n",
       "    </tr>\n",
       "    <tr>\n",
       "      <th>1</th>\n",
       "      <td>social_media</td>\n",
       "      <td>retail</td>\n",
       "      <td>46992.0</td>\n",
       "      <td>employed</td>\n",
       "      <td>south_america</td>\n",
       "    </tr>\n",
       "    <tr>\n",
       "      <th>2</th>\n",
       "      <td>events</td>\n",
       "      <td>healthcare</td>\n",
       "      <td>78796.0</td>\n",
       "      <td>unemployed</td>\n",
       "      <td>australia</td>\n",
       "    </tr>\n",
       "    <tr>\n",
       "      <th>3</th>\n",
       "      <td>paid_ads</td>\n",
       "      <td>retail</td>\n",
       "      <td>83843.0</td>\n",
       "      <td>NaN</td>\n",
       "      <td>australia</td>\n",
       "    </tr>\n",
       "    <tr>\n",
       "      <th>4</th>\n",
       "      <td>referral</td>\n",
       "      <td>education</td>\n",
       "      <td>85012.0</td>\n",
       "      <td>self_employed</td>\n",
       "      <td>europe</td>\n",
       "    </tr>\n",
       "    <tr>\n",
       "      <th>...</th>\n",
       "      <td>...</td>\n",
       "      <td>...</td>\n",
       "      <td>...</td>\n",
       "      <td>...</td>\n",
       "      <td>...</td>\n",
       "    </tr>\n",
       "    <tr>\n",
       "      <th>1457</th>\n",
       "      <td>referral</td>\n",
       "      <td>manufacturing</td>\n",
       "      <td>NaN</td>\n",
       "      <td>self_employed</td>\n",
       "      <td>north_america</td>\n",
       "    </tr>\n",
       "    <tr>\n",
       "      <th>1458</th>\n",
       "      <td>referral</td>\n",
       "      <td>technology</td>\n",
       "      <td>65259.0</td>\n",
       "      <td>student</td>\n",
       "      <td>europe</td>\n",
       "    </tr>\n",
       "    <tr>\n",
       "      <th>1459</th>\n",
       "      <td>paid_ads</td>\n",
       "      <td>technology</td>\n",
       "      <td>45688.0</td>\n",
       "      <td>student</td>\n",
       "      <td>north_america</td>\n",
       "    </tr>\n",
       "    <tr>\n",
       "      <th>1460</th>\n",
       "      <td>referral</td>\n",
       "      <td>NaN</td>\n",
       "      <td>71016.0</td>\n",
       "      <td>self_employed</td>\n",
       "      <td>north_america</td>\n",
       "    </tr>\n",
       "    <tr>\n",
       "      <th>1461</th>\n",
       "      <td>organic_search</td>\n",
       "      <td>finance</td>\n",
       "      <td>92855.0</td>\n",
       "      <td>student</td>\n",
       "      <td>north_america</td>\n",
       "    </tr>\n",
       "  </tbody>\n",
       "</table>\n",
       "<p>1462 rows × 5 columns</p>\n",
       "</div>"
      ],
      "text/plain": [
       "         lead_source       industry  annual_income employment_status  \\\n",
       "0           paid_ads            NaN        79450.0        unemployed   \n",
       "1       social_media         retail        46992.0          employed   \n",
       "2             events     healthcare        78796.0        unemployed   \n",
       "3           paid_ads         retail        83843.0               NaN   \n",
       "4           referral      education        85012.0     self_employed   \n",
       "...              ...            ...            ...               ...   \n",
       "1457        referral  manufacturing            NaN     self_employed   \n",
       "1458        referral     technology        65259.0           student   \n",
       "1459        paid_ads     technology        45688.0           student   \n",
       "1460        referral            NaN        71016.0     self_employed   \n",
       "1461  organic_search        finance        92855.0           student   \n",
       "\n",
       "           location  \n",
       "0     south_america  \n",
       "1     south_america  \n",
       "2         australia  \n",
       "3         australia  \n",
       "4            europe  \n",
       "...             ...  \n",
       "1457  north_america  \n",
       "1458         europe  \n",
       "1459  north_america  \n",
       "1460  north_america  \n",
       "1461  north_america  \n",
       "\n",
       "[1462 rows x 5 columns]"
      ]
     },
     "execution_count": 19,
     "metadata": {},
     "output_type": "execute_result"
    }
   ],
   "source": [
    "df[['lead_source','industry','annual_income','employment_status','location']]"
   ]
  },
  {
   "cell_type": "code",
   "execution_count": null,
   "id": "fd4ea4a1",
   "metadata": {},
   "outputs": [],
   "source": [
    "# Fill missing vilues with 0\n",
    "df['annual_income'] = df['annual_income'].fillna(0)"
   ]
  },
  {
   "cell_type": "code",
   "execution_count": null,
   "id": "1a88b95f",
   "metadata": {},
   "outputs": [],
   "source": [
    "# Loop through each cat col and replace NAN w/ NA str\n",
    "cat_cols = ['lead_source','industry','employment_status','location']\n",
    "\n",
    "for col in cat_cols:\n",
    "    df[col] = df[col].fillna('NA')"
   ]
  },
  {
   "cell_type": "markdown",
   "id": "03faa056",
   "metadata": {},
   "source": [
    "# Question 1\n",
    "\n",
    "What is the most frequent observation (mode) for the column `industry`?\n",
    "\n",
    "- `NA`\n",
    "- `technology`\n",
    "- `healthcare`\n",
    "- `retail`"
   ]
  },
  {
   "cell_type": "code",
   "execution_count": 22,
   "id": "0773717d",
   "metadata": {},
   "outputs": [
    {
     "data": {
      "text/plain": [
       "0    retail\n",
       "Name: industry, dtype: object"
      ]
     },
     "execution_count": 22,
     "metadata": {},
     "output_type": "execute_result"
    }
   ],
   "source": [
    "df['industry'].mode()"
   ]
  },
  {
   "cell_type": "markdown",
   "id": "25ae6df4",
   "metadata": {},
   "source": [
    "# Question 2\n",
    "\n",
    "Create the [correlation matrix](https://www.google.com/search?q=correlation+matrix) for the numerical features of your dataset. \n",
    "In a correlation matrix, you compute the correlation coefficient between every pair of features.\n",
    "\n",
    "What are the two features that have the biggest correlation?\n",
    "\n",
    "- `interaction_count` and `lead_score`\n",
    "- `number_of_courses_viewed` and `lead_score`\n",
    "- `number_of_courses_viewed` and `interaction_count`\n",
    "- `annual_income` and `interaction_count`\n",
    "\n",
    "Only consider the pairs above when answering this question."
   ]
  },
  {
   "cell_type": "markdown",
   "id": "87ea805e",
   "metadata": {},
   "source": [
    "# Split the data\n",
    "\n",
    "* Split your data in train/val/test sets with 60%/20%/20% distribution.\n",
    "* Use Scikit-Learn for that (the `train_test_split` function) and set the seed to `42`.\n",
    "* Make sure that the target value `y` is not in your dataframe."
   ]
  },
  {
   "cell_type": "code",
   "execution_count": 23,
   "id": "ab7c5a72",
   "metadata": {},
   "outputs": [],
   "source": [
    "# 80/20 split\n",
    "df_train_full, df_test = train_test_split(df, test_size=0.2, random_state=42)"
   ]
  },
  {
   "cell_type": "code",
   "execution_count": null,
   "id": "956a11bd",
   "metadata": {},
   "outputs": [],
   "source": [
    "# 60/20/20\n",
    "df_train, df_val = train_test_split(df_train_full, test_size=.25, random_state=42)"
   ]
  },
  {
   "cell_type": "code",
   "execution_count": 26,
   "id": "b3845f68",
   "metadata": {},
   "outputs": [],
   "source": [
    "# reset index\n",
    "df_full_train = df_train_full.reset_index(drop=True)\n",
    "df_train = df_train.reset_index(drop=True)\n",
    "df_val = df_val.reset_index(drop=True)\n",
    "df_test = df_test.reset_index(drop=True)"
   ]
  },
  {
   "cell_type": "code",
   "execution_count": 27,
   "id": "5a44f1f7",
   "metadata": {},
   "outputs": [],
   "source": [
    "y_train = df_train['converted']\n",
    "y_val = df_val['converted']\n",
    "y_test = df_test['converted']"
   ]
  },
  {
   "cell_type": "markdown",
   "id": "dae5db9b",
   "metadata": {},
   "source": [
    "# Question 3\n",
    "\n",
    "* Calculate the mutual information score between `y` and other categorical variables in the dataset. Use the training set only.\n",
    "* Round the scores to 2 decimals using `round(score, 2)`.\n",
    "\n",
    "Which of these variables has the biggest mutual information score?\n",
    "  \n",
    "- `industry`\n",
    "- `location`\n",
    "- `lead_source`\n",
    "- `employment_status`"
   ]
  },
  {
   "cell_type": "code",
   "execution_count": null,
   "id": "e8533718",
   "metadata": {},
   "outputs": [],
   "source": []
  },
  {
   "cell_type": "markdown",
   "id": "2c75a17d",
   "metadata": {},
   "source": [
    "# Question 4\n",
    "\n",
    "* Now let's train a logistic regression.\n",
    "* Remember that we have several categorical variables in the dataset. Include them using one-hot encoding.\n",
    "* Fit the model on the training dataset.\n",
    "    - To make sure the results are reproducible across different versions of Scikit-Learn, fit the model with these parameters:\n",
    "    - `model = LogisticRegression(solver='liblinear', C=1.0, max_iter=1000, random_state=42)`\n",
    "* Calculate the accuracy on the validation dataset and round it to 2 decimal digits.\n",
    "\n",
    "What accuracy did you get?\n",
    "\n",
    "- 0.64\n",
    "- 0.74\n",
    "- 0.84\n",
    "- 0.94"
   ]
  },
  {
   "cell_type": "code",
   "execution_count": null,
   "id": "4d562018",
   "metadata": {},
   "outputs": [],
   "source": []
  },
  {
   "cell_type": "markdown",
   "id": "1ee656c8",
   "metadata": {},
   "source": [
    "# Question 5 \n",
    "\n",
    "* Let's find the least useful feature using the *feature elimination* technique.\n",
    "* Train a model using the same features and parameters as in Q4 (without rounding).\n",
    "* Now exclude each feature from this set and train a model without it. Record the accuracy for each model.\n",
    "* For each feature, calculate the difference between the original accuracy and the accuracy without the feature. \n",
    "\n",
    "Which of following feature has the smallest difference?\n",
    "\n",
    "- `'industry'`\n",
    "- `'employment_status'`\n",
    "- `'lead_score'`\n",
    "\n",
    "> **Note**: The difference doesn't have to be positive.\n"
   ]
  },
  {
   "cell_type": "code",
   "execution_count": null,
   "id": "0ad3fa75",
   "metadata": {},
   "outputs": [],
   "source": []
  },
  {
   "cell_type": "markdown",
   "id": "3d96269a",
   "metadata": {},
   "source": [
    "# Question 6\n",
    "\n",
    "* Now let's train a regularized logistic regression.\n",
    "* Let's try the following values of the parameter `C`: `[0.01, 0.1, 1, 10, 100]`.\n",
    "* Train models using all the features as in Q4.\n",
    "* Calculate the accuracy on the validation dataset and round it to 3 decimal digits.\n",
    "\n",
    "Which of these `C` leads to the best accuracy on the validation set?\n",
    "\n",
    "- 0.01\n",
    "- 0.1\n",
    "- 1\n",
    "- 10\n",
    "- 100\n",
    "\n",
    "> **Note**: If there are multiple options, select the smallest `C`."
   ]
  },
  {
   "cell_type": "code",
   "execution_count": null,
   "id": "9fcb195e",
   "metadata": {},
   "outputs": [],
   "source": []
  }
 ],
 "metadata": {
  "kernelspec": {
   "display_name": "base",
   "language": "python",
   "name": "python3"
  },
  "language_info": {
   "codemirror_mode": {
    "name": "ipython",
    "version": 3
   },
   "file_extension": ".py",
   "mimetype": "text/x-python",
   "name": "python",
   "nbconvert_exporter": "python",
   "pygments_lexer": "ipython3",
   "version": "3.13.5"
  }
 },
 "nbformat": 4,
 "nbformat_minor": 5
}

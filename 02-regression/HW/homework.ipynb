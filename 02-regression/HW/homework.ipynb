{
 "cells": [
  {
   "cell_type": "code",
   "execution_count": 1,
   "id": "32286e3d",
   "metadata": {},
   "outputs": [],
   "source": [
    "import pandas as pd\n",
    "import numpy as np\n",
    "import seaborn as sns\n",
    "import matplotlib.pyplot as plt"
   ]
  },
  {
   "cell_type": "code",
   "execution_count": 2,
   "id": "53b1f01e",
   "metadata": {},
   "outputs": [
    {
     "data": {
      "application/vnd.microsoft.datawrangler.viewer.v0+json": {
       "columns": [
        {
         "name": "index",
         "rawType": "int64",
         "type": "integer"
        },
        {
         "name": "engine_displacement",
         "rawType": "int64",
         "type": "integer"
        },
        {
         "name": "num_cylinders",
         "rawType": "float64",
         "type": "float"
        },
        {
         "name": "horsepower",
         "rawType": "float64",
         "type": "float"
        },
        {
         "name": "vehicle_weight",
         "rawType": "float64",
         "type": "float"
        },
        {
         "name": "acceleration",
         "rawType": "float64",
         "type": "float"
        },
        {
         "name": "model_year",
         "rawType": "int64",
         "type": "integer"
        },
        {
         "name": "origin",
         "rawType": "object",
         "type": "string"
        },
        {
         "name": "fuel_type",
         "rawType": "object",
         "type": "string"
        },
        {
         "name": "drivetrain",
         "rawType": "object",
         "type": "string"
        },
        {
         "name": "num_doors",
         "rawType": "float64",
         "type": "float"
        },
        {
         "name": "fuel_efficiency_mpg",
         "rawType": "float64",
         "type": "float"
        }
       ],
       "ref": "4b6aeae2-1152-413d-9d07-c6ef0a2b48dc",
       "rows": [
        [
         "0",
         "170",
         "3.0",
         "159.0",
         "3413.433758606219",
         "17.7",
         "2003",
         "Europe",
         "Gasoline",
         "All-wheel drive",
         "0.0",
         "13.231728906241411"
        ],
        [
         "1",
         "130",
         "5.0",
         "97.0",
         "3149.664934220036",
         "17.8",
         "2007",
         "USA",
         "Gasoline",
         "Front-wheel drive",
         "0.0",
         "13.688217435463793"
        ],
        [
         "2",
         "170",
         null,
         "78.0",
         "3079.03899736884",
         "15.1",
         "2018",
         "Europe",
         "Gasoline",
         "Front-wheel drive",
         "0.0",
         "14.246340998160866"
        ],
        [
         "3",
         "220",
         "4.0",
         null,
         "2542.392401828378",
         "20.2",
         "2009",
         "USA",
         "Diesel",
         "All-wheel drive",
         "2.0",
         "16.91273559598635"
        ],
        [
         "4",
         "210",
         "1.0",
         "140.0",
         "3460.870989989018",
         "14.4",
         "2009",
         "Europe",
         "Gasoline",
         "All-wheel drive",
         "2.0",
         "12.488369121964562"
        ]
       ],
       "shape": {
        "columns": 11,
        "rows": 5
       }
      },
      "text/html": [
       "<div>\n",
       "<style scoped>\n",
       "    .dataframe tbody tr th:only-of-type {\n",
       "        vertical-align: middle;\n",
       "    }\n",
       "\n",
       "    .dataframe tbody tr th {\n",
       "        vertical-align: top;\n",
       "    }\n",
       "\n",
       "    .dataframe thead th {\n",
       "        text-align: right;\n",
       "    }\n",
       "</style>\n",
       "<table border=\"1\" class=\"dataframe\">\n",
       "  <thead>\n",
       "    <tr style=\"text-align: right;\">\n",
       "      <th></th>\n",
       "      <th>engine_displacement</th>\n",
       "      <th>num_cylinders</th>\n",
       "      <th>horsepower</th>\n",
       "      <th>vehicle_weight</th>\n",
       "      <th>acceleration</th>\n",
       "      <th>model_year</th>\n",
       "      <th>origin</th>\n",
       "      <th>fuel_type</th>\n",
       "      <th>drivetrain</th>\n",
       "      <th>num_doors</th>\n",
       "      <th>fuel_efficiency_mpg</th>\n",
       "    </tr>\n",
       "  </thead>\n",
       "  <tbody>\n",
       "    <tr>\n",
       "      <th>0</th>\n",
       "      <td>170</td>\n",
       "      <td>3.0</td>\n",
       "      <td>159.0</td>\n",
       "      <td>3413.433759</td>\n",
       "      <td>17.7</td>\n",
       "      <td>2003</td>\n",
       "      <td>Europe</td>\n",
       "      <td>Gasoline</td>\n",
       "      <td>All-wheel drive</td>\n",
       "      <td>0.0</td>\n",
       "      <td>13.231729</td>\n",
       "    </tr>\n",
       "    <tr>\n",
       "      <th>1</th>\n",
       "      <td>130</td>\n",
       "      <td>5.0</td>\n",
       "      <td>97.0</td>\n",
       "      <td>3149.664934</td>\n",
       "      <td>17.8</td>\n",
       "      <td>2007</td>\n",
       "      <td>USA</td>\n",
       "      <td>Gasoline</td>\n",
       "      <td>Front-wheel drive</td>\n",
       "      <td>0.0</td>\n",
       "      <td>13.688217</td>\n",
       "    </tr>\n",
       "    <tr>\n",
       "      <th>2</th>\n",
       "      <td>170</td>\n",
       "      <td>NaN</td>\n",
       "      <td>78.0</td>\n",
       "      <td>3079.038997</td>\n",
       "      <td>15.1</td>\n",
       "      <td>2018</td>\n",
       "      <td>Europe</td>\n",
       "      <td>Gasoline</td>\n",
       "      <td>Front-wheel drive</td>\n",
       "      <td>0.0</td>\n",
       "      <td>14.246341</td>\n",
       "    </tr>\n",
       "    <tr>\n",
       "      <th>3</th>\n",
       "      <td>220</td>\n",
       "      <td>4.0</td>\n",
       "      <td>NaN</td>\n",
       "      <td>2542.392402</td>\n",
       "      <td>20.2</td>\n",
       "      <td>2009</td>\n",
       "      <td>USA</td>\n",
       "      <td>Diesel</td>\n",
       "      <td>All-wheel drive</td>\n",
       "      <td>2.0</td>\n",
       "      <td>16.912736</td>\n",
       "    </tr>\n",
       "    <tr>\n",
       "      <th>4</th>\n",
       "      <td>210</td>\n",
       "      <td>1.0</td>\n",
       "      <td>140.0</td>\n",
       "      <td>3460.870990</td>\n",
       "      <td>14.4</td>\n",
       "      <td>2009</td>\n",
       "      <td>Europe</td>\n",
       "      <td>Gasoline</td>\n",
       "      <td>All-wheel drive</td>\n",
       "      <td>2.0</td>\n",
       "      <td>12.488369</td>\n",
       "    </tr>\n",
       "  </tbody>\n",
       "</table>\n",
       "</div>"
      ],
      "text/plain": [
       "   engine_displacement  num_cylinders  horsepower  vehicle_weight  \\\n",
       "0                  170            3.0       159.0     3413.433759   \n",
       "1                  130            5.0        97.0     3149.664934   \n",
       "2                  170            NaN        78.0     3079.038997   \n",
       "3                  220            4.0         NaN     2542.392402   \n",
       "4                  210            1.0       140.0     3460.870990   \n",
       "\n",
       "   acceleration  model_year  origin fuel_type         drivetrain  num_doors  \\\n",
       "0          17.7        2003  Europe  Gasoline    All-wheel drive        0.0   \n",
       "1          17.8        2007     USA  Gasoline  Front-wheel drive        0.0   \n",
       "2          15.1        2018  Europe  Gasoline  Front-wheel drive        0.0   \n",
       "3          20.2        2009     USA    Diesel    All-wheel drive        2.0   \n",
       "4          14.4        2009  Europe  Gasoline    All-wheel drive        2.0   \n",
       "\n",
       "   fuel_efficiency_mpg  \n",
       "0            13.231729  \n",
       "1            13.688217  \n",
       "2            14.246341  \n",
       "3            16.912736  \n",
       "4            12.488369  "
      ]
     },
     "execution_count": 2,
     "metadata": {},
     "output_type": "execute_result"
    }
   ],
   "source": [
    "df = pd.read_csv('https://raw.githubusercontent.com/alexeygrigorev/datasets/master/car_fuel_efficiency.csv')\n",
    "df.head()"
   ]
  },
  {
   "cell_type": "markdown",
   "id": "2117354f",
   "metadata": {},
   "source": [
    "### Preparing the dataset \n",
    "\n",
    "Use only the following columns:\n",
    "\n",
    "* `'engine_displacement'`,\n",
    "* `'horsepower'`,\n",
    "* `'vehicle_weight'`,\n",
    "* `'model_year'`,\n",
    "* `'fuel_efficiency_mpg'`\n"
   ]
  },
  {
   "cell_type": "code",
   "execution_count": 3,
   "id": "7175e0e1",
   "metadata": {},
   "outputs": [
    {
     "data": {
      "application/vnd.microsoft.datawrangler.viewer.v0+json": {
       "columns": [
        {
         "name": "index",
         "rawType": "int64",
         "type": "integer"
        },
        {
         "name": "engine_displacement",
         "rawType": "int64",
         "type": "integer"
        },
        {
         "name": "horsepower",
         "rawType": "float64",
         "type": "float"
        },
        {
         "name": "vehicle_weight",
         "rawType": "float64",
         "type": "float"
        },
        {
         "name": "model_year",
         "rawType": "int64",
         "type": "integer"
        },
        {
         "name": "fuel_efficiency_mpg",
         "rawType": "float64",
         "type": "float"
        }
       ],
       "ref": "70fbf2b1-f2eb-49ba-ad70-1cd59e8b1902",
       "rows": [
        [
         "0",
         "170",
         "159.0",
         "3413.433758606219",
         "2003",
         "13.231728906241411"
        ],
        [
         "1",
         "130",
         "97.0",
         "3149.664934220036",
         "2007",
         "13.688217435463793"
        ],
        [
         "2",
         "170",
         "78.0",
         "3079.03899736884",
         "2018",
         "14.246340998160866"
        ],
        [
         "3",
         "220",
         null,
         "2542.392401828378",
         "2009",
         "16.91273559598635"
        ],
        [
         "4",
         "210",
         "140.0",
         "3460.870989989018",
         "2009",
         "12.488369121964562"
        ]
       ],
       "shape": {
        "columns": 5,
        "rows": 5
       }
      },
      "text/html": [
       "<div>\n",
       "<style scoped>\n",
       "    .dataframe tbody tr th:only-of-type {\n",
       "        vertical-align: middle;\n",
       "    }\n",
       "\n",
       "    .dataframe tbody tr th {\n",
       "        vertical-align: top;\n",
       "    }\n",
       "\n",
       "    .dataframe thead th {\n",
       "        text-align: right;\n",
       "    }\n",
       "</style>\n",
       "<table border=\"1\" class=\"dataframe\">\n",
       "  <thead>\n",
       "    <tr style=\"text-align: right;\">\n",
       "      <th></th>\n",
       "      <th>engine_displacement</th>\n",
       "      <th>horsepower</th>\n",
       "      <th>vehicle_weight</th>\n",
       "      <th>model_year</th>\n",
       "      <th>fuel_efficiency_mpg</th>\n",
       "    </tr>\n",
       "  </thead>\n",
       "  <tbody>\n",
       "    <tr>\n",
       "      <th>0</th>\n",
       "      <td>170</td>\n",
       "      <td>159.0</td>\n",
       "      <td>3413.433759</td>\n",
       "      <td>2003</td>\n",
       "      <td>13.231729</td>\n",
       "    </tr>\n",
       "    <tr>\n",
       "      <th>1</th>\n",
       "      <td>130</td>\n",
       "      <td>97.0</td>\n",
       "      <td>3149.664934</td>\n",
       "      <td>2007</td>\n",
       "      <td>13.688217</td>\n",
       "    </tr>\n",
       "    <tr>\n",
       "      <th>2</th>\n",
       "      <td>170</td>\n",
       "      <td>78.0</td>\n",
       "      <td>3079.038997</td>\n",
       "      <td>2018</td>\n",
       "      <td>14.246341</td>\n",
       "    </tr>\n",
       "    <tr>\n",
       "      <th>3</th>\n",
       "      <td>220</td>\n",
       "      <td>NaN</td>\n",
       "      <td>2542.392402</td>\n",
       "      <td>2009</td>\n",
       "      <td>16.912736</td>\n",
       "    </tr>\n",
       "    <tr>\n",
       "      <th>4</th>\n",
       "      <td>210</td>\n",
       "      <td>140.0</td>\n",
       "      <td>3460.870990</td>\n",
       "      <td>2009</td>\n",
       "      <td>12.488369</td>\n",
       "    </tr>\n",
       "  </tbody>\n",
       "</table>\n",
       "</div>"
      ],
      "text/plain": [
       "   engine_displacement  horsepower  vehicle_weight  model_year  \\\n",
       "0                  170       159.0     3413.433759        2003   \n",
       "1                  130        97.0     3149.664934        2007   \n",
       "2                  170        78.0     3079.038997        2018   \n",
       "3                  220         NaN     2542.392402        2009   \n",
       "4                  210       140.0     3460.870990        2009   \n",
       "\n",
       "   fuel_efficiency_mpg  \n",
       "0            13.231729  \n",
       "1            13.688217  \n",
       "2            14.246341  \n",
       "3            16.912736  \n",
       "4            12.488369  "
      ]
     },
     "execution_count": 3,
     "metadata": {},
     "output_type": "execute_result"
    }
   ],
   "source": [
    "df = df[['engine_displacement','horsepower','vehicle_weight','model_year','fuel_efficiency_mpg']]\n",
    "df.head()"
   ]
  },
  {
   "cell_type": "markdown",
   "id": "588a52ec",
   "metadata": {},
   "source": [
    "### EDA\n",
    "\n",
    "* Look at the `fuel_efficiency_mpg` variable. Does it have a long tail? "
   ]
  },
  {
   "cell_type": "code",
   "execution_count": 4,
   "id": "5ead3403",
   "metadata": {},
   "outputs": [
    {
     "data": {
      "text/plain": [
       "Text(0.5, 1.0, 'Fuel Efficiency Distribution')"
      ]
     },
     "execution_count": 4,
     "metadata": {},
     "output_type": "execute_result"
    },
    {
     "data": {
      "image/png": "[encoded data removed]",
      "text/plain": [
       "<Figure size 640x480 with 1 Axes>"
      ]
     },
     "metadata": {},
     "output_type": "display_data"
    }
   ],
   "source": [
    "sns.histplot(df['fuel_efficiency_mpg'],kde=True)\n",
    "plt.ylabel('Frequency')\n",
    "plt.title('Fuel Efficiency Distribution')"
   ]
  },
  {
   "cell_type": "markdown",
   "id": "d58f8c76",
   "metadata": {},
   "source": [
    "There is not tail in this distribution. It is a normal distribution."
   ]
  },
  {
   "cell_type": "markdown",
   "id": "f7d6b481",
   "metadata": {},
   "source": [
    "### Question 1\n",
    "\n",
    "There's one column with missing values. What is it?\n",
    "\n",
    "* `'engine_displacement'`\n",
    "* `'horsepower'`\n",
    "* `'vehicle_weight'`\n",
    "* `'model_year'`"
   ]
  },
  {
   "cell_type": "code",
   "execution_count": 5,
   "id": "ec651326",
   "metadata": {},
   "outputs": [
    {
     "data": {
      "application/vnd.microsoft.datawrangler.viewer.v0+json": {
       "columns": [
        {
         "name": "index",
         "rawType": "object",
         "type": "string"
        },
        {
         "name": "0",
         "rawType": "int64",
         "type": "integer"
        }
       ],
       "ref": "481c7e89-99a2-4198-80cb-62f94e2df707",
       "rows": [
        [
         "engine_displacement",
         "0"
        ],
        [
         "horsepower",
         "708"
        ],
        [
         "vehicle_weight",
         "0"
        ],
        [
         "model_year",
         "0"
        ],
        [
         "fuel_efficiency_mpg",
         "0"
        ]
       ],
       "shape": {
        "columns": 1,
        "rows": 5
       }
      },
      "text/plain": [
       "engine_displacement      0\n",
       "horsepower             708\n",
       "vehicle_weight           0\n",
       "model_year               0\n",
       "fuel_efficiency_mpg      0\n",
       "dtype: int64"
      ]
     },
     "execution_count": 5,
     "metadata": {},
     "output_type": "execute_result"
    }
   ],
   "source": [
    "df.isnull().sum()"
   ]
  },
  {
   "cell_type": "markdown",
   "id": "88bb7b6d",
   "metadata": {},
   "source": [
    "### Question 2\n",
    "\n",
    "What's the median (50% percentile) for variable `'horsepower'`?\n",
    "\n",
    "- 49\n",
    "- 99\n",
    "- 149\n",
    "- 199"
   ]
  },
  {
   "cell_type": "code",
   "execution_count": 6,
   "id": "c55fc9dd",
   "metadata": {},
   "outputs": [
    {
     "data": {
      "text/plain": [
       "149.0"
      ]
     },
     "execution_count": 6,
     "metadata": {},
     "output_type": "execute_result"
    }
   ],
   "source": [
    "df['horsepower'].median()"
   ]
  },
  {
   "cell_type": "markdown",
   "id": "4be48a16",
   "metadata": {},
   "source": [
    "### Prepare and split the dataset\n",
    "\n",
    "* Shuffle the dataset (the filtered one you created above), use seed `42`.\n",
    "* Split your data in train/val/test sets, with 60%/20%/20% distribution.\n",
    "* Use the same code as in the lectures"
   ]
  },
  {
   "cell_type": "code",
   "execution_count": 7,
   "id": "ddbbcd34",
   "metadata": {},
   "outputs": [],
   "source": [
    "# size of each data-set\n",
    "n = len(df)\n",
    "n_val = int(n * 0.2)\n",
    "n_test = int(n * 0.2)\n",
    "n_train = n - (n_val + n_test)"
   ]
  },
  {
   "cell_type": "code",
   "execution_count": 8,
   "id": "1f81bf81",
   "metadata": {},
   "outputs": [],
   "source": [
    "#shuffling the data\n",
    "np.random.seed(42)\n",
    "idx = np.arange(n)\n",
    "np.random.shuffle(idx)\n",
    "\n",
    "df_shuffle = df.iloc[idx]"
   ]
  },
  {
   "cell_type": "code",
   "execution_count": 9,
   "id": "64dc74ca",
   "metadata": {},
   "outputs": [],
   "source": [
    "# splitting the data\n",
    "df_train = df_shuffle.iloc[:n_train].reset_index(drop=True)\n",
    "df_val = df_shuffle.iloc[n_train:n_train + n_val].reset_index(drop=True)\n",
    "df_test = df_shuffle.iloc[n_train+n_val:].reset_index(drop=True)"
   ]
  },
  {
   "cell_type": "code",
   "execution_count": 40,
   "id": "384413e6",
   "metadata": {},
   "outputs": [],
   "source": [
    "# original values from the target\n",
    "y_train = df_train['fuel_efficiency_mpg'].values\n",
    "y_val = df_val['fuel_efficiency_mpg'].values\n",
    "y_test = df_test['fuel_efficiency_mpg'].values"
   ]
  },
  {
   "cell_type": "code",
   "execution_count": 11,
   "id": "e3c452e3",
   "metadata": {},
   "outputs": [],
   "source": [
    "# To avoid accidentally using the target variable\n",
    "del df_train['fuel_efficiency_mpg']\n",
    "del df_val['fuel_efficiency_mpg']\n",
    "del df_test['fuel_efficiency_mpg']"
   ]
  },
  {
   "cell_type": "markdown",
   "id": "9efa7c54",
   "metadata": {},
   "source": [
    "### Question 3\n",
    "\n",
    "* We need to deal with missing values for the column from Q1.\n",
    "* We have two options: fill it with 0 or with the mean of this variable.\n",
    "* Try both options. For each, train a linear regression model without regularization using the code from the lessons.\n",
    "* For computing the mean, use the training only!\n",
    "* Use the validation dataset to evaluate the models and compare the RMSE of each option.\n",
    "* Round the RMSE scores to 2 decimal digits using `round(score, 2)`\n",
    "* Which option gives better RMSE?\n",
    "\n",
    "Options:\n",
    "\n",
    "- With 0\n",
    "- With mean\n",
    "- Both are equally good"
   ]
  },
  {
   "cell_type": "code",
   "execution_count": null,
   "id": "6e383eed",
   "metadata": {},
   "outputs": [],
   "source": [
    "df_train.columns"
   ]
  },
  {
   "cell_type": "code",
   "execution_count": 27,
   "id": "8afb2898",
   "metadata": {},
   "outputs": [],
   "source": [
    "base_feat = ['engine_displacement', 'horsepower', 'vehicle_weight', 'model_year']\n",
    "\n",
    "def prepare_x(df: pd.DataFrame, na_values: float):\n",
    "    df_num = df[base_feat]\n",
    "    df_num = df_num.fillna(na_values)\n",
    "\n",
    "    X = df_num.values\n",
    "\n",
    "    return X"
   ]
  },
  {
   "cell_type": "code",
   "execution_count": 13,
   "id": "9342072b",
   "metadata": {},
   "outputs": [],
   "source": [
    "def train_linear_regression(X: np.ndarray, y: np.ndarray):\n",
    "    X0 = np.ones(X.shape[0])\n",
    "    X = np.column_stack([X0, X])\n",
    "\n",
    "    XTX = X.T.dot(X)\n",
    "    XTX_inv = np.linalg.inv(XTX)\n",
    "\n",
    "    w = XTX_inv.dot(X.T).dot(y) # remember\n",
    "\n",
    "    return w[0], w[1:]"
   ]
  },
  {
   "cell_type": "code",
   "execution_count": 14,
   "id": "256fd0fd",
   "metadata": {},
   "outputs": [],
   "source": [
    "def rmse(y_actual: np.ndarray, y_pred: np.ndarray):\n",
    "    se = (y_actual - y_pred)**2\n",
    "    mse = se.mean()\n",
    "    rmse = np.sqrt(mse)\n",
    "\n",
    "    return rmse"
   ]
  },
  {
   "cell_type": "markdown",
   "id": "dbfc5e24",
   "metadata": {},
   "source": [
    "#### Linear Regression (Mean)"
   ]
  },
  {
   "cell_type": "code",
   "execution_count": 15,
   "id": "be364e3a",
   "metadata": {},
   "outputs": [
    {
     "data": {
      "text/plain": [
       "(np.float64(28.925259952138884),\n",
       " array([ 0.00012093,  0.01030308, -0.00501009, -0.00023463]))"
      ]
     },
     "execution_count": 15,
     "metadata": {},
     "output_type": "execute_result"
    }
   ],
   "source": [
    "mean = df_train['horsepower'].mean()\n",
    "\n",
    "X_train = prepare_x(df_train, na_values=mean)\n",
    "w0, w = train_linear_regression(X_train, y_train) \n",
    "\n",
    "w0, w"
   ]
  },
  {
   "cell_type": "code",
   "execution_count": 16,
   "id": "55602a6f",
   "metadata": {},
   "outputs": [
    {
     "data": {
      "text/plain": [
       "np.float64(0.46)"
      ]
     },
     "execution_count": 16,
     "metadata": {},
     "output_type": "execute_result"
    }
   ],
   "source": [
    "X_val = prepare_x(df_val, na_values=mean)\n",
    "\n",
    "y_mean_predict = w0 + X_val.dot(w)\n",
    "\n",
    "mean_score = round(rmse(y_val, y_mean_predict),2)\n",
    "mean_score"
   ]
  },
  {
   "cell_type": "markdown",
   "id": "746a13ce",
   "metadata": {},
   "source": [
    "#### Linear Regression (Zero)"
   ]
  },
  {
   "cell_type": "code",
   "execution_count": 17,
   "id": "ceb36f6e",
   "metadata": {},
   "outputs": [
    {
     "data": {
      "text/plain": [
       "(np.float64(28.827365475110508),\n",
       " array([ 9.93613218e-05,  3.54221891e-03, -5.01328015e-03,  3.42992869e-04]))"
      ]
     },
     "execution_count": 17,
     "metadata": {},
     "output_type": "execute_result"
    }
   ],
   "source": [
    "X_train = prepare_x(df_train, na_values=0)\n",
    "\n",
    "w0, w = train_linear_regression(X_train, y_train)\n",
    "\n",
    "w0, w"
   ]
  },
  {
   "cell_type": "code",
   "execution_count": 18,
   "id": "1399cb59",
   "metadata": {},
   "outputs": [
    {
     "data": {
      "text/plain": [
       "np.float64(0.52)"
      ]
     },
     "execution_count": 18,
     "metadata": {},
     "output_type": "execute_result"
    }
   ],
   "source": [
    "X_val = prepare_x(df_val, na_values=0)\n",
    "\n",
    "y0_predict = w0 + X_val.dot(w)\n",
    "\n",
    "zero_score = round(rmse(y_val, y0_predict),2)\n",
    "zero_score"
   ]
  },
  {
   "cell_type": "code",
   "execution_count": 19,
   "id": "8a2f7d3c",
   "metadata": {},
   "outputs": [
    {
     "data": {
      "text/plain": [
       "<matplotlib.legend.Legend at 0x212a069c440>"
      ]
     },
     "execution_count": 19,
     "metadata": {},
     "output_type": "execute_result"
    },
    {
     "data": {
      "image/png": "[encoded data removed]",
      "text/plain": [
       "<Figure size 640x480 with 1 Axes>"
      ]
     },
     "metadata": {},
     "output_type": "display_data"
    }
   ],
   "source": [
    "sns.histplot(y_val, label='Target' , color='blue', alpha=0.5, bins=50)\n",
    "sns.histplot(y_mean_predict, label='Prediction' , color='red', alpha=0.5, bins=50)\n",
    "plt.legend()"
   ]
  },
  {
   "cell_type": "markdown",
   "id": "e64d6eaf",
   "metadata": {},
   "source": [
    "### Question 4\n",
    "\n",
    "* Now let's train a regularized linear regression.\n",
    "* For this question, fill the NAs with 0. \n",
    "* Try different values of `r` from this list: `[0, 0.01, 0.1, 1, 5, 10, 100]`.\n",
    "* Use RMSE to evaluate the model on the validation dataset.\n",
    "* Round the RMSE scores to 2 decimal digits.\n",
    "* Which `r` gives the best RMSE?\n",
    "\n",
    "If there are multiple options, select the smallest `r`.\n",
    "\n",
    "Options:\n",
    "\n",
    "- 0\n",
    "- 0.01\n",
    "- 1\n",
    "- 10\n",
    "- 100"
   ]
  },
  {
   "cell_type": "code",
   "execution_count": 20,
   "id": "ca9acc94",
   "metadata": {},
   "outputs": [],
   "source": [
    "def train_linear_regression_reg(X: np.ndarray, y: np.ndarray, alpha: float = 0):\n",
    "    X0 = np.ones(X.shape[0])\n",
    "    X = np.column_stack([X0, X])\n",
    "\n",
    "    XTX = X.T.dot(X)\n",
    "    XTX = XTX + alpha * np.eye(XTX.shape[0]) # remember\n",
    "\n",
    "    XTX_inv = np.linalg.inv(XTX)\n",
    "\n",
    "    w = XTX_inv.dot(X.T).dot(y) # remember\n",
    "\n",
    "    return w[0], w[1:]"
   ]
  },
  {
   "cell_type": "code",
   "execution_count": 21,
   "id": "9139dc0b",
   "metadata": {},
   "outputs": [
    {
     "name": "stdout",
     "output_type": "stream",
     "text": [
      "alpha = 0     |  RMSE = 0.52\n",
      "alpha = 0.01  |  RMSE = 0.52\n",
      "alpha = 0.1   |  RMSE = 0.52\n",
      "alpha = 1     |  RMSE = 0.52\n",
      "alpha = 5     |  RMSE = 0.52\n",
      "alpha = 10    |  RMSE = 0.52\n",
      "alpha = 100   |  RMSE = 0.52\n"
     ]
    }
   ],
   "source": [
    "for a in [0, 0.01, 0.1, 1, 5, 10, 100]:\n",
    "    w_0, w = train_linear_regression_reg(X_train, y_train, alpha=a)\n",
    "    y_val_pred = w_0 + X_val.dot(w)\n",
    "    rmse_val = np.round(rmse(y0_predict, y_val),2)\n",
    "    print(f'alpha = {a:<4}  |  RMSE = {rmse_val}')\n",
    "    "
   ]
  },
  {
   "cell_type": "markdown",
   "id": "b018bdac",
   "metadata": {},
   "source": [
    "### Question 5 \n",
    "\n",
    "* We used seed 42 for splitting the data. Let's find out how selecting the seed influences our score.\n",
    "* Try different seed values: `[0, 1, 2, 3, 4, 5, 6, 7, 8, 9]`.\n",
    "* For each seed, do the train/validation/test split with 60%/20%/20% distribution.\n",
    "* Fill the missing values with 0 and train a model without regularization.\n",
    "* For each seed, evaluate the model on the validation dataset and collect the RMSE scores. \n",
    "* What's the standard deviation of all the scores? To compute the standard deviation, use `np.std`.\n",
    "* Round the result to 3 decimal digits (`round(std, 3)`)\n",
    "\n",
    "What's the value of std?\n",
    "\n",
    "- 0.001\n",
    "- 0.006\n",
    "- 0.060\n",
    "- 0.600"
   ]
  },
  {
   "cell_type": "code",
   "execution_count": 33,
   "id": "8ddd935c",
   "metadata": {},
   "outputs": [
    {
     "name": "stdout",
     "output_type": "stream",
     "text": [
      "Seed:0 -> RMSE Score: 0.521\n",
      "Seed:1 -> RMSE Score: 0.521\n",
      "Seed:2 -> RMSE Score: 0.523\n",
      "Seed:3 -> RMSE Score: 0.516\n",
      "Seed:4 -> RMSE Score: 0.511\n",
      "Seed:5 -> RMSE Score: 0.528\n",
      "Seed:6 -> RMSE Score: 0.531\n",
      "Seed:7 -> RMSE Score: 0.509\n",
      "Seed:8 -> RMSE Score: 0.515\n",
      "Seed:9 -> RMSE Score: 0.513\n"
     ]
    }
   ],
   "source": [
    "seeds = [0, 1, 2, 3, 4, 5, 6, 7, 8, 9]\n",
    "rmse_scores = []\n",
    "\n",
    "for seed in seeds:\n",
    "    #set each seed at the start of each loop\n",
    "    np.random.seed(seed)\n",
    "\n",
    "    n = len(df)\n",
    "    n_val = int(n * 0.2)\n",
    "    n_test = int(n * 0.2)\n",
    "    n_train = n - (n_val + n_test)\n",
    "\n",
    "    idx = np.arange(n)\n",
    "    np.random.shuffle(idx)\n",
    "\n",
    "    df_shuffle = df.iloc[idx]\n",
    "    df_train = df_shuffle.iloc[:n_train].reset_index(drop=True)\n",
    "    df_val = df_shuffle.iloc[n_train:n_train + n_val].reset_index(drop=True)\n",
    "    df_test = df_shuffle.iloc[n_train+n_val:].reset_index(drop=True)\n",
    "\n",
    "    y_train = df_train['fuel_efficiency_mpg'].values\n",
    "    y_val = df_val['fuel_efficiency_mpg'].values\n",
    "\n",
    "    X_train = prepare_x(df_train, na_values=0)\n",
    "    w0, w = train_linear_regression(X_train, y_train)\n",
    "\n",
    "    X_val = prepare_x(df_val, na_values=0)\n",
    "    y_pred  = w0 + X_val.dot(w)\n",
    "\n",
    "    score = rmse(y_val, y_pred)\n",
    "\n",
    "    \n",
    "    rmse_scores.append(score)\n",
    "\n",
    "    print(f'Seed:{seed} -> RMSE Score: {round(score,3)}')\n",
    "\n",
    "    "
   ]
  },
  {
   "cell_type": "code",
   "execution_count": 23,
   "id": "0a4c3f34",
   "metadata": {},
   "outputs": [
    {
     "data": {
      "text/plain": [
       "[np.float64(0.5206531296316911),\n",
       " np.float64(0.5213388912859871),\n",
       " np.float64(0.5228069974798277),\n",
       " np.float64(0.5159516741269471),\n",
       " np.float64(0.5109129460114398),\n",
       " np.float64(0.5283406460161202),\n",
       " np.float64(0.5313910658166271),\n",
       " np.float64(0.5090670387373443),\n",
       " np.float64(0.514739912942597),\n",
       " np.float64(0.5131865908322948)]"
      ]
     },
     "execution_count": 23,
     "metadata": {},
     "output_type": "execute_result"
    }
   ],
   "source": [
    "rmse_scores"
   ]
  },
  {
   "cell_type": "code",
   "execution_count": 36,
   "id": "4439f05b",
   "metadata": {},
   "outputs": [
    {
     "data": {
      "text/plain": [
       "0.00699"
      ]
     },
     "execution_count": 36,
     "metadata": {},
     "output_type": "execute_result"
    }
   ],
   "source": [
    "round(np.std(rmse_scores), 5)"
   ]
  },
  {
   "cell_type": "markdown",
   "id": "4f19dfdf",
   "metadata": {},
   "source": [
    "### Question 6\n",
    "\n",
    "* Split the dataset like previously, use seed 9.\n",
    "* Combine train and validation datasets.\n",
    "* Fill the missing values with 0 and train a model with `r=0.001`. \n",
    "* What's the RMSE on the test dataset?\n",
    "\n",
    "Options:\n",
    "\n",
    "- 0.15\n",
    "- 0.515\n",
    "- 5.15\n",
    "- 51.5"
   ]
  },
  {
   "cell_type": "code",
   "execution_count": 36,
   "id": "67458f1b",
   "metadata": {},
   "outputs": [
    {
     "data": {
      "application/vnd.microsoft.datawrangler.viewer.v0+json": {
       "columns": [
        {
         "name": "index",
         "rawType": "int64",
         "type": "integer"
        },
        {
         "name": "engine_displacement",
         "rawType": "int64",
         "type": "integer"
        },
        {
         "name": "horsepower",
         "rawType": "float64",
         "type": "float"
        },
        {
         "name": "vehicle_weight",
         "rawType": "float64",
         "type": "float"
        },
        {
         "name": "model_year",
         "rawType": "int64",
         "type": "integer"
        },
        {
         "name": "fuel_efficiency_mpg",
         "rawType": "float64",
         "type": "float"
        }
       ],
       "ref": "234fe8c5-851e-48db-a2e2-f8a62be28220",
       "rows": [
        [
         "9066",
         "240",
         "136.0",
         "4050.5122895707536",
         "2006",
         "10.30469994344308"
        ],
        [
         "3073",
         "190",
         "141.0",
         "3195.8669415834306",
         "2017",
         "13.479433776438931"
        ],
        [
         "2476",
         "200",
         "184.0",
         "3006.164369681861",
         "2017",
         "16.190652971220498"
        ],
        [
         "658",
         "200",
         null,
         "2947.143980322281",
         "2022",
         "15.446502568185542"
        ],
        [
         "954",
         "250",
         "132.0",
         "3114.3719779552243",
         "2001",
         "14.472171866598073"
        ],
        [
         "8441",
         "200",
         "128.0",
         "2426.957609510563",
         "2006",
         "17.599653649805663"
        ],
        [
         "8307",
         "190",
         "128.0",
         "3080.383878241212",
         "2023",
         "14.492826387946298"
        ],
        [
         "6788",
         "130",
         "178.0",
         "3641.7441913507114",
         "2010",
         "12.915925918195851"
        ],
        [
         "8988",
         "120",
         "157.0",
         "3018.5214238379",
         "2006",
         "15.210608430975466"
        ],
        [
         "7457",
         "190",
         "169.0",
         "3025.887363830009",
         "2017",
         "14.70007393929608"
        ],
        [
         "8140",
         "130",
         null,
         "2087.192105375307",
         "2008",
         "18.788806170050588"
        ],
        [
         "2635",
         "160",
         "167.0",
         "4026.6969339384623",
         "2011",
         "10.564268508020072"
        ],
        [
         "9512",
         "140",
         "109.0",
         "2817.206539524288",
         "2003",
         "15.707646635528375"
        ],
        [
         "7514",
         "320",
         "132.0",
         "2572.315442667493",
         "2021",
         "16.63530698148934"
        ],
        [
         "2844",
         "190",
         "165.0",
         "2035.1474698037405",
         "2005",
         "20.580423613615917"
        ],
        [
         "8873",
         "170",
         "200.0",
         "3404.582552425505",
         "2023",
         "13.3284259208247"
        ],
        [
         "3320",
         "290",
         "162.0",
         "2625.1456938074257",
         "2004",
         "16.475966675467102"
        ],
        [
         "2952",
         "180",
         "160.0",
         "3499.4750052085824",
         "2013",
         "13.052481184092317"
        ],
        [
         "4367",
         "190",
         "147.0",
         "2348.797557271285",
         "2006",
         "18.381311203569165"
        ],
        [
         "2225",
         "280",
         "144.0",
         "3031.436130188313",
         "2014",
         "15.0700006689026"
        ],
        [
         "4630",
         "310",
         "132.0",
         "2121.470254292444",
         "2004",
         "19.71875765129593"
        ],
        [
         "8533",
         "270",
         "127.0",
         "3289.609764827081",
         "2020",
         "13.65134017593868"
        ],
        [
         "6474",
         "200",
         "164.0",
         "3196.269981620835",
         "2020",
         "14.324376249283183"
        ],
        [
         "1518",
         "130",
         "118.0",
         "2906.2857664526878",
         "2018",
         "14.75399455250016"
        ],
        [
         "8697",
         "210",
         "143.0",
         "2441.496241864477",
         "2003",
         "17.139400922700638"
        ],
        [
         "8254",
         "140",
         "225.0",
         "3846.125343602924",
         "2020",
         "10.868845250278335"
        ],
        [
         "8321",
         "190",
         "148.0",
         "3323.819061215165",
         "2005",
         "13.234194252309806"
        ],
        [
         "6092",
         "160",
         "128.0",
         "3284.570709573435",
         "2011",
         "12.844761271209777"
        ],
        [
         "8590",
         "230",
         "184.0",
         "3068.942278501571",
         "2010",
         "15.637691456761484"
        ],
        [
         "3648",
         "150",
         "149.0",
         "2367.817227200094",
         "2003",
         "18.212446833715664"
        ],
        [
         "3719",
         "190",
         "125.0",
         "2876.552704724119",
         "2001",
         "15.102659227705889"
        ],
        [
         "1105",
         "260",
         "125.0",
         "2642.3241801041404",
         "2012",
         "16.07996669865303"
        ],
        [
         "8794",
         "230",
         "157.0",
         "2439.764272985089",
         "2006",
         "17.862306824623445"
        ],
        [
         "5045",
         "210",
         "161.0",
         "3379.799085549688",
         "2019",
         "13.436034595166928"
        ],
        [
         "595",
         "150",
         "155.0",
         "2524.894899767022",
         "2018",
         "17.952180080938845"
        ],
        [
         "7711",
         "200",
         null,
         "2619.896609889136",
         "2017",
         "17.543965260936783"
        ],
        [
         "4192",
         "160",
         null,
         "2981.866055248001",
         "2019",
         "15.30862062715166"
        ],
        [
         "2072",
         "200",
         "152.0",
         "3500.1607747454104",
         "2017",
         "12.61885121794471"
        ],
        [
         "9003",
         "200",
         "148.0",
         "2134.556711874116",
         "2017",
         "19.20569849124783"
        ],
        [
         "9085",
         "220",
         "163.0",
         "2596.1813828820345",
         "2000",
         "16.82659526595159"
        ],
        [
         "4149",
         "230",
         "124.0",
         "3381.2245794254923",
         "2000",
         "12.6162102175935"
        ],
        [
         "642",
         "100",
         "145.0",
         "2437.3728394600894",
         "2008",
         "17.792328311447065"
        ],
        [
         "58",
         "230",
         "103.0",
         "2496.5486592559587",
         "2019",
         "16.66713972255865"
        ],
        [
         "7290",
         "260",
         "176.0",
         "3198.040750080437",
         "2006",
         "13.799629401083193"
        ],
        [
         "1706",
         "160",
         "155.0",
         "2773.265064356561",
         "2015",
         "16.05735604250159"
        ],
        [
         "9363",
         "270",
         "128.0",
         "2993.6251230414696",
         "2015",
         "15.473131291965547"
        ],
        [
         "2291",
         "190",
         "190.0",
         "3494.502842330031",
         "2011",
         "12.917400957817442"
        ],
        [
         "5076",
         "190",
         "148.0",
         "2801.096882337446",
         "2018",
         "16.75124163641629"
        ],
        [
         "2279",
         "210",
         "209.0",
         "3014.2516226884645",
         "2002",
         "15.965104541125598"
        ],
        [
         "3402",
         "210",
         "141.0",
         "3631.288732117183",
         "2010",
         "12.045200016446406"
        ]
       ],
       "shape": {
        "columns": 5,
        "rows": 9704
       }
      },
      "text/html": [
       "<div>\n",
       "<style scoped>\n",
       "    .dataframe tbody tr th:only-of-type {\n",
       "        vertical-align: middle;\n",
       "    }\n",
       "\n",
       "    .dataframe tbody tr th {\n",
       "        vertical-align: top;\n",
       "    }\n",
       "\n",
       "    .dataframe thead th {\n",
       "        text-align: right;\n",
       "    }\n",
       "</style>\n",
       "<table border=\"1\" class=\"dataframe\">\n",
       "  <thead>\n",
       "    <tr style=\"text-align: right;\">\n",
       "      <th></th>\n",
       "      <th>engine_displacement</th>\n",
       "      <th>horsepower</th>\n",
       "      <th>vehicle_weight</th>\n",
       "      <th>model_year</th>\n",
       "      <th>fuel_efficiency_mpg</th>\n",
       "    </tr>\n",
       "  </thead>\n",
       "  <tbody>\n",
       "    <tr>\n",
       "      <th>9066</th>\n",
       "      <td>240</td>\n",
       "      <td>136.0</td>\n",
       "      <td>4050.512290</td>\n",
       "      <td>2006</td>\n",
       "      <td>10.304700</td>\n",
       "    </tr>\n",
       "    <tr>\n",
       "      <th>3073</th>\n",
       "      <td>190</td>\n",
       "      <td>141.0</td>\n",
       "      <td>3195.866942</td>\n",
       "      <td>2017</td>\n",
       "      <td>13.479434</td>\n",
       "    </tr>\n",
       "    <tr>\n",
       "      <th>2476</th>\n",
       "      <td>200</td>\n",
       "      <td>184.0</td>\n",
       "      <td>3006.164370</td>\n",
       "      <td>2017</td>\n",
       "      <td>16.190653</td>\n",
       "    </tr>\n",
       "    <tr>\n",
       "      <th>658</th>\n",
       "      <td>200</td>\n",
       "      <td>NaN</td>\n",
       "      <td>2947.143980</td>\n",
       "      <td>2022</td>\n",
       "      <td>15.446503</td>\n",
       "    </tr>\n",
       "    <tr>\n",
       "      <th>954</th>\n",
       "      <td>250</td>\n",
       "      <td>132.0</td>\n",
       "      <td>3114.371978</td>\n",
       "      <td>2001</td>\n",
       "      <td>14.472172</td>\n",
       "    </tr>\n",
       "    <tr>\n",
       "      <th>...</th>\n",
       "      <td>...</td>\n",
       "      <td>...</td>\n",
       "      <td>...</td>\n",
       "      <td>...</td>\n",
       "      <td>...</td>\n",
       "    </tr>\n",
       "    <tr>\n",
       "      <th>6200</th>\n",
       "      <td>130</td>\n",
       "      <td>190.0</td>\n",
       "      <td>2929.265698</td>\n",
       "      <td>2018</td>\n",
       "      <td>16.408894</td>\n",
       "    </tr>\n",
       "    <tr>\n",
       "      <th>501</th>\n",
       "      <td>270</td>\n",
       "      <td>127.0</td>\n",
       "      <td>3489.985764</td>\n",
       "      <td>2017</td>\n",
       "      <td>12.502945</td>\n",
       "    </tr>\n",
       "    <tr>\n",
       "      <th>6782</th>\n",
       "      <td>240</td>\n",
       "      <td>177.0</td>\n",
       "      <td>3348.840052</td>\n",
       "      <td>2010</td>\n",
       "      <td>13.245621</td>\n",
       "    </tr>\n",
       "    <tr>\n",
       "      <th>4444</th>\n",
       "      <td>250</td>\n",
       "      <td>150.0</td>\n",
       "      <td>2985.704630</td>\n",
       "      <td>2022</td>\n",
       "      <td>15.215270</td>\n",
       "    </tr>\n",
       "    <tr>\n",
       "      <th>8574</th>\n",
       "      <td>230</td>\n",
       "      <td>192.0</td>\n",
       "      <td>3124.473642</td>\n",
       "      <td>2014</td>\n",
       "      <td>14.509000</td>\n",
       "    </tr>\n",
       "  </tbody>\n",
       "</table>\n",
       "<p>9704 rows × 5 columns</p>\n",
       "</div>"
      ],
      "text/plain": [
       "      engine_displacement  horsepower  vehicle_weight  model_year  \\\n",
       "9066                  240       136.0     4050.512290        2006   \n",
       "3073                  190       141.0     3195.866942        2017   \n",
       "2476                  200       184.0     3006.164370        2017   \n",
       "658                   200         NaN     2947.143980        2022   \n",
       "954                   250       132.0     3114.371978        2001   \n",
       "...                   ...         ...             ...         ...   \n",
       "6200                  130       190.0     2929.265698        2018   \n",
       "501                   270       127.0     3489.985764        2017   \n",
       "6782                  240       177.0     3348.840052        2010   \n",
       "4444                  250       150.0     2985.704630        2022   \n",
       "8574                  230       192.0     3124.473642        2014   \n",
       "\n",
       "      fuel_efficiency_mpg  \n",
       "9066            10.304700  \n",
       "3073            13.479434  \n",
       "2476            16.190653  \n",
       "658             15.446503  \n",
       "954             14.472172  \n",
       "...                   ...  \n",
       "6200            16.408894  \n",
       "501             12.502945  \n",
       "6782            13.245621  \n",
       "4444            15.215270  \n",
       "8574            14.509000  \n",
       "\n",
       "[9704 rows x 5 columns]"
      ]
     },
     "execution_count": 36,
     "metadata": {},
     "output_type": "execute_result"
    }
   ],
   "source": [
    "np.random.seed(9)\n",
    "idx = np.arange(n)\n",
    "np.random.shuffle(idx)\n",
    "df_shuffle = df.iloc[idx]\n",
    "df_shuffle\n"
   ]
  },
  {
   "cell_type": "code",
   "execution_count": 47,
   "id": "c5a28508",
   "metadata": {},
   "outputs": [
    {
     "data": {
      "text/plain": [
       "np.float64(0.516)"
      ]
     },
     "execution_count": 47,
     "metadata": {},
     "output_type": "execute_result"
    }
   ],
   "source": [
    "df_train = df_shuffle.iloc[:n_train].reset_index(drop=True)\n",
    "df_val = df_shuffle.iloc[n_train:n_train + n_val].reset_index(drop=True)\n",
    "df_test = df_shuffle.iloc[n_train + n_val:].reset_index(drop=True)\n",
    "\n",
    "df_train_full = pd.concat([df_train,df_val])\n",
    "X_train_full = prepare_x(df_train_full, na_values=0)\n",
    "\n",
    "y_train_full = np.concatenate([y_train,y_val])\n",
    "\n",
    "w0,w = train_linear_regression_reg(X_train_full, y_train_full, alpha=0.001)\n",
    "\n",
    "X_test = prepare_x(df_test,na_values=0)\n",
    "\n",
    "y_pred = w0 + X_test.dot(w)\n",
    "\n",
    "\n",
    "np.round(rmse(y_test,y_pred),3)"
   ]
  }
 ],
 "metadata": {
  "kernelspec": {
   "display_name": "base",
   "language": "python",
   "name": "python3"
  },
  "language_info": {
   "codemirror_mode": {
    "name": "ipython",
    "version": 3
   },
   "file_extension": ".py",
   "mimetype": "text/x-python",
   "name": "python",
   "nbconvert_exporter": "python",
   "pygments_lexer": "ipython3",
   "version": "3.13.5"
  }
 },
 "nbformat": 4,
 "nbformat_minor": 5
}

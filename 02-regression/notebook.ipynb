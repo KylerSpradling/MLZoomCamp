{
 "cells": [
  {
   "cell_type": "markdown",
   "metadata": {},
   "source": [
    "## 2. Machine Learning for Regression\n"
   ]
  },
  {
   "cell_type": "code",
   "execution_count": 2,
   "metadata": {
    "scrolled": true
   },
   "outputs": [
    {
     "name": "stderr",
     "output_type": "stream",
     "text": [
      "c:\\Users\\spradkyl\\AppData\\Local\\anaconda3\\Lib\\site-packages\\pandas\\core\\arrays\\masked.py:60: UserWarning: Pandas requires version '1.3.6' or newer of 'bottleneck' (version '1.3.5' currently installed).\n",
      "  from pandas.core import (\n"
     ]
    }
   ],
   "source": [
    "import pandas as pd\n",
    "import numpy as np"
   ]
  },
  {
   "cell_type": "markdown",
   "metadata": {},
   "source": [
    "## 2.2 Data preparation"
   ]
  },
  {
   "cell_type": "code",
   "execution_count": 219,
   "metadata": {},
   "outputs": [
    {
     "data": {
      "application/vnd.microsoft.datawrangler.viewer.v0+json": {
       "columns": [
        {
         "name": "index",
         "rawType": "int64",
         "type": "integer"
        },
        {
         "name": "Make",
         "rawType": "object",
         "type": "string"
        },
        {
         "name": "Model",
         "rawType": "object",
         "type": "string"
        },
        {
         "name": "Year",
         "rawType": "int64",
         "type": "integer"
        },
        {
         "name": "Engine Fuel Type",
         "rawType": "object",
         "type": "string"
        },
        {
         "name": "Engine HP",
         "rawType": "float64",
         "type": "float"
        },
        {
         "name": "Engine Cylinders",
         "rawType": "float64",
         "type": "float"
        },
        {
         "name": "Transmission Type",
         "rawType": "object",
         "type": "string"
        },
        {
         "name": "Driven_Wheels",
         "rawType": "object",
         "type": "string"
        },
        {
         "name": "Number of Doors",
         "rawType": "float64",
         "type": "float"
        },
        {
         "name": "Market Category",
         "rawType": "object",
         "type": "string"
        },
        {
         "name": "Vehicle Size",
         "rawType": "object",
         "type": "string"
        },
        {
         "name": "Vehicle Style",
         "rawType": "object",
         "type": "string"
        },
        {
         "name": "highway MPG",
         "rawType": "int64",
         "type": "integer"
        },
        {
         "name": "city mpg",
         "rawType": "int64",
         "type": "integer"
        },
        {
         "name": "Popularity",
         "rawType": "int64",
         "type": "integer"
        },
        {
         "name": "MSRP",
         "rawType": "int64",
         "type": "integer"
        }
       ],
       "ref": "4f2a7945-c725-4db2-9cd4-ff792ef3468f",
       "rows": [
        [
         "0",
         "BMW",
         "1 Series M",
         "2011",
         "premium unleaded (required)",
         "335.0",
         "6.0",
         "MANUAL",
         "rear wheel drive",
         "2.0",
         "Factory Tuner,Luxury,High-Performance",
         "Compact",
         "Coupe",
         "26",
         "19",
         "3916",
         "46135"
        ],
        [
         "1",
         "BMW",
         "1 Series",
         "2011",
         "premium unleaded (required)",
         "300.0",
         "6.0",
         "MANUAL",
         "rear wheel drive",
         "2.0",
         "Luxury,Performance",
         "Compact",
         "Convertible",
         "28",
         "19",
         "3916",
         "40650"
        ],
        [
         "2",
         "BMW",
         "1 Series",
         "2011",
         "premium unleaded (required)",
         "300.0",
         "6.0",
         "MANUAL",
         "rear wheel drive",
         "2.0",
         "Luxury,High-Performance",
         "Compact",
         "Coupe",
         "28",
         "20",
         "3916",
         "36350"
        ],
        [
         "3",
         "BMW",
         "1 Series",
         "2011",
         "premium unleaded (required)",
         "230.0",
         "6.0",
         "MANUAL",
         "rear wheel drive",
         "2.0",
         "Luxury,Performance",
         "Compact",
         "Coupe",
         "28",
         "18",
         "3916",
         "29450"
        ],
        [
         "4",
         "BMW",
         "1 Series",
         "2011",
         "premium unleaded (required)",
         "230.0",
         "6.0",
         "MANUAL",
         "rear wheel drive",
         "2.0",
         "Luxury",
         "Compact",
         "Convertible",
         "28",
         "18",
         "3916",
         "34500"
        ]
       ],
       "shape": {
        "columns": 16,
        "rows": 5
       }
      },
      "text/html": [
       "<div>\n",
       "<style scoped>\n",
       "    .dataframe tbody tr th:only-of-type {\n",
       "        vertical-align: middle;\n",
       "    }\n",
       "\n",
       "    .dataframe tbody tr th {\n",
       "        vertical-align: top;\n",
       "    }\n",
       "\n",
       "    .dataframe thead th {\n",
       "        text-align: right;\n",
       "    }\n",
       "</style>\n",
       "<table border=\"1\" class=\"dataframe\">\n",
       "  <thead>\n",
       "    <tr style=\"text-align: right;\">\n",
       "      <th></th>\n",
       "      <th>Make</th>\n",
       "      <th>Model</th>\n",
       "      <th>Year</th>\n",
       "      <th>Engine Fuel Type</th>\n",
       "      <th>Engine HP</th>\n",
       "      <th>Engine Cylinders</th>\n",
       "      <th>Transmission Type</th>\n",
       "      <th>Driven_Wheels</th>\n",
       "      <th>Number of Doors</th>\n",
       "      <th>Market Category</th>\n",
       "      <th>Vehicle Size</th>\n",
       "      <th>Vehicle Style</th>\n",
       "      <th>highway MPG</th>\n",
       "      <th>city mpg</th>\n",
       "      <th>Popularity</th>\n",
       "      <th>MSRP</th>\n",
       "    </tr>\n",
       "  </thead>\n",
       "  <tbody>\n",
       "    <tr>\n",
       "      <th>0</th>\n",
       "      <td>BMW</td>\n",
       "      <td>1 Series M</td>\n",
       "      <td>2011</td>\n",
       "      <td>premium unleaded (required)</td>\n",
       "      <td>335.0</td>\n",
       "      <td>6.0</td>\n",
       "      <td>MANUAL</td>\n",
       "      <td>rear wheel drive</td>\n",
       "      <td>2.0</td>\n",
       "      <td>Factory Tuner,Luxury,High-Performance</td>\n",
       "      <td>Compact</td>\n",
       "      <td>Coupe</td>\n",
       "      <td>26</td>\n",
       "      <td>19</td>\n",
       "      <td>3916</td>\n",
       "      <td>46135</td>\n",
       "    </tr>\n",
       "    <tr>\n",
       "      <th>1</th>\n",
       "      <td>BMW</td>\n",
       "      <td>1 Series</td>\n",
       "      <td>2011</td>\n",
       "      <td>premium unleaded (required)</td>\n",
       "      <td>300.0</td>\n",
       "      <td>6.0</td>\n",
       "      <td>MANUAL</td>\n",
       "      <td>rear wheel drive</td>\n",
       "      <td>2.0</td>\n",
       "      <td>Luxury,Performance</td>\n",
       "      <td>Compact</td>\n",
       "      <td>Convertible</td>\n",
       "      <td>28</td>\n",
       "      <td>19</td>\n",
       "      <td>3916</td>\n",
       "      <td>40650</td>\n",
       "    </tr>\n",
       "    <tr>\n",
       "      <th>2</th>\n",
       "      <td>BMW</td>\n",
       "      <td>1 Series</td>\n",
       "      <td>2011</td>\n",
       "      <td>premium unleaded (required)</td>\n",
       "      <td>300.0</td>\n",
       "      <td>6.0</td>\n",
       "      <td>MANUAL</td>\n",
       "      <td>rear wheel drive</td>\n",
       "      <td>2.0</td>\n",
       "      <td>Luxury,High-Performance</td>\n",
       "      <td>Compact</td>\n",
       "      <td>Coupe</td>\n",
       "      <td>28</td>\n",
       "      <td>20</td>\n",
       "      <td>3916</td>\n",
       "      <td>36350</td>\n",
       "    </tr>\n",
       "    <tr>\n",
       "      <th>3</th>\n",
       "      <td>BMW</td>\n",
       "      <td>1 Series</td>\n",
       "      <td>2011</td>\n",
       "      <td>premium unleaded (required)</td>\n",
       "      <td>230.0</td>\n",
       "      <td>6.0</td>\n",
       "      <td>MANUAL</td>\n",
       "      <td>rear wheel drive</td>\n",
       "      <td>2.0</td>\n",
       "      <td>Luxury,Performance</td>\n",
       "      <td>Compact</td>\n",
       "      <td>Coupe</td>\n",
       "      <td>28</td>\n",
       "      <td>18</td>\n",
       "      <td>3916</td>\n",
       "      <td>29450</td>\n",
       "    </tr>\n",
       "    <tr>\n",
       "      <th>4</th>\n",
       "      <td>BMW</td>\n",
       "      <td>1 Series</td>\n",
       "      <td>2011</td>\n",
       "      <td>premium unleaded (required)</td>\n",
       "      <td>230.0</td>\n",
       "      <td>6.0</td>\n",
       "      <td>MANUAL</td>\n",
       "      <td>rear wheel drive</td>\n",
       "      <td>2.0</td>\n",
       "      <td>Luxury</td>\n",
       "      <td>Compact</td>\n",
       "      <td>Convertible</td>\n",
       "      <td>28</td>\n",
       "      <td>18</td>\n",
       "      <td>3916</td>\n",
       "      <td>34500</td>\n",
       "    </tr>\n",
       "  </tbody>\n",
       "</table>\n",
       "</div>"
      ],
      "text/plain": [
       "  Make       Model  Year             Engine Fuel Type  Engine HP  \\\n",
       "0  BMW  1 Series M  2011  premium unleaded (required)      335.0   \n",
       "1  BMW    1 Series  2011  premium unleaded (required)      300.0   \n",
       "2  BMW    1 Series  2011  premium unleaded (required)      300.0   \n",
       "3  BMW    1 Series  2011  premium unleaded (required)      230.0   \n",
       "4  BMW    1 Series  2011  premium unleaded (required)      230.0   \n",
       "\n",
       "   Engine Cylinders Transmission Type     Driven_Wheels  Number of Doors  \\\n",
       "0               6.0            MANUAL  rear wheel drive              2.0   \n",
       "1               6.0            MANUAL  rear wheel drive              2.0   \n",
       "2               6.0            MANUAL  rear wheel drive              2.0   \n",
       "3               6.0            MANUAL  rear wheel drive              2.0   \n",
       "4               6.0            MANUAL  rear wheel drive              2.0   \n",
       "\n",
       "                         Market Category Vehicle Size Vehicle Style  \\\n",
       "0  Factory Tuner,Luxury,High-Performance      Compact         Coupe   \n",
       "1                     Luxury,Performance      Compact   Convertible   \n",
       "2                Luxury,High-Performance      Compact         Coupe   \n",
       "3                     Luxury,Performance      Compact         Coupe   \n",
       "4                                 Luxury      Compact   Convertible   \n",
       "\n",
       "   highway MPG  city mpg  Popularity   MSRP  \n",
       "0           26        19        3916  46135  \n",
       "1           28        19        3916  40650  \n",
       "2           28        20        3916  36350  \n",
       "3           28        18        3916  29450  \n",
       "4           28        18        3916  34500  "
      ]
     },
     "execution_count": 219,
     "metadata": {},
     "output_type": "execute_result"
    }
   ],
   "source": [
    "df = pd.read_csv('https://raw.githubusercontent.com/alexeygrigorev/mlbookcamp-code/master/chapter-02-car-price/data.csv')\n",
    "df.head()"
   ]
  },
  {
   "cell_type": "code",
   "execution_count": 220,
   "metadata": {},
   "outputs": [
    {
     "data": {
      "text/plain": [
       "Index(['make', 'model', 'year', 'engine_fuel_type', 'engine_hp',\n",
       "       'engine_cylinders', 'transmission_type', 'driven_wheels',\n",
       "       'number_of_doors', 'market_category', 'vehicle_size', 'vehicle_style',\n",
       "       'highway_mpg', 'city_mpg', 'popularity', 'msrp'],\n",
       "      dtype='object')"
      ]
     },
     "execution_count": 220,
     "metadata": {},
     "output_type": "execute_result"
    }
   ],
   "source": [
    "df.columns = df.columns.str.lower().str.replace(' ', '_')\n",
    "df.columns"
   ]
  },
  {
   "cell_type": "code",
   "execution_count": 221,
   "metadata": {},
   "outputs": [
    {
     "data": {
      "text/plain": [
       "['make',\n",
       " 'model',\n",
       " 'engine_fuel_type',\n",
       " 'transmission_type',\n",
       " 'driven_wheels',\n",
       " 'market_category',\n",
       " 'vehicle_size',\n",
       " 'vehicle_style']"
      ]
     },
     "execution_count": 221,
     "metadata": {},
     "output_type": "execute_result"
    }
   ],
   "source": [
    "strings_columns = list(df.dtypes[df.dtypes == 'object'].index)\n",
    "strings_columns"
   ]
  },
  {
   "cell_type": "code",
   "execution_count": 222,
   "metadata": {},
   "outputs": [
    {
     "data": {
      "application/vnd.microsoft.datawrangler.viewer.v0+json": {
       "columns": [
        {
         "name": "index",
         "rawType": "int64",
         "type": "integer"
        },
        {
         "name": "make",
         "rawType": "object",
         "type": "string"
        },
        {
         "name": "model",
         "rawType": "object",
         "type": "string"
        },
        {
         "name": "year",
         "rawType": "int64",
         "type": "integer"
        },
        {
         "name": "engine_fuel_type",
         "rawType": "object",
         "type": "unknown"
        },
        {
         "name": "engine_hp",
         "rawType": "float64",
         "type": "float"
        },
        {
         "name": "engine_cylinders",
         "rawType": "float64",
         "type": "float"
        },
        {
         "name": "transmission_type",
         "rawType": "object",
         "type": "string"
        },
        {
         "name": "driven_wheels",
         "rawType": "object",
         "type": "string"
        },
        {
         "name": "number_of_doors",
         "rawType": "float64",
         "type": "float"
        },
        {
         "name": "market_category",
         "rawType": "object",
         "type": "unknown"
        },
        {
         "name": "vehicle_size",
         "rawType": "object",
         "type": "string"
        },
        {
         "name": "vehicle_style",
         "rawType": "object",
         "type": "string"
        },
        {
         "name": "highway_mpg",
         "rawType": "int64",
         "type": "integer"
        },
        {
         "name": "city_mpg",
         "rawType": "int64",
         "type": "integer"
        },
        {
         "name": "popularity",
         "rawType": "int64",
         "type": "integer"
        },
        {
         "name": "msrp",
         "rawType": "int64",
         "type": "integer"
        }
       ],
       "ref": "572a9e56-8faa-474f-a1eb-6b1648ffa341",
       "rows": [
        [
         "0",
         "bmw",
         "1_series_m",
         "2011",
         "premium_unleaded_(required)",
         "335.0",
         "6.0",
         "manual",
         "rear_wheel_drive",
         "2.0",
         "factory_tuner,luxury,high-performance",
         "compact",
         "coupe",
         "26",
         "19",
         "3916",
         "46135"
        ],
        [
         "1",
         "bmw",
         "1_series",
         "2011",
         "premium_unleaded_(required)",
         "300.0",
         "6.0",
         "manual",
         "rear_wheel_drive",
         "2.0",
         "luxury,performance",
         "compact",
         "convertible",
         "28",
         "19",
         "3916",
         "40650"
        ],
        [
         "2",
         "bmw",
         "1_series",
         "2011",
         "premium_unleaded_(required)",
         "300.0",
         "6.0",
         "manual",
         "rear_wheel_drive",
         "2.0",
         "luxury,high-performance",
         "compact",
         "coupe",
         "28",
         "20",
         "3916",
         "36350"
        ],
        [
         "3",
         "bmw",
         "1_series",
         "2011",
         "premium_unleaded_(required)",
         "230.0",
         "6.0",
         "manual",
         "rear_wheel_drive",
         "2.0",
         "luxury,performance",
         "compact",
         "coupe",
         "28",
         "18",
         "3916",
         "29450"
        ],
        [
         "4",
         "bmw",
         "1_series",
         "2011",
         "premium_unleaded_(required)",
         "230.0",
         "6.0",
         "manual",
         "rear_wheel_drive",
         "2.0",
         "luxury",
         "compact",
         "convertible",
         "28",
         "18",
         "3916",
         "34500"
        ],
        [
         "5",
         "bmw",
         "1_series",
         "2012",
         "premium_unleaded_(required)",
         "230.0",
         "6.0",
         "manual",
         "rear_wheel_drive",
         "2.0",
         "luxury,performance",
         "compact",
         "coupe",
         "28",
         "18",
         "3916",
         "31200"
        ],
        [
         "6",
         "bmw",
         "1_series",
         "2012",
         "premium_unleaded_(required)",
         "300.0",
         "6.0",
         "manual",
         "rear_wheel_drive",
         "2.0",
         "luxury,performance",
         "compact",
         "convertible",
         "26",
         "17",
         "3916",
         "44100"
        ],
        [
         "7",
         "bmw",
         "1_series",
         "2012",
         "premium_unleaded_(required)",
         "300.0",
         "6.0",
         "manual",
         "rear_wheel_drive",
         "2.0",
         "luxury,high-performance",
         "compact",
         "coupe",
         "28",
         "20",
         "3916",
         "39300"
        ],
        [
         "8",
         "bmw",
         "1_series",
         "2012",
         "premium_unleaded_(required)",
         "230.0",
         "6.0",
         "manual",
         "rear_wheel_drive",
         "2.0",
         "luxury",
         "compact",
         "convertible",
         "28",
         "18",
         "3916",
         "36900"
        ],
        [
         "9",
         "bmw",
         "1_series",
         "2013",
         "premium_unleaded_(required)",
         "230.0",
         "6.0",
         "manual",
         "rear_wheel_drive",
         "2.0",
         "luxury",
         "compact",
         "convertible",
         "27",
         "18",
         "3916",
         "37200"
        ],
        [
         "10",
         "bmw",
         "1_series",
         "2013",
         "premium_unleaded_(required)",
         "300.0",
         "6.0",
         "manual",
         "rear_wheel_drive",
         "2.0",
         "luxury,high-performance",
         "compact",
         "coupe",
         "28",
         "20",
         "3916",
         "39600"
        ],
        [
         "11",
         "bmw",
         "1_series",
         "2013",
         "premium_unleaded_(required)",
         "230.0",
         "6.0",
         "manual",
         "rear_wheel_drive",
         "2.0",
         "luxury,performance",
         "compact",
         "coupe",
         "28",
         "19",
         "3916",
         "31500"
        ],
        [
         "12",
         "bmw",
         "1_series",
         "2013",
         "premium_unleaded_(required)",
         "300.0",
         "6.0",
         "manual",
         "rear_wheel_drive",
         "2.0",
         "luxury,performance",
         "compact",
         "convertible",
         "28",
         "19",
         "3916",
         "44400"
        ],
        [
         "13",
         "bmw",
         "1_series",
         "2013",
         "premium_unleaded_(required)",
         "230.0",
         "6.0",
         "manual",
         "rear_wheel_drive",
         "2.0",
         "luxury",
         "compact",
         "convertible",
         "28",
         "19",
         "3916",
         "37200"
        ],
        [
         "14",
         "bmw",
         "1_series",
         "2013",
         "premium_unleaded_(required)",
         "230.0",
         "6.0",
         "manual",
         "rear_wheel_drive",
         "2.0",
         "luxury,performance",
         "compact",
         "coupe",
         "28",
         "19",
         "3916",
         "31500"
        ],
        [
         "15",
         "bmw",
         "1_series",
         "2013",
         "premium_unleaded_(required)",
         "320.0",
         "6.0",
         "manual",
         "rear_wheel_drive",
         "2.0",
         "luxury,high-performance",
         "compact",
         "convertible",
         "25",
         "18",
         "3916",
         "48250"
        ],
        [
         "16",
         "bmw",
         "1_series",
         "2013",
         "premium_unleaded_(required)",
         "320.0",
         "6.0",
         "manual",
         "rear_wheel_drive",
         "2.0",
         "luxury,high-performance",
         "compact",
         "coupe",
         "28",
         "20",
         "3916",
         "43550"
        ],
        [
         "17",
         "audi",
         "100",
         "1992",
         "regular_unleaded",
         "172.0",
         "6.0",
         "manual",
         "front_wheel_drive",
         "4.0",
         "luxury",
         "midsize",
         "sedan",
         "24",
         "17",
         "3105",
         "2000"
        ],
        [
         "18",
         "audi",
         "100",
         "1992",
         "regular_unleaded",
         "172.0",
         "6.0",
         "manual",
         "front_wheel_drive",
         "4.0",
         "luxury",
         "midsize",
         "sedan",
         "24",
         "17",
         "3105",
         "2000"
        ],
        [
         "19",
         "audi",
         "100",
         "1992",
         "regular_unleaded",
         "172.0",
         "6.0",
         "automatic",
         "all_wheel_drive",
         "4.0",
         "luxury",
         "midsize",
         "wagon",
         "20",
         "16",
         "3105",
         "2000"
        ],
        [
         "20",
         "audi",
         "100",
         "1992",
         "regular_unleaded",
         "172.0",
         "6.0",
         "manual",
         "front_wheel_drive",
         "4.0",
         "luxury",
         "midsize",
         "sedan",
         "24",
         "17",
         "3105",
         "2000"
        ],
        [
         "21",
         "audi",
         "100",
         "1992",
         "regular_unleaded",
         "172.0",
         "6.0",
         "manual",
         "all_wheel_drive",
         "4.0",
         "luxury",
         "midsize",
         "sedan",
         "21",
         "16",
         "3105",
         "2000"
        ],
        [
         "22",
         "audi",
         "100",
         "1993",
         "regular_unleaded",
         "172.0",
         "6.0",
         "manual",
         "front_wheel_drive",
         "4.0",
         "luxury",
         "midsize",
         "sedan",
         "24",
         "17",
         "3105",
         "2000"
        ],
        [
         "23",
         "audi",
         "100",
         "1993",
         "regular_unleaded",
         "172.0",
         "6.0",
         "automatic",
         "all_wheel_drive",
         "4.0",
         "luxury",
         "midsize",
         "wagon",
         "20",
         "16",
         "3105",
         "2000"
        ],
        [
         "24",
         "audi",
         "100",
         "1993",
         "regular_unleaded",
         "172.0",
         "6.0",
         "manual",
         "front_wheel_drive",
         "4.0",
         "luxury",
         "midsize",
         "sedan",
         "24",
         "17",
         "3105",
         "2000"
        ],
        [
         "25",
         "audi",
         "100",
         "1993",
         "regular_unleaded",
         "172.0",
         "6.0",
         "manual",
         "front_wheel_drive",
         "4.0",
         "luxury",
         "midsize",
         "sedan",
         "24",
         "17",
         "3105",
         "2000"
        ],
        [
         "26",
         "audi",
         "100",
         "1993",
         "regular_unleaded",
         "172.0",
         "6.0",
         "manual",
         "all_wheel_drive",
         "4.0",
         "luxury",
         "midsize",
         "sedan",
         "21",
         "16",
         "3105",
         "2000"
        ],
        [
         "27",
         "audi",
         "100",
         "1994",
         "regular_unleaded",
         "172.0",
         "6.0",
         "automatic",
         "front_wheel_drive",
         "4.0",
         "luxury",
         "midsize",
         "wagon",
         "21",
         "16",
         "3105",
         "2000"
        ],
        [
         "28",
         "audi",
         "100",
         "1994",
         "regular_unleaded",
         "172.0",
         "6.0",
         "manual",
         "all_wheel_drive",
         "4.0",
         "luxury",
         "midsize",
         "sedan",
         "22",
         "16",
         "3105",
         "2000"
        ],
        [
         "29",
         "audi",
         "100",
         "1994",
         "regular_unleaded",
         "172.0",
         "6.0",
         "manual",
         "front_wheel_drive",
         "4.0",
         "luxury",
         "midsize",
         "sedan",
         "22",
         "17",
         "3105",
         "2000"
        ],
        [
         "30",
         "audi",
         "100",
         "1994",
         "regular_unleaded",
         "172.0",
         "6.0",
         "automatic",
         "front_wheel_drive",
         "4.0",
         "luxury",
         "midsize",
         "sedan",
         "22",
         "16",
         "3105",
         "2000"
        ],
        [
         "31",
         "audi",
         "100",
         "1994",
         "regular_unleaded",
         "172.0",
         "6.0",
         "automatic",
         "all_wheel_drive",
         "4.0",
         "luxury",
         "midsize",
         "wagon",
         "21",
         "16",
         "3105",
         "2000"
        ],
        [
         "32",
         "fiat",
         "124_spider",
         "2017",
         "premium_unleaded_(recommended)",
         "160.0",
         "4.0",
         "manual",
         "rear_wheel_drive",
         "2.0",
         "performance",
         "compact",
         "convertible",
         "35",
         "26",
         "819",
         "27495"
        ],
        [
         "33",
         "fiat",
         "124_spider",
         "2017",
         "premium_unleaded_(recommended)",
         "160.0",
         "4.0",
         "manual",
         "rear_wheel_drive",
         "2.0",
         "performance",
         "compact",
         "convertible",
         "35",
         "26",
         "819",
         "24995"
        ],
        [
         "34",
         "fiat",
         "124_spider",
         "2017",
         "premium_unleaded_(recommended)",
         "160.0",
         "4.0",
         "manual",
         "rear_wheel_drive",
         "2.0",
         "performance",
         "compact",
         "convertible",
         "35",
         "26",
         "819",
         "28195"
        ],
        [
         "35",
         "mercedes-benz",
         "190-class",
         "1991",
         "regular_unleaded",
         "130.0",
         "4.0",
         "manual",
         "rear_wheel_drive",
         "4.0",
         "luxury",
         "compact",
         "sedan",
         "26",
         "18",
         "617",
         "2000"
        ],
        [
         "36",
         "mercedes-benz",
         "190-class",
         "1991",
         "regular_unleaded",
         "158.0",
         "6.0",
         "manual",
         "rear_wheel_drive",
         "4.0",
         "luxury",
         "compact",
         "sedan",
         "25",
         "17",
         "617",
         "2000"
        ],
        [
         "37",
         "mercedes-benz",
         "190-class",
         "1992",
         "regular_unleaded",
         "158.0",
         "6.0",
         "manual",
         "rear_wheel_drive",
         "4.0",
         "luxury",
         "compact",
         "sedan",
         "25",
         "17",
         "617",
         "2000"
        ],
        [
         "38",
         "mercedes-benz",
         "190-class",
         "1992",
         "regular_unleaded",
         "130.0",
         "4.0",
         "manual",
         "rear_wheel_drive",
         "4.0",
         "luxury",
         "compact",
         "sedan",
         "26",
         "18",
         "617",
         "2000"
        ],
        [
         "39",
         "mercedes-benz",
         "190-class",
         "1993",
         "regular_unleaded",
         "130.0",
         "4.0",
         "manual",
         "rear_wheel_drive",
         "4.0",
         "luxury",
         "compact",
         "sedan",
         "26",
         "18",
         "617",
         "2000"
        ],
        [
         "40",
         "mercedes-benz",
         "190-class",
         "1993",
         "regular_unleaded",
         "158.0",
         "6.0",
         "manual",
         "rear_wheel_drive",
         "4.0",
         "luxury",
         "compact",
         "sedan",
         "25",
         "17",
         "617",
         "2000"
        ],
        [
         "41",
         "bmw",
         "2_series",
         "2016",
         "premium_unleaded_(required)",
         "240.0",
         "4.0",
         "automatic",
         "rear_wheel_drive",
         "2.0",
         "luxury,performance",
         "compact",
         "coupe",
         "35",
         "23",
         "3916",
         "32850"
        ],
        [
         "42",
         "bmw",
         "2_series",
         "2016",
         "premium_unleaded_(required)",
         "240.0",
         "4.0",
         "automatic",
         "rear_wheel_drive",
         "2.0",
         "luxury",
         "compact",
         "convertible",
         "34",
         "23",
         "3916",
         "38650"
        ],
        [
         "43",
         "bmw",
         "2_series",
         "2016",
         "premium_unleaded_(required)",
         "320.0",
         "6.0",
         "automatic",
         "rear_wheel_drive",
         "2.0",
         "factory_tuner,luxury,high-performance",
         "compact",
         "convertible",
         "31",
         "20",
         "3916",
         "48750"
        ],
        [
         "44",
         "bmw",
         "2_series",
         "2016",
         "premium_unleaded_(required)",
         "240.0",
         "4.0",
         "automatic",
         "all_wheel_drive",
         "2.0",
         "luxury,performance",
         "compact",
         "coupe",
         "35",
         "23",
         "3916",
         "34850"
        ],
        [
         "45",
         "bmw",
         "2_series",
         "2016",
         "premium_unleaded_(required)",
         "240.0",
         "4.0",
         "automatic",
         "all_wheel_drive",
         "2.0",
         "luxury",
         "compact",
         "convertible",
         "34",
         "22",
         "3916",
         "40650"
        ],
        [
         "46",
         "bmw",
         "2_series",
         "2016",
         "premium_unleaded_(required)",
         "320.0",
         "6.0",
         "automatic",
         "rear_wheel_drive",
         "2.0",
         "factory_tuner,luxury,high-performance",
         "compact",
         "coupe",
         "31",
         "20",
         "3916",
         "44150"
        ],
        [
         "47",
         "bmw",
         "2_series",
         "2016",
         "premium_unleaded_(required)",
         "240.0",
         "4.0",
         "manual",
         "rear_wheel_drive",
         "2.0",
         "luxury,performance",
         "compact",
         "coupe",
         "34",
         "22",
         "3916",
         "32850"
        ],
        [
         "48",
         "bmw",
         "2_series",
         "2016",
         "premium_unleaded_(required)",
         "320.0",
         "6.0",
         "automatic",
         "all_wheel_drive",
         "2.0",
         "factory_tuner,luxury,high-performance",
         "compact",
         "coupe",
         "30",
         "20",
         "3916",
         "46150"
        ],
        [
         "49",
         "bmw",
         "2_series",
         "2016",
         "premium_unleaded_(required)",
         "320.0",
         "6.0",
         "automatic",
         "rear_wheel_drive",
         "2.0",
         "factory_tuner,luxury,high-performance",
         "compact",
         "convertible",
         "30",
         "20",
         "3916",
         "50750"
        ]
       ],
       "shape": {
        "columns": 16,
        "rows": 11914
       }
      },
      "text/html": [
       "<div>\n",
       "<style scoped>\n",
       "    .dataframe tbody tr th:only-of-type {\n",
       "        vertical-align: middle;\n",
       "    }\n",
       "\n",
       "    .dataframe tbody tr th {\n",
       "        vertical-align: top;\n",
       "    }\n",
       "\n",
       "    .dataframe thead th {\n",
       "        text-align: right;\n",
       "    }\n",
       "</style>\n",
       "<table border=\"1\" class=\"dataframe\">\n",
       "  <thead>\n",
       "    <tr style=\"text-align: right;\">\n",
       "      <th></th>\n",
       "      <th>make</th>\n",
       "      <th>model</th>\n",
       "      <th>year</th>\n",
       "      <th>engine_fuel_type</th>\n",
       "      <th>engine_hp</th>\n",
       "      <th>engine_cylinders</th>\n",
       "      <th>transmission_type</th>\n",
       "      <th>driven_wheels</th>\n",
       "      <th>number_of_doors</th>\n",
       "      <th>market_category</th>\n",
       "      <th>vehicle_size</th>\n",
       "      <th>vehicle_style</th>\n",
       "      <th>highway_mpg</th>\n",
       "      <th>city_mpg</th>\n",
       "      <th>popularity</th>\n",
       "      <th>msrp</th>\n",
       "    </tr>\n",
       "  </thead>\n",
       "  <tbody>\n",
       "    <tr>\n",
       "      <th>0</th>\n",
       "      <td>bmw</td>\n",
       "      <td>1_series_m</td>\n",
       "      <td>2011</td>\n",
       "      <td>premium_unleaded_(required)</td>\n",
       "      <td>335.0</td>\n",
       "      <td>6.0</td>\n",
       "      <td>manual</td>\n",
       "      <td>rear_wheel_drive</td>\n",
       "      <td>2.0</td>\n",
       "      <td>factory_tuner,luxury,high-performance</td>\n",
       "      <td>compact</td>\n",
       "      <td>coupe</td>\n",
       "      <td>26</td>\n",
       "      <td>19</td>\n",
       "      <td>3916</td>\n",
       "      <td>46135</td>\n",
       "    </tr>\n",
       "    <tr>\n",
       "      <th>1</th>\n",
       "      <td>bmw</td>\n",
       "      <td>1_series</td>\n",
       "      <td>2011</td>\n",
       "      <td>premium_unleaded_(required)</td>\n",
       "      <td>300.0</td>\n",
       "      <td>6.0</td>\n",
       "      <td>manual</td>\n",
       "      <td>rear_wheel_drive</td>\n",
       "      <td>2.0</td>\n",
       "      <td>luxury,performance</td>\n",
       "      <td>compact</td>\n",
       "      <td>convertible</td>\n",
       "      <td>28</td>\n",
       "      <td>19</td>\n",
       "      <td>3916</td>\n",
       "      <td>40650</td>\n",
       "    </tr>\n",
       "    <tr>\n",
       "      <th>2</th>\n",
       "      <td>bmw</td>\n",
       "      <td>1_series</td>\n",
       "      <td>2011</td>\n",
       "      <td>premium_unleaded_(required)</td>\n",
       "      <td>300.0</td>\n",
       "      <td>6.0</td>\n",
       "      <td>manual</td>\n",
       "      <td>rear_wheel_drive</td>\n",
       "      <td>2.0</td>\n",
       "      <td>luxury,high-performance</td>\n",
       "      <td>compact</td>\n",
       "      <td>coupe</td>\n",
       "      <td>28</td>\n",
       "      <td>20</td>\n",
       "      <td>3916</td>\n",
       "      <td>36350</td>\n",
       "    </tr>\n",
       "    <tr>\n",
       "      <th>3</th>\n",
       "      <td>bmw</td>\n",
       "      <td>1_series</td>\n",
       "      <td>2011</td>\n",
       "      <td>premium_unleaded_(required)</td>\n",
       "      <td>230.0</td>\n",
       "      <td>6.0</td>\n",
       "      <td>manual</td>\n",
       "      <td>rear_wheel_drive</td>\n",
       "      <td>2.0</td>\n",
       "      <td>luxury,performance</td>\n",
       "      <td>compact</td>\n",
       "      <td>coupe</td>\n",
       "      <td>28</td>\n",
       "      <td>18</td>\n",
       "      <td>3916</td>\n",
       "      <td>29450</td>\n",
       "    </tr>\n",
       "    <tr>\n",
       "      <th>4</th>\n",
       "      <td>bmw</td>\n",
       "      <td>1_series</td>\n",
       "      <td>2011</td>\n",
       "      <td>premium_unleaded_(required)</td>\n",
       "      <td>230.0</td>\n",
       "      <td>6.0</td>\n",
       "      <td>manual</td>\n",
       "      <td>rear_wheel_drive</td>\n",
       "      <td>2.0</td>\n",
       "      <td>luxury</td>\n",
       "      <td>compact</td>\n",
       "      <td>convertible</td>\n",
       "      <td>28</td>\n",
       "      <td>18</td>\n",
       "      <td>3916</td>\n",
       "      <td>34500</td>\n",
       "    </tr>\n",
       "    <tr>\n",
       "      <th>...</th>\n",
       "      <td>...</td>\n",
       "      <td>...</td>\n",
       "      <td>...</td>\n",
       "      <td>...</td>\n",
       "      <td>...</td>\n",
       "      <td>...</td>\n",
       "      <td>...</td>\n",
       "      <td>...</td>\n",
       "      <td>...</td>\n",
       "      <td>...</td>\n",
       "      <td>...</td>\n",
       "      <td>...</td>\n",
       "      <td>...</td>\n",
       "      <td>...</td>\n",
       "      <td>...</td>\n",
       "      <td>...</td>\n",
       "    </tr>\n",
       "    <tr>\n",
       "      <th>11909</th>\n",
       "      <td>acura</td>\n",
       "      <td>zdx</td>\n",
       "      <td>2012</td>\n",
       "      <td>premium_unleaded_(required)</td>\n",
       "      <td>300.0</td>\n",
       "      <td>6.0</td>\n",
       "      <td>automatic</td>\n",
       "      <td>all_wheel_drive</td>\n",
       "      <td>4.0</td>\n",
       "      <td>crossover,hatchback,luxury</td>\n",
       "      <td>midsize</td>\n",
       "      <td>4dr_hatchback</td>\n",
       "      <td>23</td>\n",
       "      <td>16</td>\n",
       "      <td>204</td>\n",
       "      <td>46120</td>\n",
       "    </tr>\n",
       "    <tr>\n",
       "      <th>11910</th>\n",
       "      <td>acura</td>\n",
       "      <td>zdx</td>\n",
       "      <td>2012</td>\n",
       "      <td>premium_unleaded_(required)</td>\n",
       "      <td>300.0</td>\n",
       "      <td>6.0</td>\n",
       "      <td>automatic</td>\n",
       "      <td>all_wheel_drive</td>\n",
       "      <td>4.0</td>\n",
       "      <td>crossover,hatchback,luxury</td>\n",
       "      <td>midsize</td>\n",
       "      <td>4dr_hatchback</td>\n",
       "      <td>23</td>\n",
       "      <td>16</td>\n",
       "      <td>204</td>\n",
       "      <td>56670</td>\n",
       "    </tr>\n",
       "    <tr>\n",
       "      <th>11911</th>\n",
       "      <td>acura</td>\n",
       "      <td>zdx</td>\n",
       "      <td>2012</td>\n",
       "      <td>premium_unleaded_(required)</td>\n",
       "      <td>300.0</td>\n",
       "      <td>6.0</td>\n",
       "      <td>automatic</td>\n",
       "      <td>all_wheel_drive</td>\n",
       "      <td>4.0</td>\n",
       "      <td>crossover,hatchback,luxury</td>\n",
       "      <td>midsize</td>\n",
       "      <td>4dr_hatchback</td>\n",
       "      <td>23</td>\n",
       "      <td>16</td>\n",
       "      <td>204</td>\n",
       "      <td>50620</td>\n",
       "    </tr>\n",
       "    <tr>\n",
       "      <th>11912</th>\n",
       "      <td>acura</td>\n",
       "      <td>zdx</td>\n",
       "      <td>2013</td>\n",
       "      <td>premium_unleaded_(recommended)</td>\n",
       "      <td>300.0</td>\n",
       "      <td>6.0</td>\n",
       "      <td>automatic</td>\n",
       "      <td>all_wheel_drive</td>\n",
       "      <td>4.0</td>\n",
       "      <td>crossover,hatchback,luxury</td>\n",
       "      <td>midsize</td>\n",
       "      <td>4dr_hatchback</td>\n",
       "      <td>23</td>\n",
       "      <td>16</td>\n",
       "      <td>204</td>\n",
       "      <td>50920</td>\n",
       "    </tr>\n",
       "    <tr>\n",
       "      <th>11913</th>\n",
       "      <td>lincoln</td>\n",
       "      <td>zephyr</td>\n",
       "      <td>2006</td>\n",
       "      <td>regular_unleaded</td>\n",
       "      <td>221.0</td>\n",
       "      <td>6.0</td>\n",
       "      <td>automatic</td>\n",
       "      <td>front_wheel_drive</td>\n",
       "      <td>4.0</td>\n",
       "      <td>luxury</td>\n",
       "      <td>midsize</td>\n",
       "      <td>sedan</td>\n",
       "      <td>26</td>\n",
       "      <td>17</td>\n",
       "      <td>61</td>\n",
       "      <td>28995</td>\n",
       "    </tr>\n",
       "  </tbody>\n",
       "</table>\n",
       "<p>11914 rows × 16 columns</p>\n",
       "</div>"
      ],
      "text/plain": [
       "          make       model  year                engine_fuel_type  engine_hp  \\\n",
       "0          bmw  1_series_m  2011     premium_unleaded_(required)      335.0   \n",
       "1          bmw    1_series  2011     premium_unleaded_(required)      300.0   \n",
       "2          bmw    1_series  2011     premium_unleaded_(required)      300.0   \n",
       "3          bmw    1_series  2011     premium_unleaded_(required)      230.0   \n",
       "4          bmw    1_series  2011     premium_unleaded_(required)      230.0   \n",
       "...        ...         ...   ...                             ...        ...   \n",
       "11909    acura         zdx  2012     premium_unleaded_(required)      300.0   \n",
       "11910    acura         zdx  2012     premium_unleaded_(required)      300.0   \n",
       "11911    acura         zdx  2012     premium_unleaded_(required)      300.0   \n",
       "11912    acura         zdx  2013  premium_unleaded_(recommended)      300.0   \n",
       "11913  lincoln      zephyr  2006                regular_unleaded      221.0   \n",
       "\n",
       "       engine_cylinders transmission_type      driven_wheels  number_of_doors  \\\n",
       "0                   6.0            manual   rear_wheel_drive              2.0   \n",
       "1                   6.0            manual   rear_wheel_drive              2.0   \n",
       "2                   6.0            manual   rear_wheel_drive              2.0   \n",
       "3                   6.0            manual   rear_wheel_drive              2.0   \n",
       "4                   6.0            manual   rear_wheel_drive              2.0   \n",
       "...                 ...               ...                ...              ...   \n",
       "11909               6.0         automatic    all_wheel_drive              4.0   \n",
       "11910               6.0         automatic    all_wheel_drive              4.0   \n",
       "11911               6.0         automatic    all_wheel_drive              4.0   \n",
       "11912               6.0         automatic    all_wheel_drive              4.0   \n",
       "11913               6.0         automatic  front_wheel_drive              4.0   \n",
       "\n",
       "                             market_category vehicle_size  vehicle_style  \\\n",
       "0      factory_tuner,luxury,high-performance      compact          coupe   \n",
       "1                         luxury,performance      compact    convertible   \n",
       "2                    luxury,high-performance      compact          coupe   \n",
       "3                         luxury,performance      compact          coupe   \n",
       "4                                     luxury      compact    convertible   \n",
       "...                                      ...          ...            ...   \n",
       "11909             crossover,hatchback,luxury      midsize  4dr_hatchback   \n",
       "11910             crossover,hatchback,luxury      midsize  4dr_hatchback   \n",
       "11911             crossover,hatchback,luxury      midsize  4dr_hatchback   \n",
       "11912             crossover,hatchback,luxury      midsize  4dr_hatchback   \n",
       "11913                                 luxury      midsize          sedan   \n",
       "\n",
       "       highway_mpg  city_mpg  popularity   msrp  \n",
       "0               26        19        3916  46135  \n",
       "1               28        19        3916  40650  \n",
       "2               28        20        3916  36350  \n",
       "3               28        18        3916  29450  \n",
       "4               28        18        3916  34500  \n",
       "...            ...       ...         ...    ...  \n",
       "11909           23        16         204  46120  \n",
       "11910           23        16         204  56670  \n",
       "11911           23        16         204  50620  \n",
       "11912           23        16         204  50920  \n",
       "11913           26        17          61  28995  \n",
       "\n",
       "[11914 rows x 16 columns]"
      ]
     },
     "execution_count": 222,
     "metadata": {},
     "output_type": "execute_result"
    }
   ],
   "source": [
    "for col in strings_columns:\n",
    "    df[col] = df[col].str.lower().str.replace(' ', '_')\n",
    "\n",
    "df"
   ]
  },
  {
   "cell_type": "code",
   "execution_count": 223,
   "metadata": {},
   "outputs": [
    {
     "data": {
      "text/plain": [
       "make                  object\n",
       "model                 object\n",
       "year                   int64\n",
       "engine_fuel_type      object\n",
       "engine_hp            float64\n",
       "engine_cylinders     float64\n",
       "transmission_type     object\n",
       "driven_wheels         object\n",
       "number_of_doors      float64\n",
       "market_category       object\n",
       "vehicle_size          object\n",
       "vehicle_style         object\n",
       "highway_mpg            int64\n",
       "city_mpg               int64\n",
       "popularity             int64\n",
       "msrp                   int64\n",
       "dtype: object"
      ]
     },
     "execution_count": 223,
     "metadata": {},
     "output_type": "execute_result"
    }
   ],
   "source": [
    "df.dtypes"
   ]
  },
  {
   "cell_type": "markdown",
   "id": "ab0ebb7d",
   "metadata": {},
   "source": [
    "### What Features does the dataset contain?\n",
    "\n",
    "This dataset contains multiple columns (features):\n",
    "\n",
    "- **make:** The car's brand (e.g., BMW, Toyota, etc.)\n",
    "- **model:** The car's specific model\n",
    "- **year:** The manufacturing year of the car\n",
    "- **engine_fuel_type:** The type of fuel required by the engine (e.g., diesel, electric, etc.)\n",
    "- **engine_hp:** The engine's horsepower\n",
    "- **engine_cylinders:** The number of engine cylinders\n",
    "- **transmission_type:** The type of transmission (automatic or manual)\n",
    "- **driven_wheels:** Front, rear, or all-wheel drive\n",
    "- **number_of_doors:** The number of doors in the car\n",
    "- **market_category:** Market segment (e.g., luxury, crossover, etc.)\n",
    "- **vehicle_size:** The size classification (compact, midsize, or large)\n",
    "- **vehicle_style:** The body style (e.g., sedan or convertible)\n",
    "- **highway_mpg:** Fuel efficiency on the highway (measured in miles per gallon)\n",
    "- **city_mpg:** Fuel efficiency in the city (measured in miles per gallon)\n",
    "- **popularity:** The number of times the car was mentioned in a Twitter stream\n",
    "- **msrp:** The manufacturer's suggested retail price\n",
    "\n",
    "Our primary focus in this dataset is the MSRP column, which represents the car's price. We will use this column to predict car prices."
   ]
  },
  {
   "cell_type": "markdown",
   "metadata": {},
   "source": [
    "## 2.3 Exploratory data analysis"
   ]
  },
  {
   "cell_type": "code",
   "execution_count": 8,
   "id": "368f1a31",
   "metadata": {},
   "outputs": [
    {
     "name": "stdout",
     "output_type": "stream",
     "text": [
      "make\n",
      "['bmw' 'audi' 'fiat' 'mercedes-benz' 'chrysler']\n",
      "48\n",
      "\n",
      "model\n",
      "['1_series_m' '1_series' '100' '124_spider' '190-class']\n",
      "914\n",
      "\n",
      "year\n",
      "[2011 2012 2013 1992 1993]\n",
      "28\n",
      "\n",
      "engine_fuel_type\n",
      "['premium_unleaded_(required)' 'regular_unleaded'\n",
      " 'premium_unleaded_(recommended)' 'flex-fuel_(unleaded/e85)' 'diesel']\n",
      "10\n",
      "\n",
      "engine_hp\n",
      "[335. 300. 230. 320. 172.]\n",
      "356\n",
      "\n",
      "engine_cylinders\n",
      "[ 6.  4.  5.  8. 12.]\n",
      "9\n",
      "\n",
      "transmission_type\n",
      "['manual' 'automatic' 'automated_manual' 'direct_drive' 'unknown']\n",
      "5\n",
      "\n",
      "driven_wheels\n",
      "['rear_wheel_drive' 'front_wheel_drive' 'all_wheel_drive'\n",
      " 'four_wheel_drive']\n",
      "4\n",
      "\n",
      "number_of_doors\n",
      "[ 2.  4.  3. nan]\n",
      "3\n",
      "\n",
      "market_category\n",
      "['factory_tuner,luxury,high-performance' 'luxury,performance'\n",
      " 'luxury,high-performance' 'luxury' 'performance']\n",
      "71\n",
      "\n",
      "vehicle_size\n",
      "['compact' 'midsize' 'large']\n",
      "3\n",
      "\n",
      "vehicle_style\n",
      "['coupe' 'convertible' 'sedan' 'wagon' '4dr_hatchback']\n",
      "16\n",
      "\n",
      "highway_mpg\n",
      "[26 28 27 25 24]\n",
      "59\n",
      "\n",
      "city_mpg\n",
      "[19 20 18 17 16]\n",
      "69\n",
      "\n",
      "popularity\n",
      "[3916 3105  819  617 1013]\n",
      "48\n",
      "\n",
      "msrp\n",
      "[46135 40650 36350 29450 34500]\n",
      "6049\n",
      "\n"
     ]
    }
   ],
   "source": [
    "for col in df.columns:\n",
    "    print(col)\n",
    "    print(df[col].unique()[:5])\n",
    "    print(df[col].nunique())\n",
    "    print()"
   ]
  },
  {
   "cell_type": "markdown",
   "id": "801d52ac",
   "metadata": {},
   "source": [
    "The **MSRP** column holds crucial data, as it represents our target variable, the `y`, which is the value we aim to predict accurately.\n",
    "\n",
    "A vital initial step in exploratory data analysis is examining the distribution of `y`. By doing so, we gain insight into the possible values of `y` and their frequency of occurrence. This visualization is commonly referred to as a histogram, which effectively conveys the distribution of our target variable."
   ]
  },
  {
   "cell_type": "markdown",
   "metadata": {},
   "source": [
    "Distribution of price"
   ]
  },
  {
   "cell_type": "code",
   "execution_count": 224,
   "metadata": {},
   "outputs": [],
   "source": [
    "import matplotlib.pyplot as plt\n",
    "import seaborn as sns\n",
    "\n",
    "#%matplotlib inline"
   ]
  },
  {
   "cell_type": "code",
   "execution_count": 38,
   "metadata": {},
   "outputs": [
    {
     "name": "stderr",
     "output_type": "stream",
     "text": [
      "c:\\Users\\spradkyl\\AppData\\Local\\anaconda3\\Lib\\site-packages\\seaborn\\_oldcore.py:1119: FutureWarning: use_inf_as_na option is deprecated and will be removed in a future version. Convert inf values to NaN before operating instead.\n",
      "  with pd.option_context('mode.use_inf_as_na', True):\n"
     ]
    },
    {
     "data": {
      "image/png": "[encoded data removed]",
      "text/plain": [
       "<Figure size 600x400 with 1 Axes>"
      ]
     },
     "metadata": {},
     "output_type": "display_data"
    }
   ],
   "source": [
    "# Vehicle MSRP distribution\n",
    "plt.figure(figsize=(6, 4))\n",
    "\n",
    "sns.histplot(df.msrp, bins=50)\n",
    "plt.ylabel('Frequency')\n",
    "plt.xlabel('MSRP')\n",
    "plt.title('Distribution of MSRP')\n",
    "\n",
    "plt.show()\n",
    "# long tail distribution"
   ]
  },
  {
   "cell_type": "markdown",
   "id": "16e5500c",
   "metadata": {},
   "source": [
    "**Long-Tail Distribution:**\n",
    "\n",
    "Visualizing the long-tail distribution can be challenging due to the extreme values that make it difficult to discern the shape of the distribution. Training a model on this type of data can also be problematic, as the distribution may cause confusion for the model, hindering its ability to learn the important features effectively."
   ]
  },
  {
   "cell_type": "code",
   "execution_count": 44,
   "metadata": {},
   "outputs": [
    {
     "name": "stderr",
     "output_type": "stream",
     "text": [
      "c:\\Users\\spradkyl\\AppData\\Local\\anaconda3\\Lib\\site-packages\\seaborn\\_oldcore.py:1119: FutureWarning: use_inf_as_na option is deprecated and will be removed in a future version. Convert inf values to NaN before operating instead.\n",
      "  with pd.option_context('mode.use_inf_as_na', True):\n"
     ]
    },
    {
     "data": {
      "image/png": "[encoded data removed]",
      "text/plain": [
       "<Figure size 640x480 with 1 Axes>"
      ]
     },
     "metadata": {},
     "output_type": "display_data"
    }
   ],
   "source": [
    "# zooming in on the data to see a more normalized view\n",
    "\n",
    "sns.histplot(df.msrp[df.msrp < 100000], bins=50)\n",
    "plt.ylabel('Frequency')\n",
    "plt.xlabel('MSRP')\n",
    "plt.title('Distribution of MSRP')\n",
    "\n",
    "plt.show()"
   ]
  },
  {
   "cell_type": "code",
   "execution_count": 39,
   "id": "92185b80",
   "metadata": {},
   "outputs": [
    {
     "name": "stderr",
     "output_type": "stream",
     "text": [
      "c:\\Users\\spradkyl\\AppData\\Local\\anaconda3\\Lib\\site-packages\\seaborn\\_oldcore.py:1119: FutureWarning: use_inf_as_na option is deprecated and will be removed in a future version. Convert inf values to NaN before operating instead.\n",
      "  with pd.option_context('mode.use_inf_as_na', True):\n"
     ]
    },
    {
     "data": {
      "text/plain": [
       "Text(0.5, 1.0, 'Distribution of MSRP')"
      ]
     },
     "execution_count": 39,
     "metadata": {},
     "output_type": "execute_result"
    },
    {
     "data": {
      "image/png": "[encoded data removed]",
      "text/plain": [
       "<Figure size 640x480 with 1 Axes>"
      ]
     },
     "metadata": {},
     "output_type": "display_data"
    }
   ],
   "source": [
    "import matplotlib.ticker as mtick\n",
    "\n",
    "sns.histplot(df.msrp[df.msrp < 100000], bins=50)\n",
    "plt.gca().xaxis.set_major_formatter(mtick.StrMethodFormatter('${x:,.0f}'))\n",
    "plt.ylabel('Frequency')\n",
    "plt.xlabel('MSRP')\n",
    "plt.title('Distribution of MSRP')"
   ]
  },
  {
   "cell_type": "markdown",
   "id": "390bc00d",
   "metadata": {},
   "source": [
    "**Closer look at the data:**\n",
    "\n",
    "By taking a closer look at values below `$100,000`, we are able to take a closer look at the distribution. There is a high frequency of vehicles with a low **`MSRP`**, but the count rapidly drops off. Looking at the right-side of the Histogram, we can more closely see the **long-tail distribution**. \n",
    "\n",
    "The histogram suggests that the data is **right-skewed (positively skewed)** distribution, this is common for price data because:\n",
    "- Prices have a natural floor *(can't be negative)*\n",
    "- No theoretical upper limit *(luxury/exotic vehicles)*\n",
    "- Most products cluster around affordable ranges\n",
    "- Few extremely expensive outliers stretch the tail"
   ]
  },
  {
   "cell_type": "code",
   "execution_count": 51,
   "metadata": {},
   "outputs": [
    {
     "data": {
      "text/plain": [
       "array([ 0.        ,  0.69314718,  2.39789527,  6.90875478, 11.51293546])"
      ]
     },
     "execution_count": 51,
     "metadata": {},
     "output_type": "execute_result"
    }
   ],
   "source": [
    "np.log1p([0, 1, 10, 1000, 100000])"
   ]
  },
  {
   "cell_type": "markdown",
   "id": "ef19ce86",
   "metadata": {},
   "source": [
    "**Log**\n",
    "\n",
    "```python\n",
    "np.log1p\n",
    "```\n",
    "\n",
    "log1p is a mathematical function that computes the natural logarithm of (1 + x), where x is your input value. In NumPy, it's accessed as `np.log1p(x)`, and it's mathematically equivalent to $\\log(1 + x)$, but with crucial numerical advantages.\n",
    "\n",
    "**Training Note:**\n",
    "\n",
    "An important gotcha to remember: when you train a model on log-transformed targets, your predictions will also be in log-space. To convert them back to the original scale (MPG values), you'll need to use the inverse operation: `np.expm1(predictions)`, which computes $e^x - 1$. This reverses the log1p transformation and gives you interpretable fuel efficiency values.\n",
    "```"
   ]
  },
  {
   "cell_type": "code",
   "execution_count": 59,
   "metadata": {},
   "outputs": [],
   "source": [
    "# using log to normalize the msrp values\n",
    "price_logs = np.log1p(df.msrp)"
   ]
  },
  {
   "cell_type": "markdown",
   "id": "cb2f606f",
   "metadata": {},
   "source": [
    "After transformation, the distribution looks more normal (bell-shaped), which:\n",
    "- Makes linear regression work better\n",
    "- Reduces the influence of extreme values\n",
    "- Improves prediction accuracy across all price ranges"
   ]
  },
  {
   "cell_type": "code",
   "execution_count": 84,
   "metadata": {},
   "outputs": [
    {
     "name": "stderr",
     "output_type": "stream",
     "text": [
      "c:\\Users\\spradkyl\\AppData\\Local\\anaconda3\\Lib\\site-packages\\seaborn\\_oldcore.py:1119: FutureWarning: use_inf_as_na option is deprecated and will be removed in a future version. Convert inf values to NaN before operating instead.\n",
      "  with pd.option_context('mode.use_inf_as_na', True):\n"
     ]
    },
    {
     "data": {
      "image/png": "[encoded data removed]",
      "text/plain": [
       "<Figure size 640x480 with 1 Axes>"
      ]
     },
     "metadata": {},
     "output_type": "display_data"
    }
   ],
   "source": [
    "# Plotting the normalized MSRP data\n",
    "\n",
    "sns.histplot(price_logs, bins=40)\n",
    "plt.ylabel('Frequency')\n",
    "plt.xlabel('Log(MSRP + 1)')\n",
    "plt.suptitle('Distribution of MSRP')\n",
    "plt.title('after log transformation')\n",
    "\n",
    "plt.show()"
   ]
  },
  {
   "cell_type": "markdown",
   "metadata": {},
   "source": [
    "Missing values"
   ]
  },
  {
   "cell_type": "code",
   "execution_count": 93,
   "metadata": {},
   "outputs": [
    {
     "data": {
      "text/plain": [
       "make                    0\n",
       "model                   0\n",
       "year                    0\n",
       "engine_fuel_type        3\n",
       "engine_hp              69\n",
       "engine_cylinders       30\n",
       "transmission_type       0\n",
       "driven_wheels           0\n",
       "number_of_doors         6\n",
       "market_category      3742\n",
       "vehicle_size            0\n",
       "vehicle_style           0\n",
       "highway_mpg             0\n",
       "city_mpg                0\n",
       "popularity              0\n",
       "msrp                    0\n",
       "dtype: int64"
      ]
     },
     "execution_count": 93,
     "metadata": {},
     "output_type": "execute_result"
    }
   ],
   "source": [
    "df.isnull().sum()"
   ]
  },
  {
   "cell_type": "markdown",
   "metadata": {},
   "source": [
    "## 2.4 Setting up the validation framework"
   ]
  },
  {
   "cell_type": "code",
   "execution_count": 18,
   "id": "c1d4c469",
   "metadata": {},
   "outputs": [
    {
     "name": "stdout",
     "output_type": "stream",
     "text": [
      "Total Records: 11914\n"
     ]
    }
   ],
   "source": [
    "print(f'Total Records: {df.shape[0]}')"
   ]
  },
  {
   "cell_type": "markdown",
   "metadata": {},
   "source": [
    "### validation, training, test.... sizing\n",
    "\n",
    "Let's draw it"
   ]
  },
  {
   "cell_type": "code",
   "execution_count": 225,
   "metadata": {},
   "outputs": [],
   "source": [
    "n = len(df) # number of records\n",
    "n_val = int(n * 0.2) #20% for validation\n",
    "n_test = int(n * 0.2) #20% for test\n",
    "n_train = n - (n_val + n_test) #60% for training"
   ]
  },
  {
   "cell_type": "code",
   "execution_count": 9,
   "id": "f321bc03",
   "metadata": {},
   "outputs": [
    {
     "name": "stdout",
     "output_type": "stream",
     "text": [
      "n: 11914\n",
      "n_val: 2382\n",
      "n_test: 2382\n",
      "n_train: 7150\n"
     ]
    }
   ],
   "source": [
    "print(f'n: {n}')\n",
    "print(f'n_val: {n_val}')\n",
    "print(f'n_test: {n_test}')\n",
    "print(f'n_train: {n_train}')"
   ]
  },
  {
   "cell_type": "markdown",
   "id": "59ee21f3",
   "metadata": {},
   "source": [
    "#### Shuffling the data"
   ]
  },
  {
   "cell_type": "code",
   "execution_count": 226,
   "id": "f1723340",
   "metadata": {},
   "outputs": [
    {
     "data": {
      "application/vnd.microsoft.datawrangler.viewer.v0+json": {
       "columns": [
        {
         "name": "index",
         "rawType": "int64",
         "type": "integer"
        },
        {
         "name": "make",
         "rawType": "object",
         "type": "string"
        },
        {
         "name": "model",
         "rawType": "object",
         "type": "string"
        },
        {
         "name": "year",
         "rawType": "int64",
         "type": "integer"
        },
        {
         "name": "engine_fuel_type",
         "rawType": "object",
         "type": "unknown"
        },
        {
         "name": "engine_hp",
         "rawType": "float64",
         "type": "float"
        },
        {
         "name": "engine_cylinders",
         "rawType": "float64",
         "type": "float"
        },
        {
         "name": "transmission_type",
         "rawType": "object",
         "type": "string"
        },
        {
         "name": "driven_wheels",
         "rawType": "object",
         "type": "string"
        },
        {
         "name": "number_of_doors",
         "rawType": "float64",
         "type": "float"
        },
        {
         "name": "market_category",
         "rawType": "object",
         "type": "unknown"
        },
        {
         "name": "vehicle_size",
         "rawType": "object",
         "type": "string"
        },
        {
         "name": "vehicle_style",
         "rawType": "object",
         "type": "string"
        },
        {
         "name": "highway_mpg",
         "rawType": "int64",
         "type": "integer"
        },
        {
         "name": "city_mpg",
         "rawType": "int64",
         "type": "integer"
        },
        {
         "name": "popularity",
         "rawType": "int64",
         "type": "integer"
        },
        {
         "name": "msrp",
         "rawType": "int64",
         "type": "integer"
        }
       ],
       "ref": "495d522c-9c1f-4952-959e-bdb0013346f5",
       "rows": [
        [
         "2735",
         "chevrolet",
         "cobalt",
         "2008",
         "regular_unleaded",
         "148.0",
         "4.0",
         "manual",
         "front_wheel_drive",
         "2.0",
         null,
         "compact",
         "coupe",
         "33",
         "24",
         "1385",
         "14410"
        ],
        [
         "6720",
         "toyota",
         "matrix",
         "2012",
         "regular_unleaded",
         "132.0",
         "4.0",
         "automatic",
         "front_wheel_drive",
         "4.0",
         "hatchback",
         "compact",
         "4dr_hatchback",
         "32",
         "25",
         "2031",
         "19685"
        ],
        [
         "5878",
         "subaru",
         "impreza",
         "2016",
         "regular_unleaded",
         "148.0",
         "4.0",
         "automatic",
         "all_wheel_drive",
         "4.0",
         "hatchback",
         "compact",
         "4dr_hatchback",
         "37",
         "28",
         "640",
         "19795"
        ],
        [
         "11190",
         "volkswagen",
         "vanagon",
         "1991",
         "regular_unleaded",
         "90.0",
         "4.0",
         "manual",
         "rear_wheel_drive",
         "3.0",
         null,
         "large",
         "passenger_minivan",
         "18",
         "16",
         "873",
         "2000"
        ],
        [
         "4554",
         "ford",
         "f-150",
         "2017",
         "flex-fuel_(unleaded/e85)",
         "385.0",
         "8.0",
         "automatic",
         "four_wheel_drive",
         "4.0",
         "flex_fuel",
         "large",
         "crew_cab_pickup",
         "21",
         "15",
         "5657",
         "56260"
        ],
        [
         "8001",
         "volkswagen",
         "rabbit",
         "2008",
         "regular_unleaded",
         "170.0",
         "5.0",
         "manual",
         "front_wheel_drive",
         "4.0",
         "hatchback",
         "compact",
         "4dr_hatchback",
         "29",
         "22",
         "873",
         "17575"
        ],
        [
         "2882",
         "bentley",
         "continental_gtc",
         "2013",
         "premium_unleaded_(required)",
         "500.0",
         "8.0",
         "automatic",
         "all_wheel_drive",
         "2.0",
         "exotic,luxury,high-performance",
         "midsize",
         "convertible",
         "24",
         "14",
         "520",
         "191400"
        ],
        [
         "649",
         "bmw",
         "6_series",
         "2015",
         "premium_unleaded_(required)",
         "315.0",
         "6.0",
         "automatic",
         "rear_wheel_drive",
         "2.0",
         "luxury,performance",
         "midsize",
         "coupe",
         "32",
         "21",
         "3916",
         "76100"
        ],
        [
         "616",
         "maybach",
         "57",
         "2012",
         "premium_unleaded_(required)",
         "543.0",
         "12.0",
         "automatic",
         "rear_wheel_drive",
         "4.0",
         "exotic,luxury",
         "large",
         "sedan",
         "16",
         "10",
         "67",
         "379050"
        ],
        [
         "4459",
         "ford",
         "f-150_heritage",
         "2004",
         "regular_unleaded",
         "202.0",
         "6.0",
         "manual",
         "four_wheel_drive",
         "2.0",
         null,
         "large",
         "regular_cab_pickup",
         "18",
         "13",
         "5657",
         "26030"
        ],
        [
         "7557",
         "rolls-royce",
         "phantom_drophead_coupe",
         "2015",
         "premium_unleaded_(required)",
         "453.0",
         "12.0",
         "automatic",
         "rear_wheel_drive",
         "2.0",
         "exotic,luxury,performance",
         "large",
         "convertible",
         "19",
         "11",
         "86",
         "479775"
        ],
        [
         "4060",
         "chevrolet",
         "equinox",
         "2015",
         "regular_unleaded",
         "182.0",
         "4.0",
         "automatic",
         "all_wheel_drive",
         "4.0",
         "crossover,flex_fuel",
         "compact",
         "4dr_suv",
         "29",
         "20",
         "1385",
         "33670"
        ],
        [
         "3773",
         "mitsubishi",
         "eclipse_spyder",
         "2011",
         "regular_unleaded",
         "162.0",
         "4.0",
         "automatic",
         "front_wheel_drive",
         "2.0",
         null,
         "compact",
         "convertible",
         "27",
         "20",
         "436",
         "27999"
        ],
        [
         "2166",
         "ferrari",
         "california_t",
         "2015",
         "premium_unleaded_(required)",
         "553.0",
         "8.0",
         "automated_manual",
         "rear_wheel_drive",
         "2.0",
         "exotic,high-performance",
         "compact",
         "convertible",
         "23",
         "16",
         "2774",
         "198973"
        ],
        [
         "7822",
         "audi",
         "q5",
         "2017",
         "premium_unleaded_(required)",
         "272.0",
         "6.0",
         "automatic",
         "all_wheel_drive",
         "4.0",
         "crossover,luxury",
         "midsize",
         "4dr_suv",
         "26",
         "18",
         "3105",
         "53200"
        ],
        [
         "11799",
         "subaru",
         "xv_crosstrek",
         "2014",
         "regular_unleaded",
         "160.0",
         "4.0",
         "automatic",
         "all_wheel_drive",
         "4.0",
         "crossover,hybrid",
         "compact",
         "4dr_suv",
         "33",
         "29",
         "640",
         "29295"
        ],
        [
         "5258",
         "hyundai",
         "genesis_coupe",
         "2016",
         "premium_unleaded_(recommended)",
         "348.0",
         "6.0",
         "manual",
         "rear_wheel_drive",
         "2.0",
         "high-performance",
         "midsize",
         "coupe",
         "24",
         "17",
         "1439",
         "33750"
        ],
        [
         "6803",
         "mitsubishi",
         "mighty_max_pickup",
         "1994",
         "regular_unleaded",
         "151.0",
         "4.0",
         "manual",
         "rear_wheel_drive",
         "2.0",
         null,
         "compact",
         "extended_cab_pickup",
         "23",
         "18",
         "436",
         "2000"
        ],
        [
         "3423",
         "dodge",
         "dakota",
         "2008",
         "regular_unleaded",
         "210.0",
         "6.0",
         "manual",
         "four_wheel_drive",
         "4.0",
         null,
         "compact",
         "extended_cab_pickup",
         "19",
         "15",
         "1851",
         "25245"
        ],
        [
         "7718",
         "ford",
         "probe",
         "1996",
         "regular_unleaded",
         "164.0",
         "6.0",
         "manual",
         "front_wheel_drive",
         "2.0",
         "hatchback,performance",
         "compact",
         "2dr_hatchback",
         "24",
         "18",
         "5657",
         "2000"
        ],
        [
         "10383",
         "ford",
         "thunderbird",
         "2005",
         "premium_unleaded_(required)",
         "280.0",
         "8.0",
         "automatic",
         "rear_wheel_drive",
         "2.0",
         "performance",
         "midsize",
         "convertible",
         "22",
         "16",
         "5657",
         "38355"
        ],
        [
         "9273",
         "gmc",
         "sierra_1500_classic",
         "2007",
         "flex-fuel_(unleaded/e85)",
         "295.0",
         "8.0",
         "automatic",
         "four_wheel_drive",
         "4.0",
         "flex_fuel",
         "large",
         "extended_cab_pickup",
         "17",
         "13",
         "549",
         "28790"
        ],
        [
         "648",
         "bmw",
         "6_series",
         "2015",
         "premium_unleaded_(required)",
         "315.0",
         "6.0",
         "automatic",
         "all_wheel_drive",
         "2.0",
         "luxury,performance",
         "midsize",
         "coupe",
         "29",
         "20",
         "3916",
         "79100"
        ],
        [
         "2296",
         "gmc",
         "canyon",
         "2016",
         "regular_unleaded",
         "305.0",
         "6.0",
         "automatic",
         "four_wheel_drive",
         "4.0",
         "diesel",
         "compact",
         "crew_cab_pickup",
         "24",
         "17",
         "549",
         "38110"
        ],
        [
         "1805",
         "volkswagen",
         "beetle_convertible",
         "2014",
         "regular_unleaded",
         "170.0",
         "4.0",
         "automatic",
         "front_wheel_drive",
         "2.0",
         null,
         "compact",
         "convertible",
         "32",
         "24",
         "873",
         "30755"
        ],
        [
         "4236",
         "suzuki",
         "esteem",
         "2001",
         "regular_unleaded",
         "122.0",
         "4.0",
         "manual",
         "front_wheel_drive",
         "4.0",
         null,
         "compact",
         "sedan",
         "32",
         "24",
         "481",
         "14899"
        ],
        [
         "6227",
         "nissan",
         "juke",
         "2016",
         "premium_unleaded_(recommended)",
         "188.0",
         "4.0",
         "manual",
         "front_wheel_drive",
         "4.0",
         "crossover,hatchback,performance",
         "compact",
         "4dr_hatchback",
         "34",
         "28",
         "2009",
         "24830"
        ],
        [
         "1315",
         "suzuki",
         "aerio",
         "2006",
         "regular_unleaded",
         "155.0",
         "4.0",
         "automatic",
         "front_wheel_drive",
         "4.0",
         null,
         "compact",
         "wagon",
         "28",
         "22",
         "481",
         "15499"
        ],
        [
         "6830",
         "mitsubishi",
         "mirage",
         "2014",
         "regular_unleaded",
         "74.0",
         "3.0",
         "manual",
         "front_wheel_drive",
         "4.0",
         "hatchback",
         "compact",
         "4dr_hatchback",
         "42",
         "34",
         "436",
         "14195"
        ],
        [
         "8579",
         "nissan",
         "rogue",
         "2015",
         "regular_unleaded",
         "170.0",
         "4.0",
         "automatic",
         "front_wheel_drive",
         "4.0",
         "crossover",
         "midsize",
         "4dr_suv",
         "33",
         "26",
         "2009",
         "23040"
        ],
        [
         "5323",
         "mercedes-benz",
         "gle-class",
         "2017",
         "premium_unleaded_(required)",
         "302.0",
         "6.0",
         "automatic",
         "rear_wheel_drive",
         "4.0",
         "crossover,luxury",
         "midsize",
         "4dr_suv",
         "23",
         "18",
         "617",
         "52000"
        ],
        [
         "4190",
         "ford",
         "escape_hybrid",
         "2011",
         "regular_unleaded",
         "177.0",
         "4.0",
         "automatic",
         "all_wheel_drive",
         "4.0",
         "crossover,hybrid",
         "compact",
         "4dr_suv",
         "27",
         "30",
         "5657",
         "32320"
        ],
        [
         "174",
         "mercedes-benz",
         "300-class",
         "1991",
         "diesel",
         "121.0",
         "5.0",
         "automatic",
         "rear_wheel_drive",
         "4.0",
         "diesel,luxury",
         "midsize",
         "sedan",
         "30",
         "23",
         "617",
         "2000"
        ],
        [
         "10419",
         "volkswagen",
         "tiguan",
         "2016",
         "premium_unleaded_(recommended)",
         "200.0",
         "4.0",
         "automatic",
         "all_wheel_drive",
         "4.0",
         "crossover",
         "compact",
         "4dr_suv",
         "26",
         "20",
         "873",
         "26865"
        ],
        [
         "6632",
         "porsche",
         "macan",
         "2017",
         "premium_unleaded_(required)",
         "400.0",
         "6.0",
         "automated_manual",
         "all_wheel_drive",
         "4.0",
         "crossover,luxury,performance",
         "midsize",
         "4dr_suv",
         "23",
         "17",
         "1715",
         "76000"
        ],
        [
         "2323",
         "chevrolet",
         "captiva_sport",
         "2014",
         "flex-fuel_(unleaded/e85)",
         "180.0",
         "4.0",
         "automatic",
         "front_wheel_drive",
         "4.0",
         "crossover,flex_fuel",
         "midsize",
         "4dr_suv",
         "28",
         "20",
         "1385",
         "24360"
        ],
        [
         "4990",
         "nissan",
         "frontier",
         "2016",
         "regular_unleaded",
         "152.0",
         "4.0",
         "manual",
         "rear_wheel_drive",
         "4.0",
         null,
         "compact",
         "extended_cab_pickup",
         "23",
         "19",
         "2009",
         "18290"
        ],
        [
         "2195",
         "chevrolet",
         "camaro",
         "2017",
         "premium_unleaded_(recommended)",
         "455.0",
         "8.0",
         "manual",
         "rear_wheel_drive",
         "2.0",
         "high-performance",
         "midsize",
         "coupe",
         "25",
         "16",
         "1385",
         "41905"
        ],
        [
         "5027",
         "ford",
         "fusion_hybrid",
         "2017",
         "regular_unleaded",
         "188.0",
         "4.0",
         "automatic",
         "front_wheel_drive",
         "4.0",
         "hybrid",
         "midsize",
         "sedan",
         "41",
         "43",
         "5657",
         "31010"
        ],
        [
         "7424",
         "porsche",
         "panamera",
         "2015",
         "premium_unleaded_(required)",
         "310.0",
         "6.0",
         "automated_manual",
         "rear_wheel_drive",
         "4.0",
         "luxury,performance",
         "large",
         "sedan",
         "28",
         "18",
         "1715",
         "78100"
        ],
        [
         "6241",
         "nissan",
         "juke",
         "2017",
         "premium_unleaded_(recommended)",
         "188.0",
         "4.0",
         "automatic",
         "all_wheel_drive",
         "4.0",
         "crossover,hatchback",
         "compact",
         "4dr_hatchback",
         "30",
         "26",
         "2009",
         "26940"
        ],
        [
         "1172",
         "hyundai",
         "accent",
         "2014",
         "regular_unleaded",
         "138.0",
         "4.0",
         "manual",
         "front_wheel_drive",
         "4.0",
         "hatchback",
         "compact",
         "4dr_hatchback",
         "38",
         "27",
         "1439",
         "14895"
        ],
        [
         "6271",
         "suzuki",
         "kizashi",
         "2011",
         "regular_unleaded",
         "180.0",
         "4.0",
         "automatic",
         "front_wheel_drive",
         "4.0",
         null,
         "midsize",
         "sedan",
         "30",
         "23",
         "481",
         "25949"
        ],
        [
         "338",
         "nissan",
         "370z",
         "2016",
         "premium_unleaded_(required)",
         "332.0",
         "6.0",
         "automatic",
         "rear_wheel_drive",
         "2.0",
         "high-performance",
         "compact",
         "coupe",
         "26",
         "19",
         "2009",
         "31290"
        ],
        [
         "10094",
         "ferrari",
         "superamerica",
         "2005",
         "premium_unleaded_(required)",
         "532.0",
         "12.0",
         "automated_manual",
         "rear_wheel_drive",
         "2.0",
         "exotic,high-performance",
         "compact",
         "convertible",
         "16",
         "9",
         "2774",
         "294080"
        ],
        [
         "11492",
         "bmw",
         "x3",
         "2015",
         "premium_unleaded_(required)",
         "240.0",
         "4.0",
         "automatic",
         "rear_wheel_drive",
         "4.0",
         "crossover,luxury",
         "midsize",
         "4dr_suv",
         "28",
         "21",
         "3916",
         "38500"
        ],
        [
         "8694",
         "lexus",
         "rx_450h",
         "2017",
         "premium_unleaded_(recommended)",
         "308.0",
         "6.0",
         "automatic",
         "all_wheel_drive",
         "4.0",
         "crossover,luxury,hybrid",
         "midsize",
         "4dr_suv",
         "28",
         "31",
         "454",
         "56495"
        ],
        [
         "3035",
         "maserati",
         "coupe",
         "2006",
         "premium_unleaded_(required)",
         "390.0",
         "8.0",
         "manual",
         "rear_wheel_drive",
         "2.0",
         "exotic,luxury,high-performance",
         "compact",
         "coupe",
         "17",
         "12",
         "238",
         "79900"
        ],
        [
         "3991",
         "gmc",
         "envoy_xl",
         "2005",
         "regular_unleaded",
         "275.0",
         "6.0",
         "automatic",
         "four_wheel_drive",
         "4.0",
         null,
         "large",
         "4dr_suv",
         "17",
         "12",
         "549",
         "36060"
        ],
        [
         "5083",
         "infiniti",
         "g_coupe",
         "2011",
         "premium_unleaded_(recommended)",
         "330.0",
         "6.0",
         "manual",
         "rear_wheel_drive",
         "2.0",
         "luxury,high-performance",
         "midsize",
         "coupe",
         "25",
         "17",
         "190",
         "43350"
        ]
       ],
       "shape": {
        "columns": 16,
        "rows": 11914
       }
      },
      "text/html": [
       "<div>\n",
       "<style scoped>\n",
       "    .dataframe tbody tr th:only-of-type {\n",
       "        vertical-align: middle;\n",
       "    }\n",
       "\n",
       "    .dataframe tbody tr th {\n",
       "        vertical-align: top;\n",
       "    }\n",
       "\n",
       "    .dataframe thead th {\n",
       "        text-align: right;\n",
       "    }\n",
       "</style>\n",
       "<table border=\"1\" class=\"dataframe\">\n",
       "  <thead>\n",
       "    <tr style=\"text-align: right;\">\n",
       "      <th></th>\n",
       "      <th>make</th>\n",
       "      <th>model</th>\n",
       "      <th>year</th>\n",
       "      <th>engine_fuel_type</th>\n",
       "      <th>engine_hp</th>\n",
       "      <th>engine_cylinders</th>\n",
       "      <th>transmission_type</th>\n",
       "      <th>driven_wheels</th>\n",
       "      <th>number_of_doors</th>\n",
       "      <th>market_category</th>\n",
       "      <th>vehicle_size</th>\n",
       "      <th>vehicle_style</th>\n",
       "      <th>highway_mpg</th>\n",
       "      <th>city_mpg</th>\n",
       "      <th>popularity</th>\n",
       "      <th>msrp</th>\n",
       "    </tr>\n",
       "  </thead>\n",
       "  <tbody>\n",
       "    <tr>\n",
       "      <th>2735</th>\n",
       "      <td>chevrolet</td>\n",
       "      <td>cobalt</td>\n",
       "      <td>2008</td>\n",
       "      <td>regular_unleaded</td>\n",
       "      <td>148.0</td>\n",
       "      <td>4.0</td>\n",
       "      <td>manual</td>\n",
       "      <td>front_wheel_drive</td>\n",
       "      <td>2.0</td>\n",
       "      <td>NaN</td>\n",
       "      <td>compact</td>\n",
       "      <td>coupe</td>\n",
       "      <td>33</td>\n",
       "      <td>24</td>\n",
       "      <td>1385</td>\n",
       "      <td>14410</td>\n",
       "    </tr>\n",
       "    <tr>\n",
       "      <th>6720</th>\n",
       "      <td>toyota</td>\n",
       "      <td>matrix</td>\n",
       "      <td>2012</td>\n",
       "      <td>regular_unleaded</td>\n",
       "      <td>132.0</td>\n",
       "      <td>4.0</td>\n",
       "      <td>automatic</td>\n",
       "      <td>front_wheel_drive</td>\n",
       "      <td>4.0</td>\n",
       "      <td>hatchback</td>\n",
       "      <td>compact</td>\n",
       "      <td>4dr_hatchback</td>\n",
       "      <td>32</td>\n",
       "      <td>25</td>\n",
       "      <td>2031</td>\n",
       "      <td>19685</td>\n",
       "    </tr>\n",
       "    <tr>\n",
       "      <th>5878</th>\n",
       "      <td>subaru</td>\n",
       "      <td>impreza</td>\n",
       "      <td>2016</td>\n",
       "      <td>regular_unleaded</td>\n",
       "      <td>148.0</td>\n",
       "      <td>4.0</td>\n",
       "      <td>automatic</td>\n",
       "      <td>all_wheel_drive</td>\n",
       "      <td>4.0</td>\n",
       "      <td>hatchback</td>\n",
       "      <td>compact</td>\n",
       "      <td>4dr_hatchback</td>\n",
       "      <td>37</td>\n",
       "      <td>28</td>\n",
       "      <td>640</td>\n",
       "      <td>19795</td>\n",
       "    </tr>\n",
       "    <tr>\n",
       "      <th>11190</th>\n",
       "      <td>volkswagen</td>\n",
       "      <td>vanagon</td>\n",
       "      <td>1991</td>\n",
       "      <td>regular_unleaded</td>\n",
       "      <td>90.0</td>\n",
       "      <td>4.0</td>\n",
       "      <td>manual</td>\n",
       "      <td>rear_wheel_drive</td>\n",
       "      <td>3.0</td>\n",
       "      <td>NaN</td>\n",
       "      <td>large</td>\n",
       "      <td>passenger_minivan</td>\n",
       "      <td>18</td>\n",
       "      <td>16</td>\n",
       "      <td>873</td>\n",
       "      <td>2000</td>\n",
       "    </tr>\n",
       "    <tr>\n",
       "      <th>4554</th>\n",
       "      <td>ford</td>\n",
       "      <td>f-150</td>\n",
       "      <td>2017</td>\n",
       "      <td>flex-fuel_(unleaded/e85)</td>\n",
       "      <td>385.0</td>\n",
       "      <td>8.0</td>\n",
       "      <td>automatic</td>\n",
       "      <td>four_wheel_drive</td>\n",
       "      <td>4.0</td>\n",
       "      <td>flex_fuel</td>\n",
       "      <td>large</td>\n",
       "      <td>crew_cab_pickup</td>\n",
       "      <td>21</td>\n",
       "      <td>15</td>\n",
       "      <td>5657</td>\n",
       "      <td>56260</td>\n",
       "    </tr>\n",
       "    <tr>\n",
       "      <th>...</th>\n",
       "      <td>...</td>\n",
       "      <td>...</td>\n",
       "      <td>...</td>\n",
       "      <td>...</td>\n",
       "      <td>...</td>\n",
       "      <td>...</td>\n",
       "      <td>...</td>\n",
       "      <td>...</td>\n",
       "      <td>...</td>\n",
       "      <td>...</td>\n",
       "      <td>...</td>\n",
       "      <td>...</td>\n",
       "      <td>...</td>\n",
       "      <td>...</td>\n",
       "      <td>...</td>\n",
       "      <td>...</td>\n",
       "    </tr>\n",
       "    <tr>\n",
       "      <th>2514</th>\n",
       "      <td>chevrolet</td>\n",
       "      <td>chevy_van</td>\n",
       "      <td>1998</td>\n",
       "      <td>regular_unleaded</td>\n",
       "      <td>200.0</td>\n",
       "      <td>6.0</td>\n",
       "      <td>automatic</td>\n",
       "      <td>rear_wheel_drive</td>\n",
       "      <td>3.0</td>\n",
       "      <td>NaN</td>\n",
       "      <td>midsize</td>\n",
       "      <td>cargo_van</td>\n",
       "      <td>18</td>\n",
       "      <td>13</td>\n",
       "      <td>1385</td>\n",
       "      <td>2052</td>\n",
       "    </tr>\n",
       "    <tr>\n",
       "      <th>11798</th>\n",
       "      <td>subaru</td>\n",
       "      <td>xv_crosstrek</td>\n",
       "      <td>2014</td>\n",
       "      <td>regular_unleaded</td>\n",
       "      <td>160.0</td>\n",
       "      <td>4.0</td>\n",
       "      <td>automatic</td>\n",
       "      <td>all_wheel_drive</td>\n",
       "      <td>4.0</td>\n",
       "      <td>crossover,hybrid</td>\n",
       "      <td>compact</td>\n",
       "      <td>4dr_suv</td>\n",
       "      <td>33</td>\n",
       "      <td>29</td>\n",
       "      <td>640</td>\n",
       "      <td>25995</td>\n",
       "    </tr>\n",
       "    <tr>\n",
       "      <th>6637</th>\n",
       "      <td>dodge</td>\n",
       "      <td>magnum</td>\n",
       "      <td>2006</td>\n",
       "      <td>regular_unleaded</td>\n",
       "      <td>250.0</td>\n",
       "      <td>6.0</td>\n",
       "      <td>automatic</td>\n",
       "      <td>all_wheel_drive</td>\n",
       "      <td>4.0</td>\n",
       "      <td>NaN</td>\n",
       "      <td>large</td>\n",
       "      <td>wagon</td>\n",
       "      <td>22</td>\n",
       "      <td>15</td>\n",
       "      <td>1851</td>\n",
       "      <td>29100</td>\n",
       "    </tr>\n",
       "    <tr>\n",
       "      <th>2575</th>\n",
       "      <td>honda</td>\n",
       "      <td>civic</td>\n",
       "      <td>2016</td>\n",
       "      <td>regular_unleaded</td>\n",
       "      <td>174.0</td>\n",
       "      <td>4.0</td>\n",
       "      <td>automatic</td>\n",
       "      <td>front_wheel_drive</td>\n",
       "      <td>4.0</td>\n",
       "      <td>NaN</td>\n",
       "      <td>midsize</td>\n",
       "      <td>sedan</td>\n",
       "      <td>42</td>\n",
       "      <td>31</td>\n",
       "      <td>2202</td>\n",
       "      <td>22200</td>\n",
       "    </tr>\n",
       "    <tr>\n",
       "      <th>7336</th>\n",
       "      <td>subaru</td>\n",
       "      <td>outback</td>\n",
       "      <td>2015</td>\n",
       "      <td>regular_unleaded</td>\n",
       "      <td>256.0</td>\n",
       "      <td>6.0</td>\n",
       "      <td>automatic</td>\n",
       "      <td>all_wheel_drive</td>\n",
       "      <td>4.0</td>\n",
       "      <td>crossover</td>\n",
       "      <td>midsize</td>\n",
       "      <td>4dr_suv</td>\n",
       "      <td>27</td>\n",
       "      <td>20</td>\n",
       "      <td>640</td>\n",
       "      <td>32995</td>\n",
       "    </tr>\n",
       "  </tbody>\n",
       "</table>\n",
       "<p>11914 rows × 16 columns</p>\n",
       "</div>"
      ],
      "text/plain": [
       "             make         model  year          engine_fuel_type  engine_hp  \\\n",
       "2735    chevrolet        cobalt  2008          regular_unleaded      148.0   \n",
       "6720       toyota        matrix  2012          regular_unleaded      132.0   \n",
       "5878       subaru       impreza  2016          regular_unleaded      148.0   \n",
       "11190  volkswagen       vanagon  1991          regular_unleaded       90.0   \n",
       "4554         ford         f-150  2017  flex-fuel_(unleaded/e85)      385.0   \n",
       "...           ...           ...   ...                       ...        ...   \n",
       "2514    chevrolet     chevy_van  1998          regular_unleaded      200.0   \n",
       "11798      subaru  xv_crosstrek  2014          regular_unleaded      160.0   \n",
       "6637        dodge        magnum  2006          regular_unleaded      250.0   \n",
       "2575        honda         civic  2016          regular_unleaded      174.0   \n",
       "7336       subaru       outback  2015          regular_unleaded      256.0   \n",
       "\n",
       "       engine_cylinders transmission_type      driven_wheels  number_of_doors  \\\n",
       "2735                4.0            manual  front_wheel_drive              2.0   \n",
       "6720                4.0         automatic  front_wheel_drive              4.0   \n",
       "5878                4.0         automatic    all_wheel_drive              4.0   \n",
       "11190               4.0            manual   rear_wheel_drive              3.0   \n",
       "4554                8.0         automatic   four_wheel_drive              4.0   \n",
       "...                 ...               ...                ...              ...   \n",
       "2514                6.0         automatic   rear_wheel_drive              3.0   \n",
       "11798               4.0         automatic    all_wheel_drive              4.0   \n",
       "6637                6.0         automatic    all_wheel_drive              4.0   \n",
       "2575                4.0         automatic  front_wheel_drive              4.0   \n",
       "7336                6.0         automatic    all_wheel_drive              4.0   \n",
       "\n",
       "        market_category vehicle_size      vehicle_style  highway_mpg  \\\n",
       "2735                NaN      compact              coupe           33   \n",
       "6720          hatchback      compact      4dr_hatchback           32   \n",
       "5878          hatchback      compact      4dr_hatchback           37   \n",
       "11190               NaN        large  passenger_minivan           18   \n",
       "4554          flex_fuel        large    crew_cab_pickup           21   \n",
       "...                 ...          ...                ...          ...   \n",
       "2514                NaN      midsize          cargo_van           18   \n",
       "11798  crossover,hybrid      compact            4dr_suv           33   \n",
       "6637                NaN        large              wagon           22   \n",
       "2575                NaN      midsize              sedan           42   \n",
       "7336          crossover      midsize            4dr_suv           27   \n",
       "\n",
       "       city_mpg  popularity   msrp  \n",
       "2735         24        1385  14410  \n",
       "6720         25        2031  19685  \n",
       "5878         28         640  19795  \n",
       "11190        16         873   2000  \n",
       "4554         15        5657  56260  \n",
       "...         ...         ...    ...  \n",
       "2514         13        1385   2052  \n",
       "11798        29         640  25995  \n",
       "6637         15        1851  29100  \n",
       "2575         31        2202  22200  \n",
       "7336         20         640  32995  \n",
       "\n",
       "[11914 rows x 16 columns]"
      ]
     },
     "execution_count": 226,
     "metadata": {},
     "output_type": "execute_result"
    }
   ],
   "source": [
    "np.random.seed(2)\n",
    "idx = np.arange(n)\n",
    "np.random.shuffle(idx)\n",
    "\n",
    "df_shuffled = df.iloc[idx]\n",
    "\n",
    "df_shuffled"
   ]
  },
  {
   "cell_type": "markdown",
   "id": "de9c31b3",
   "metadata": {},
   "source": [
    "#### Splitting the data\n",
    "\n",
    "`iloc` the first value is inclusive, while the 2nd value is exclusive."
   ]
  },
  {
   "cell_type": "code",
   "execution_count": 227,
   "id": "675e666f",
   "metadata": {},
   "outputs": [],
   "source": [
    "df_train = df_shuffled.iloc[:n_train]\n",
    "df_val = df_shuffled.iloc[n_train:n_train+n_val]\n",
    "df_test = df_shuffled.iloc[n_train+n_val:]"
   ]
  },
  {
   "cell_type": "markdown",
   "id": "04608f90",
   "metadata": {},
   "source": [
    "### Data formatting"
   ]
  },
  {
   "cell_type": "code",
   "execution_count": 228,
   "metadata": {},
   "outputs": [
    {
     "data": {
      "application/vnd.microsoft.datawrangler.viewer.v0+json": {
       "columns": [
        {
         "name": "index",
         "rawType": "int64",
         "type": "integer"
        },
        {
         "name": "make",
         "rawType": "object",
         "type": "string"
        },
        {
         "name": "model",
         "rawType": "object",
         "type": "string"
        },
        {
         "name": "year",
         "rawType": "int64",
         "type": "integer"
        },
        {
         "name": "engine_fuel_type",
         "rawType": "object",
         "type": "string"
        },
        {
         "name": "engine_hp",
         "rawType": "float64",
         "type": "float"
        },
        {
         "name": "engine_cylinders",
         "rawType": "float64",
         "type": "float"
        },
        {
         "name": "transmission_type",
         "rawType": "object",
         "type": "string"
        },
        {
         "name": "driven_wheels",
         "rawType": "object",
         "type": "string"
        },
        {
         "name": "number_of_doors",
         "rawType": "float64",
         "type": "float"
        },
        {
         "name": "market_category",
         "rawType": "object",
         "type": "unknown"
        },
        {
         "name": "vehicle_size",
         "rawType": "object",
         "type": "string"
        },
        {
         "name": "vehicle_style",
         "rawType": "object",
         "type": "string"
        },
        {
         "name": "highway_mpg",
         "rawType": "int64",
         "type": "integer"
        },
        {
         "name": "city_mpg",
         "rawType": "int64",
         "type": "integer"
        },
        {
         "name": "popularity",
         "rawType": "int64",
         "type": "integer"
        },
        {
         "name": "msrp",
         "rawType": "int64",
         "type": "integer"
        }
       ],
       "ref": "da51c55c-b14d-4199-b932-72de515baf1a",
       "rows": [
        [
         "2735",
         "chevrolet",
         "cobalt",
         "2008",
         "regular_unleaded",
         "148.0",
         "4.0",
         "manual",
         "front_wheel_drive",
         "2.0",
         null,
         "compact",
         "coupe",
         "33",
         "24",
         "1385",
         "14410"
        ],
        [
         "6720",
         "toyota",
         "matrix",
         "2012",
         "regular_unleaded",
         "132.0",
         "4.0",
         "automatic",
         "front_wheel_drive",
         "4.0",
         "hatchback",
         "compact",
         "4dr_hatchback",
         "32",
         "25",
         "2031",
         "19685"
        ],
        [
         "5878",
         "subaru",
         "impreza",
         "2016",
         "regular_unleaded",
         "148.0",
         "4.0",
         "automatic",
         "all_wheel_drive",
         "4.0",
         "hatchback",
         "compact",
         "4dr_hatchback",
         "37",
         "28",
         "640",
         "19795"
        ],
        [
         "11190",
         "volkswagen",
         "vanagon",
         "1991",
         "regular_unleaded",
         "90.0",
         "4.0",
         "manual",
         "rear_wheel_drive",
         "3.0",
         null,
         "large",
         "passenger_minivan",
         "18",
         "16",
         "873",
         "2000"
        ],
        [
         "4554",
         "ford",
         "f-150",
         "2017",
         "flex-fuel_(unleaded/e85)",
         "385.0",
         "8.0",
         "automatic",
         "four_wheel_drive",
         "4.0",
         "flex_fuel",
         "large",
         "crew_cab_pickup",
         "21",
         "15",
         "5657",
         "56260"
        ]
       ],
       "shape": {
        "columns": 16,
        "rows": 5
       }
      },
      "text/html": [
       "<div>\n",
       "<style scoped>\n",
       "    .dataframe tbody tr th:only-of-type {\n",
       "        vertical-align: middle;\n",
       "    }\n",
       "\n",
       "    .dataframe tbody tr th {\n",
       "        vertical-align: top;\n",
       "    }\n",
       "\n",
       "    .dataframe thead th {\n",
       "        text-align: right;\n",
       "    }\n",
       "</style>\n",
       "<table border=\"1\" class=\"dataframe\">\n",
       "  <thead>\n",
       "    <tr style=\"text-align: right;\">\n",
       "      <th></th>\n",
       "      <th>make</th>\n",
       "      <th>model</th>\n",
       "      <th>year</th>\n",
       "      <th>engine_fuel_type</th>\n",
       "      <th>engine_hp</th>\n",
       "      <th>engine_cylinders</th>\n",
       "      <th>transmission_type</th>\n",
       "      <th>driven_wheels</th>\n",
       "      <th>number_of_doors</th>\n",
       "      <th>market_category</th>\n",
       "      <th>vehicle_size</th>\n",
       "      <th>vehicle_style</th>\n",
       "      <th>highway_mpg</th>\n",
       "      <th>city_mpg</th>\n",
       "      <th>popularity</th>\n",
       "      <th>msrp</th>\n",
       "    </tr>\n",
       "  </thead>\n",
       "  <tbody>\n",
       "    <tr>\n",
       "      <th>2735</th>\n",
       "      <td>chevrolet</td>\n",
       "      <td>cobalt</td>\n",
       "      <td>2008</td>\n",
       "      <td>regular_unleaded</td>\n",
       "      <td>148.0</td>\n",
       "      <td>4.0</td>\n",
       "      <td>manual</td>\n",
       "      <td>front_wheel_drive</td>\n",
       "      <td>2.0</td>\n",
       "      <td>NaN</td>\n",
       "      <td>compact</td>\n",
       "      <td>coupe</td>\n",
       "      <td>33</td>\n",
       "      <td>24</td>\n",
       "      <td>1385</td>\n",
       "      <td>14410</td>\n",
       "    </tr>\n",
       "    <tr>\n",
       "      <th>6720</th>\n",
       "      <td>toyota</td>\n",
       "      <td>matrix</td>\n",
       "      <td>2012</td>\n",
       "      <td>regular_unleaded</td>\n",
       "      <td>132.0</td>\n",
       "      <td>4.0</td>\n",
       "      <td>automatic</td>\n",
       "      <td>front_wheel_drive</td>\n",
       "      <td>4.0</td>\n",
       "      <td>hatchback</td>\n",
       "      <td>compact</td>\n",
       "      <td>4dr_hatchback</td>\n",
       "      <td>32</td>\n",
       "      <td>25</td>\n",
       "      <td>2031</td>\n",
       "      <td>19685</td>\n",
       "    </tr>\n",
       "    <tr>\n",
       "      <th>5878</th>\n",
       "      <td>subaru</td>\n",
       "      <td>impreza</td>\n",
       "      <td>2016</td>\n",
       "      <td>regular_unleaded</td>\n",
       "      <td>148.0</td>\n",
       "      <td>4.0</td>\n",
       "      <td>automatic</td>\n",
       "      <td>all_wheel_drive</td>\n",
       "      <td>4.0</td>\n",
       "      <td>hatchback</td>\n",
       "      <td>compact</td>\n",
       "      <td>4dr_hatchback</td>\n",
       "      <td>37</td>\n",
       "      <td>28</td>\n",
       "      <td>640</td>\n",
       "      <td>19795</td>\n",
       "    </tr>\n",
       "    <tr>\n",
       "      <th>11190</th>\n",
       "      <td>volkswagen</td>\n",
       "      <td>vanagon</td>\n",
       "      <td>1991</td>\n",
       "      <td>regular_unleaded</td>\n",
       "      <td>90.0</td>\n",
       "      <td>4.0</td>\n",
       "      <td>manual</td>\n",
       "      <td>rear_wheel_drive</td>\n",
       "      <td>3.0</td>\n",
       "      <td>NaN</td>\n",
       "      <td>large</td>\n",
       "      <td>passenger_minivan</td>\n",
       "      <td>18</td>\n",
       "      <td>16</td>\n",
       "      <td>873</td>\n",
       "      <td>2000</td>\n",
       "    </tr>\n",
       "    <tr>\n",
       "      <th>4554</th>\n",
       "      <td>ford</td>\n",
       "      <td>f-150</td>\n",
       "      <td>2017</td>\n",
       "      <td>flex-fuel_(unleaded/e85)</td>\n",
       "      <td>385.0</td>\n",
       "      <td>8.0</td>\n",
       "      <td>automatic</td>\n",
       "      <td>four_wheel_drive</td>\n",
       "      <td>4.0</td>\n",
       "      <td>flex_fuel</td>\n",
       "      <td>large</td>\n",
       "      <td>crew_cab_pickup</td>\n",
       "      <td>21</td>\n",
       "      <td>15</td>\n",
       "      <td>5657</td>\n",
       "      <td>56260</td>\n",
       "    </tr>\n",
       "  </tbody>\n",
       "</table>\n",
       "</div>"
      ],
      "text/plain": [
       "             make    model  year          engine_fuel_type  engine_hp  \\\n",
       "2735    chevrolet   cobalt  2008          regular_unleaded      148.0   \n",
       "6720       toyota   matrix  2012          regular_unleaded      132.0   \n",
       "5878       subaru  impreza  2016          regular_unleaded      148.0   \n",
       "11190  volkswagen  vanagon  1991          regular_unleaded       90.0   \n",
       "4554         ford    f-150  2017  flex-fuel_(unleaded/e85)      385.0   \n",
       "\n",
       "       engine_cylinders transmission_type      driven_wheels  number_of_doors  \\\n",
       "2735                4.0            manual  front_wheel_drive              2.0   \n",
       "6720                4.0         automatic  front_wheel_drive              4.0   \n",
       "5878                4.0         automatic    all_wheel_drive              4.0   \n",
       "11190               4.0            manual   rear_wheel_drive              3.0   \n",
       "4554                8.0         automatic   four_wheel_drive              4.0   \n",
       "\n",
       "      market_category vehicle_size      vehicle_style  highway_mpg  city_mpg  \\\n",
       "2735              NaN      compact              coupe           33        24   \n",
       "6720        hatchback      compact      4dr_hatchback           32        25   \n",
       "5878        hatchback      compact      4dr_hatchback           37        28   \n",
       "11190             NaN        large  passenger_minivan           18        16   \n",
       "4554        flex_fuel        large    crew_cab_pickup           21        15   \n",
       "\n",
       "       popularity   msrp  \n",
       "2735         1385  14410  \n",
       "6720         2031  19685  \n",
       "5878          640  19795  \n",
       "11190         873   2000  \n",
       "4554         5657  56260  "
      ]
     },
     "execution_count": 228,
     "metadata": {},
     "output_type": "execute_result"
    }
   ],
   "source": [
    "df_train.head()"
   ]
  },
  {
   "cell_type": "code",
   "execution_count": 14,
   "metadata": {},
   "outputs": [
    {
     "data": {
      "text/plain": [
       "(7150, 2382, 2382)"
      ]
     },
     "execution_count": 14,
     "metadata": {},
     "output_type": "execute_result"
    }
   ],
   "source": [
    "len(df_train), len(df_val), len(df_test)"
   ]
  },
  {
   "cell_type": "code",
   "execution_count": 229,
   "metadata": {},
   "outputs": [],
   "source": [
    "df_train = df_train.reset_index(drop=True)\n",
    "df_val = df_val.reset_index(drop=True)\n",
    "df_test = df_test.reset_index(drop=True)"
   ]
  },
  {
   "cell_type": "code",
   "execution_count": 230,
   "id": "584bfa15",
   "metadata": {},
   "outputs": [],
   "source": [
    "# original values from the target\n",
    "y_train_orig = df_train.msrp.values\n",
    "y_val_orig = df_val.msrp.values\n",
    "y_test_orig = df_test.msrp.values"
   ]
  },
  {
   "cell_type": "code",
   "execution_count": 231,
   "metadata": {},
   "outputs": [],
   "source": [
    "# apply the log transformation in original values\n",
    "y_train = np.log1p(df_train.msrp.values)\n",
    "y_val = np.log1p(df_val.msrp.values)\n",
    "y_test = np.log1p(df_test.msrp.values)"
   ]
  },
  {
   "cell_type": "code",
   "execution_count": 232,
   "metadata": {},
   "outputs": [],
   "source": [
    "# To avoid accidentally using the target variable\n",
    "del df_train['msrp']\n",
    "del df_val['msrp']\n",
    "del df_test['msrp']"
   ]
  },
  {
   "cell_type": "markdown",
   "id": "6bcb54cb",
   "metadata": {},
   "source": [
    "## 2.5 Linear regression\n",
    "\n",
    "$$\n",
    "g(x_i) = w_0 + \\sum_{j=0}^{n-1} w_j x_{ij}\n",
    "$$"
   ]
  },
  {
   "cell_type": "code",
   "execution_count": 19,
   "id": "359da865",
   "metadata": {},
   "outputs": [
    {
     "data": {
      "text/plain": [
       "make                                 rolls-royce\n",
       "model                     phantom_drophead_coupe\n",
       "year                                        2015\n",
       "engine_fuel_type     premium_unleaded_(required)\n",
       "engine_hp                                  453.0\n",
       "engine_cylinders                            12.0\n",
       "transmission_type                      automatic\n",
       "driven_wheels                   rear_wheel_drive\n",
       "number_of_doors                              2.0\n",
       "market_category        exotic,luxury,performance\n",
       "vehicle_size                               large\n",
       "vehicle_style                        convertible\n",
       "highway_mpg                                   19\n",
       "city_mpg                                      11\n",
       "popularity                                    86\n",
       "Name: 10, dtype: object"
      ]
     },
     "execution_count": 19,
     "metadata": {},
     "output_type": "execute_result"
    }
   ],
   "source": [
    "df_train.iloc[10]"
   ]
  },
  {
   "cell_type": "code",
   "execution_count": 20,
   "id": "6c53ffd4",
   "metadata": {},
   "outputs": [],
   "source": [
    "#feature matrix\n",
    "xi = [453, 11, 86]\n",
    "# bias term (weight when nothing is known)\n",
    "w0 = 7.17\n",
    "# Weight for each featre\n",
    "w = [0.01, 0.04, 0.002]"
   ]
  },
  {
   "cell_type": "code",
   "execution_count": 21,
   "id": "7f7a2e66",
   "metadata": {},
   "outputs": [],
   "source": [
    "# numpy dot product under the hood\n",
    "\n",
    "def linear_regression(xi):\n",
    "    n = len(xi)\n",
    "    \n",
    "    pred = w0\n",
    "    \n",
    "    for j in range(n):\n",
    "        pred = pred + w[j] * xi[j]\n",
    "        print(j,pred)\n",
    "        \n",
    "    return pred"
   ]
  },
  {
   "cell_type": "code",
   "execution_count": 22,
   "id": "1662cdd1",
   "metadata": {},
   "outputs": [
    {
     "name": "stdout",
     "output_type": "stream",
     "text": [
      "0 11.7\n",
      "1 12.139999999999999\n",
      "2 12.312\n"
     ]
    },
    {
     "data": {
      "text/plain": [
       "12.312"
      ]
     },
     "execution_count": 22,
     "metadata": {},
     "output_type": "execute_result"
    }
   ],
   "source": [
    "linear_regression(xi)"
   ]
  },
  {
   "cell_type": "code",
   "execution_count": 23,
   "id": "ded3a069",
   "metadata": {},
   "outputs": [
    {
     "data": {
      "text/plain": [
       "222347.2221101062"
      ]
     },
     "execution_count": 23,
     "metadata": {},
     "output_type": "execute_result"
    }
   ],
   "source": [
    "np.expm1(12.312)"
   ]
  },
  {
   "cell_type": "code",
   "execution_count": 33,
   "id": "8ddfde60",
   "metadata": {},
   "outputs": [
    {
     "data": {
      "text/plain": [
       "12.312"
      ]
     },
     "execution_count": 33,
     "metadata": {},
     "output_type": "execute_result"
    }
   ],
   "source": [
    "np.log1p(222347.2221101062)"
   ]
  },
  {
   "cell_type": "code",
   "execution_count": 34,
   "id": "cc4c8900",
   "metadata": {},
   "outputs": [
    {
     "data": {
      "text/plain": [
       "479775.00000000006"
      ]
     },
     "execution_count": 34,
     "metadata": {},
     "output_type": "execute_result"
    }
   ],
   "source": [
    "np.expm1(13.08107460729463)"
   ]
  },
  {
   "cell_type": "markdown",
   "metadata": {},
   "source": [
    "## 2.5 Linear regression (Solutions)"
   ]
  },
  {
   "cell_type": "markdown",
   "metadata": {},
   "source": [
    "draw"
   ]
  },
  {
   "cell_type": "code",
   "execution_count": 41,
   "metadata": {},
   "outputs": [
    {
     "data": {
      "text/plain": [
       "make                                 rolls-royce\n",
       "model                     phantom_drophead_coupe\n",
       "year                                        2015\n",
       "engine_fuel_type     premium_unleaded_(required)\n",
       "engine_hp                                  453.0\n",
       "engine_cylinders                            12.0\n",
       "transmission_type                      automatic\n",
       "driven_wheels                   rear_wheel_drive\n",
       "number_of_doors                              2.0\n",
       "market_category        exotic,luxury,performance\n",
       "vehicle_size                               large\n",
       "vehicle_style                        convertible\n",
       "highway_mpg                                   19\n",
       "city_mpg                                      11\n",
       "popularity                                    86\n",
       "Name: 10, dtype: object"
      ]
     },
     "execution_count": 41,
     "metadata": {},
     "output_type": "execute_result"
    }
   ],
   "source": [
    "df_train.iloc[10]"
   ]
  },
  {
   "cell_type": "code",
   "execution_count": null,
   "metadata": {},
   "outputs": [],
   "source": []
  },
  {
   "cell_type": "code",
   "execution_count": null,
   "metadata": {},
   "outputs": [],
   "source": [
    "xi = [453, 11, 86]\n",
    "w0 = 7.17\n",
    "w = [0.01, 0.04, 0.002]"
   ]
  },
  {
   "cell_type": "code",
   "execution_count": null,
   "metadata": {},
   "outputs": [],
   "source": [
    "def linear_regression(xi):\n",
    "    n = len(xi)\n",
    "\n",
    "    pred = w0\n",
    "\n",
    "    for j in range(n):\n",
    "        pred = pred + w[j] * xi[j]\n",
    "\n",
    "    return pred"
   ]
  },
  {
   "cell_type": "code",
   "execution_count": null,
   "metadata": {},
   "outputs": [],
   "source": [
    "xi = [453, 11, 86]\n",
    "w0 = 7.17\n",
    "w = [0.01, 0.04, 0.002]"
   ]
  },
  {
   "cell_type": "code",
   "execution_count": null,
   "metadata": {},
   "outputs": [],
   "source": [
    "linear_regression(xi)"
   ]
  },
  {
   "cell_type": "code",
   "execution_count": null,
   "metadata": {},
   "outputs": [],
   "source": [
    "np.expm1(12.312)"
   ]
  },
  {
   "cell_type": "code",
   "execution_count": null,
   "metadata": {
    "scrolled": true
   },
   "outputs": [],
   "source": [
    "np.log1p(222347.2221101062)"
   ]
  },
  {
   "cell_type": "markdown",
   "id": "50aa2db3",
   "metadata": {},
   "source": [
    "## 2.6 Linear regression vector form"
   ]
  },
  {
   "cell_type": "markdown",
   "id": "1eb706da",
   "metadata": {},
   "source": [
    "Formula\n",
    "$$\n",
    "g(x_i) = w_0 + \\sum_{j=0}^{n-1} w_j x_{ij}\n",
    "$$\n",
    "Vector - Vector multiplication\n"
   ]
  },
  {
   "cell_type": "code",
   "execution_count": 35,
   "id": "72601a4e",
   "metadata": {},
   "outputs": [
    {
     "data": {
      "text/plain": [
       "array([453,  11,  86])"
      ]
     },
     "execution_count": 35,
     "metadata": {},
     "output_type": "execute_result"
    }
   ],
   "source": [
    "np_xi = np.array(xi)\n",
    "np_xi"
   ]
  },
  {
   "cell_type": "code",
   "execution_count": 36,
   "id": "f0db5125",
   "metadata": {},
   "outputs": [
    {
     "data": {
      "text/plain": [
       "array([0.01 , 0.04 , 0.002])"
      ]
     },
     "execution_count": 36,
     "metadata": {},
     "output_type": "execute_result"
    }
   ],
   "source": [
    "np_w = np.array(w)  \n",
    "np_w "
   ]
  },
  {
   "cell_type": "code",
   "execution_count": 37,
   "id": "ee8d1e16",
   "metadata": {},
   "outputs": [
    {
     "data": {
      "text/plain": [
       "5.142"
      ]
     },
     "execution_count": 37,
     "metadata": {},
     "output_type": "execute_result"
    }
   ],
   "source": [
    "np_xi.dot(np_w)"
   ]
  },
  {
   "cell_type": "code",
   "execution_count": 38,
   "id": "d9373d65",
   "metadata": {},
   "outputs": [
    {
     "data": {
      "text/plain": [
       "12.312000000000001"
      ]
     },
     "execution_count": 38,
     "metadata": {},
     "output_type": "execute_result"
    }
   ],
   "source": [
    "np_w.dot(np_xi) + w0"
   ]
  },
  {
   "cell_type": "code",
   "execution_count": 39,
   "id": "b3f31dc8",
   "metadata": {},
   "outputs": [
    {
     "name": "stdout",
     "output_type": "stream",
     "text": [
      "12.312000000000001\n"
     ]
    }
   ],
   "source": [
    "result = 5.142 + 7.17\n",
    "print(result)  # 12.312"
   ]
  },
  {
   "cell_type": "markdown",
   "id": "5176335b",
   "metadata": {},
   "source": [
    "simplified"
   ]
  },
  {
   "cell_type": "code",
   "execution_count": 40,
   "id": "2e3ea9c6",
   "metadata": {},
   "outputs": [
    {
     "data": {
      "text/plain": [
       "[7.17, 0.01, 0.04, 0.002]"
      ]
     },
     "execution_count": 40,
     "metadata": {},
     "output_type": "execute_result"
    }
   ],
   "source": [
    "new_w = [w0] + w\n",
    "new_w"
   ]
  },
  {
   "cell_type": "code",
   "execution_count": 41,
   "id": "1604e730",
   "metadata": {},
   "outputs": [
    {
     "data": {
      "text/plain": [
       "[1, 453, 11, 86]"
      ]
     },
     "execution_count": 41,
     "metadata": {},
     "output_type": "execute_result"
    }
   ],
   "source": [
    "new_xi = [1] + xi\n",
    "new_xi"
   ]
  },
  {
   "cell_type": "code",
   "execution_count": 42,
   "id": "7304d34c",
   "metadata": {},
   "outputs": [
    {
     "data": {
      "text/plain": [
       "12.312000000000001"
      ]
     },
     "execution_count": 42,
     "metadata": {},
     "output_type": "execute_result"
    }
   ],
   "source": [
    "np.array(new_xi).dot(np.array(new_w))"
   ]
  },
  {
   "cell_type": "markdown",
   "id": "2c794f39",
   "metadata": {},
   "source": [
    "### applying to multiple data-points"
   ]
  },
  {
   "cell_type": "code",
   "execution_count": 43,
   "id": "ca40fc96",
   "metadata": {},
   "outputs": [
    {
     "data": {
      "text/plain": [
       "array([[   1,  148,   24, 1385],\n",
       "       [   1,  132,   25, 2031],\n",
       "       [   1,  453,   11,   86]])"
      ]
     },
     "execution_count": 43,
     "metadata": {},
     "output_type": "execute_result"
    }
   ],
   "source": [
    "x1 = [1, 148, 24, 1385]\n",
    "x2 = [1, 132, 25, 2031]\n",
    "x3 = [1, 453, 11, 86]\n",
    "\n",
    "X = [x1,x2,x3]\n",
    "\n",
    "X = np.array(X)\n",
    "\n",
    "X"
   ]
  },
  {
   "cell_type": "code",
   "execution_count": 44,
   "id": "a4882bf4",
   "metadata": {},
   "outputs": [
    {
     "data": {
      "text/plain": [
       "array([12.38 , 13.552, 12.312])"
      ]
     },
     "execution_count": 44,
     "metadata": {},
     "output_type": "execute_result"
    }
   ],
   "source": [
    "X.dot(new_w)"
   ]
  },
  {
   "cell_type": "markdown",
   "metadata": {},
   "source": [
    "## 2.6 Linear regression vector form (Solutions)"
   ]
  },
  {
   "cell_type": "code",
   "execution_count": 93,
   "metadata": {},
   "outputs": [],
   "source": [
    "def dot(xi, w):\n",
    "    n = len(xi)\n",
    "    \n",
    "    res = 0.0\n",
    "    \n",
    "    for j in range(n):\n",
    "        res = res + xi[j] * w[j]\n",
    "    \n",
    "    return res"
   ]
  },
  {
   "cell_type": "code",
   "execution_count": 91,
   "metadata": {},
   "outputs": [],
   "source": [
    "def linear_regression(xi):\n",
    "    return w0 + dot(xi, w)"
   ]
  },
  {
   "cell_type": "code",
   "execution_count": 89,
   "metadata": {},
   "outputs": [],
   "source": [
    "w_new = [w0] + w"
   ]
  },
  {
   "cell_type": "code",
   "execution_count": null,
   "metadata": {},
   "outputs": [],
   "source": [
    "w_new"
   ]
  },
  {
   "cell_type": "code",
   "execution_count": 94,
   "metadata": {},
   "outputs": [],
   "source": [
    "def linear_regression(xi):\n",
    "    xi = [1] + xi\n",
    "    return dot(xi, w_new)"
   ]
  },
  {
   "cell_type": "code",
   "execution_count": 95,
   "metadata": {},
   "outputs": [
    {
     "data": {
      "text/plain": [
       "12.312"
      ]
     },
     "execution_count": 95,
     "metadata": {},
     "output_type": "execute_result"
    }
   ],
   "source": [
    "linear_regression(xi)"
   ]
  },
  {
   "cell_type": "code",
   "execution_count": null,
   "metadata": {},
   "outputs": [],
   "source": [
    "w0 = 7.17\n",
    "w = [0.01, 0.04, 0.002]\n",
    "w_new = [w0] + w"
   ]
  },
  {
   "cell_type": "code",
   "execution_count": null,
   "metadata": {},
   "outputs": [],
   "source": [
    "x1  = [1, 148, 24, 1385]\n",
    "x2  = [1, 132, 25, 2031]\n",
    "x10 = [1, 453, 11, 86]\n",
    "\n",
    "X = [x1, x2, x10]\n",
    "X = np.array(X)\n",
    "X"
   ]
  },
  {
   "cell_type": "code",
   "execution_count": 114,
   "metadata": {},
   "outputs": [],
   "source": [
    "def linear_regression(X):\n",
    "    return X.dot(w_new)"
   ]
  },
  {
   "cell_type": "code",
   "execution_count": 115,
   "metadata": {},
   "outputs": [
    {
     "data": {
      "text/plain": [
       "array([12.38 , 13.552, 12.312])"
      ]
     },
     "execution_count": 115,
     "metadata": {},
     "output_type": "execute_result"
    }
   ],
   "source": [
    "linear_regression(X)"
   ]
  },
  {
   "cell_type": "markdown",
   "id": "6f6c1a0e",
   "metadata": {},
   "source": [
    "## 2.7 Training a linear regression model"
   ]
  },
  {
   "cell_type": "markdown",
   "id": "3d229645",
   "metadata": {},
   "source": [
    "when solving for weights ALWAYS find the dot product of XT *(X Transposed)* and X."
   ]
  },
  {
   "cell_type": "code",
   "execution_count": 94,
   "id": "1d780f4c",
   "metadata": {},
   "outputs": [
    {
     "data": {
      "text/plain": [
       "array([[ 148,   24, 1385],\n",
       "       [ 132,   25, 2031],\n",
       "       [ 453,   11,   86],\n",
       "       [ 158,   24,  185],\n",
       "       [ 172,   25,  201],\n",
       "       [ 413,   11,   86],\n",
       "       [  38,   54,  185],\n",
       "       [ 142,   25,  431],\n",
       "       [ 453,   31,   86]])"
      ]
     },
     "execution_count": 94,
     "metadata": {},
     "output_type": "execute_result"
    }
   ],
   "source": [
    "X = [\n",
    "    [148, 24, 1385],\n",
    "    [132, 25, 2031],\n",
    "    [453, 11, 86],\n",
    "    [158, 24, 185],\n",
    "    [172, 25, 201],\n",
    "    [413, 11, 86],\n",
    "    [38,  54, 185],\n",
    "    [142, 25, 431],\n",
    "    [453, 31, 86],\n",
    "]\n",
    "\n",
    "X = np.array(X)\n",
    "X"
   ]
  },
  {
   "cell_type": "code",
   "execution_count": 95,
   "id": "6b2a9159",
   "metadata": {},
   "outputs": [
    {
     "data": {
      "text/plain": [
       "array([1., 1., 1., 1., 1., 1., 1., 1., 1.])"
      ]
     },
     "execution_count": 95,
     "metadata": {},
     "output_type": "execute_result"
    }
   ],
   "source": [
    "# getting an array of ones to use/par w/ w0 (base weight)\n",
    "ones = np.ones(X.shape[0])\n",
    "ones"
   ]
  },
  {
   "cell_type": "code",
   "execution_count": 96,
   "id": "dbb9b953",
   "metadata": {},
   "outputs": [
    {
     "data": {
      "text/plain": [
       "array([[1.000e+00, 1.480e+02, 2.400e+01, 1.385e+03],\n",
       "       [1.000e+00, 1.320e+02, 2.500e+01, 2.031e+03],\n",
       "       [1.000e+00, 4.530e+02, 1.100e+01, 8.600e+01],\n",
       "       [1.000e+00, 1.580e+02, 2.400e+01, 1.850e+02],\n",
       "       [1.000e+00, 1.720e+02, 2.500e+01, 2.010e+02],\n",
       "       [1.000e+00, 4.130e+02, 1.100e+01, 8.600e+01],\n",
       "       [1.000e+00, 3.800e+01, 5.400e+01, 1.850e+02],\n",
       "       [1.000e+00, 1.420e+02, 2.500e+01, 4.310e+02],\n",
       "       [1.000e+00, 4.530e+02, 3.100e+01, 8.600e+01]])"
      ]
     },
     "execution_count": 96,
     "metadata": {},
     "output_type": "execute_result"
    }
   ],
   "source": [
    "X = np.column_stack([ones, X])\n",
    "X"
   ]
  },
  {
   "cell_type": "code",
   "execution_count": 108,
   "id": "ee7dbdf8",
   "metadata": {},
   "outputs": [],
   "source": [
    "#target\n",
    "\n",
    "y = [10000, 20000, 15000, 20050, 10000, 20000, 15000, 25000, 12000]\n"
   ]
  },
  {
   "cell_type": "code",
   "execution_count": 98,
   "id": "96903dc0",
   "metadata": {},
   "outputs": [
    {
     "data": {
      "text/plain": [
       "array([[9.000000e+00, 2.109000e+03, 2.300000e+02, 4.676000e+03],\n",
       "       [2.109000e+03, 6.964710e+05, 4.411500e+04, 7.185400e+05],\n",
       "       [2.300000e+02, 4.411500e+04, 7.146000e+03, 1.188030e+05],\n",
       "       [4.676000e+03, 7.185400e+05, 1.188030e+05, 6.359986e+06]])"
      ]
     },
     "execution_count": 98,
     "metadata": {},
     "output_type": "execute_result"
    }
   ],
   "source": [
    "#Grahm matrix/ transpose\n",
    "\n",
    "XTX = X.T.dot(X)\n",
    "XTX"
   ]
  },
  {
   "cell_type": "code",
   "execution_count": null,
   "id": "cc7e70e7",
   "metadata": {},
   "outputs": [
    {
     "data": {
      "text/plain": [
       "array([[ 3.30686958e+00, -5.39612291e-03, -6.21325581e-02,\n",
       "        -6.61016816e-04],\n",
       "       [-5.39612291e-03,  1.11633857e-05,  8.66973393e-05,\n",
       "         1.08664195e-06],\n",
       "       [-6.21325581e-02,  8.66973393e-05,  1.46189255e-03,\n",
       "         8.57849603e-06],\n",
       "       [-6.61016816e-04,  1.08664195e-06,  8.57849603e-06,\n",
       "         3.60215866e-07]])"
      ]
     },
     "execution_count": 88,
     "metadata": {},
     "output_type": "execute_result"
    }
   ],
   "source": [
    "# finding inverse of matrix\n",
    "\n",
    "XTX_inv = np.linalg.inv(XTX)\n",
    "XTX_inv"
   ]
  },
  {
   "cell_type": "markdown",
   "id": "142bce8f",
   "metadata": {},
   "source": [
    "**Purpose of inverse of XTX:**\n",
    "\n",
    "- 𝑛 = number of data points (rows)\n",
    "\n",
    "- 𝑝 = number of features (columns)\n",
    "\n",
    "In linear regression, we want to find a set of weights 𝑤 (also called coefficients or parameters) that best fit the model:\n",
    "$$\n",
    "y=Xw+ε\n",
    "$$\n",
    "where\n",
    "- 𝑦 is an \n",
    "𝑛\n",
    "×\n",
    "1\n",
    " vector of target values,\n",
    "\n",
    "- 𝑋\n",
    "is an \n",
    "𝑛\n",
    "×\n",
    "𝑝\n",
    " matrix of features,\n",
    "\n",
    "- 𝑤\n",
    "is a \n",
    "𝑝\n",
    "×\n",
    "1\n",
    " vector of weights,\n",
    "\n",
    "\n",
    "- ε is the error term *(difference between actual and predicted)*."
   ]
  },
  {
   "cell_type": "code",
   "execution_count": 109,
   "id": "ce919f53",
   "metadata": {},
   "outputs": [
    {
     "data": {
      "text/plain": [
       "array([ 2.58447541e+04, -1.60890647e+01, -1.99472549e+02, -1.22802883e+00])"
      ]
     },
     "execution_count": 109,
     "metadata": {},
     "output_type": "execute_result"
    }
   ],
   "source": [
    "# determing weights for each feature\n",
    "\n",
    "w_full = XTX_inv.dot(X.T).dot(y)\n",
    "w_full"
   ]
  },
  {
   "cell_type": "code",
   "execution_count": 110,
   "id": "e031838b",
   "metadata": {},
   "outputs": [],
   "source": [
    "# Bias term\n",
    "w0 = w_full[0]\n",
    "\n",
    "# Weights per feature\n",
    "w = w_full[1:]\n"
   ]
  },
  {
   "cell_type": "code",
   "execution_count": 111,
   "id": "281d6139",
   "metadata": {},
   "outputs": [
    {
     "data": {
      "text/plain": [
       "(25844.754055766767, array([ -16.08906468, -199.47254894,   -1.22802883]))"
      ]
     },
     "execution_count": 111,
     "metadata": {},
     "output_type": "execute_result"
    }
   ],
   "source": [
    "w0, w"
   ]
  },
  {
   "cell_type": "code",
   "execution_count": 144,
   "id": "f15adf9c",
   "metadata": {},
   "outputs": [],
   "source": [
    "def linear_regression(X, y):\n",
    "    X_0 = np.ones(X.shape[0])\n",
    "    X = np.column_stack([X_0, X])\n",
    "    \n",
    "    XTX = X.T.dot(X) # multiplying the transpose of X by X itself.\n",
    "    XTX_inverse = np.linalg.inv(XTX)\n",
    "    \n",
    "    w = XTX_inverse.dot(X.T).dot(y)\n",
    "    \n",
    "    return w[0], w[1:]"
   ]
  },
  {
   "cell_type": "code",
   "execution_count": 122,
   "id": "e275e389",
   "metadata": {},
   "outputs": [
    {
     "data": {
      "text/plain": [
       "(25844.754055766767, array([ -16.08906468, -199.47254894,   -1.22802883]))"
      ]
     },
     "execution_count": 122,
     "metadata": {},
     "output_type": "execute_result"
    }
   ],
   "source": [
    "linear_regression(X,y)"
   ]
  },
  {
   "cell_type": "markdown",
   "metadata": {},
   "source": [
    "## 2.7 Training a linear regression model (solutions)"
   ]
  },
  {
   "cell_type": "code",
   "execution_count": null,
   "metadata": {},
   "outputs": [],
   "source": [
    "def train_linear_regression(X, y):\n",
    "    pass"
   ]
  },
  {
   "cell_type": "code",
   "execution_count": 118,
   "metadata": {},
   "outputs": [
    {
     "data": {
      "text/plain": [
       "array([[ 148,   24, 1385],\n",
       "       [ 132,   25, 2031],\n",
       "       [ 453,   11,   86],\n",
       "       [ 158,   24,  185],\n",
       "       [ 172,   25,  201],\n",
       "       [ 413,   11,   86],\n",
       "       [  38,   54,  185],\n",
       "       [ 142,   25,  431],\n",
       "       [ 453,   31,   86]])"
      ]
     },
     "execution_count": 118,
     "metadata": {},
     "output_type": "execute_result"
    }
   ],
   "source": [
    "X = [\n",
    "    [148, 24, 1385],\n",
    "    [132, 25, 2031],\n",
    "    [453, 11, 86],\n",
    "    [158, 24, 185],\n",
    "    [172, 25, 201],\n",
    "    [413, 11, 86],\n",
    "    [38,  54, 185],\n",
    "    [142, 25, 431],\n",
    "    [453, 31, 86],\n",
    "]\n",
    "\n",
    "X = np.array(X)\n",
    "X"
   ]
  },
  {
   "cell_type": "code",
   "execution_count": 47,
   "metadata": {},
   "outputs": [
    {
     "data": {
      "text/plain": [
       "array([1., 1., 1., 1., 1., 1., 1., 1., 1.])"
      ]
     },
     "execution_count": 47,
     "metadata": {},
     "output_type": "execute_result"
    }
   ],
   "source": [
    "ones = np.ones(X.shape[0])\n",
    "ones"
   ]
  },
  {
   "cell_type": "code",
   "execution_count": 48,
   "metadata": {},
   "outputs": [
    {
     "data": {
      "text/plain": [
       "array([[1.000e+00, 1.480e+02, 2.400e+01, 1.385e+03],\n",
       "       [1.000e+00, 1.320e+02, 2.500e+01, 2.031e+03],\n",
       "       [1.000e+00, 4.530e+02, 1.100e+01, 8.600e+01],\n",
       "       [1.000e+00, 1.580e+02, 2.400e+01, 1.850e+02],\n",
       "       [1.000e+00, 1.720e+02, 2.500e+01, 2.010e+02],\n",
       "       [1.000e+00, 4.130e+02, 1.100e+01, 8.600e+01],\n",
       "       [1.000e+00, 3.800e+01, 5.400e+01, 1.850e+02],\n",
       "       [1.000e+00, 1.420e+02, 2.500e+01, 4.310e+02],\n",
       "       [1.000e+00, 4.530e+02, 3.100e+01, 8.600e+01]])"
      ]
     },
     "execution_count": 48,
     "metadata": {},
     "output_type": "execute_result"
    }
   ],
   "source": [
    "X = np.column_stack([ones, X])\n",
    "X"
   ]
  },
  {
   "cell_type": "code",
   "execution_count": null,
   "metadata": {},
   "outputs": [],
   "source": [
    "y = [10000, 20000, 15000, 20050, 10000, 20000, 15000, 25000, 12000]"
   ]
  },
  {
   "cell_type": "code",
   "execution_count": null,
   "metadata": {},
   "outputs": [],
   "source": [
    "XTX = X.T.dot(X)\n",
    "XTX_inv = np.linalg.inv(XTX)\n",
    "w_full = XTX_inv.dot(X.T).dot(y)"
   ]
  },
  {
   "cell_type": "code",
   "execution_count": null,
   "metadata": {},
   "outputs": [],
   "source": []
  },
  {
   "cell_type": "code",
   "execution_count": null,
   "metadata": {},
   "outputs": [],
   "source": []
  },
  {
   "cell_type": "code",
   "execution_count": null,
   "metadata": {},
   "outputs": [],
   "source": [
    "w0 = w_full[0]\n",
    "w = w_full[1:]"
   ]
  },
  {
   "cell_type": "code",
   "execution_count": null,
   "metadata": {},
   "outputs": [],
   "source": [
    "w0, w"
   ]
  },
  {
   "cell_type": "code",
   "execution_count": 119,
   "metadata": {},
   "outputs": [],
   "source": [
    "def train_linear_regression(X, y):\n",
    "    ones = np.ones(X.shape[0])\n",
    "    X = np.column_stack([ones, X])\n",
    "\n",
    "    XTX = X.T.dot(X)\n",
    "    XTX_inv = np.linalg.inv(XTX)\n",
    "    w_full = XTX_inv.dot(X.T).dot(y)\n",
    "    \n",
    "    return w_full[0], w_full[1:]"
   ]
  },
  {
   "cell_type": "code",
   "execution_count": 120,
   "metadata": {},
   "outputs": [
    {
     "data": {
      "text/plain": [
       "(25844.754055766767, array([ -16.08906468, -199.47254894,   -1.22802883]))"
      ]
     },
     "execution_count": 120,
     "metadata": {},
     "output_type": "execute_result"
    }
   ],
   "source": [
    "train_linear_regression(X, y)"
   ]
  },
  {
   "cell_type": "markdown",
   "id": "0914d581",
   "metadata": {},
   "source": [
    "## 2.8 Car price baseline model"
   ]
  },
  {
   "cell_type": "code",
   "execution_count": 142,
   "id": "3d2604de",
   "metadata": {},
   "outputs": [
    {
     "data": {
      "text/plain": [
       "make                  object\n",
       "model                 object\n",
       "year                   int64\n",
       "engine_fuel_type      object\n",
       "engine_hp            float64\n",
       "engine_cylinders     float64\n",
       "transmission_type     object\n",
       "driven_wheels         object\n",
       "number_of_doors      float64\n",
       "market_category       object\n",
       "vehicle_size          object\n",
       "vehicle_style         object\n",
       "highway_mpg            int64\n",
       "city_mpg               int64\n",
       "popularity             int64\n",
       "msrp                   int64\n",
       "dtype: object"
      ]
     },
     "execution_count": 142,
     "metadata": {},
     "output_type": "execute_result"
    }
   ],
   "source": [
    "df_train.dtypes"
   ]
  },
  {
   "cell_type": "code",
   "execution_count": 279,
   "id": "d74f253e",
   "metadata": {},
   "outputs": [],
   "source": [
    "def linear_regression(X, y):\n",
    "    X_0 = np.ones(X.shape[0])\n",
    "    X = np.column_stack([X_0, X])\n",
    "    \n",
    "    XTX = X.T.dot(X) # multiplying the transpose of X by X itself.\n",
    "    XTX_inverse = np.linalg.inv(XTX)\n",
    "    \n",
    "    w = XTX_inverse.dot(X.T).dot(y)\n",
    "    \n",
    "    return w[0], w[1:]"
   ]
  },
  {
   "cell_type": "code",
   "execution_count": 202,
   "id": "a22402c9",
   "metadata": {},
   "outputs": [
    {
     "data": {
      "text/plain": [
       "array([ 9.86288014, 10.37013608,  9.69868129, ..., 10.4916625 ,\n",
       "        9.57091361, 10.40022147])"
      ]
     },
     "execution_count": 202,
     "metadata": {},
     "output_type": "execute_result"
    }
   ],
   "source": [
    "def prepare_X(df):\n",
    "    columns = ['engine_hp', 'engine_cylinders', 'highway_mpg', 'city_mpg', 'popularity'] #features used to predict target variable\n",
    "    \n",
    "    df_features = df[columns]\n",
    "    \n",
    "    df_features = df_features.fillna(0)\n",
    "    \n",
    "    x = df_features.values\n",
    "    \n",
    "    return x\n",
    "\n",
    "X_train = prepare_X(df_train)\n",
    "w_0, w = linear_regression(X_train, y_train)\n",
    "#y_predict = w_0 + X_train.dot(w)\n",
    "\n",
    "X_val = prepare_X(df_val)\n",
    "\n",
    "y_pred = w_0 + X_val.dot(w)\n",
    "y_pred"
   ]
  },
  {
   "cell_type": "code",
   "execution_count": 26,
   "id": "0f5b2ebb",
   "metadata": {},
   "outputs": [
    {
     "data": {
      "text/plain": [
       "(array([[ 148.,    4.,   33.,   24., 1385.],\n",
       "        [ 132.,    4.,   32.,   25., 2031.],\n",
       "        [ 148.,    4.,   37.,   28.,  640.],\n",
       "        ...,\n",
       "        [ 285.,    6.,   22.,   17.,  549.],\n",
       "        [ 563.,   12.,   21.,   13.,   86.],\n",
       "        [ 200.,    4.,   31.,   22.,  873.]]),\n",
       " array([ 9.57574708,  9.887663  ,  9.89323518, ..., 10.45380308,\n",
       "        12.62248099, 10.54061978]))"
      ]
     },
     "execution_count": 26,
     "metadata": {},
     "output_type": "execute_result"
    }
   ],
   "source": [
    "X_train, y_train"
   ]
  },
  {
   "cell_type": "code",
   "execution_count": 27,
   "id": "c1f1f1c4",
   "metadata": {},
   "outputs": [
    {
     "data": {
      "text/plain": [
       "(7.927257388069937,\n",
       " array([ 9.70589522e-03, -1.59103494e-01,  1.43792133e-02,  1.49441072e-02,\n",
       "        -9.06908672e-06]))"
      ]
     },
     "execution_count": 27,
     "metadata": {},
     "output_type": "execute_result"
    }
   ],
   "source": [
    "w_0, w"
   ]
  },
  {
   "cell_type": "code",
   "execution_count": 28,
   "id": "2483f5bb",
   "metadata": {},
   "outputs": [
    {
     "data": {
      "text/plain": [
       "array([ 9.54792783,  9.38733977,  9.67197758, ..., 10.30423015,\n",
       "       11.9778914 ,  9.99863111])"
      ]
     },
     "execution_count": 28,
     "metadata": {},
     "output_type": "execute_result"
    }
   ],
   "source": [
    "y_predict"
   ]
  },
  {
   "cell_type": "code",
   "execution_count": 203,
   "id": "9f9eb2a2",
   "metadata": {},
   "outputs": [
    {
     "name": "stderr",
     "output_type": "stream",
     "text": [
      "c:\\Users\\spradkyl\\AppData\\Local\\anaconda3\\Lib\\site-packages\\seaborn\\_oldcore.py:1119: FutureWarning: use_inf_as_na option is deprecated and will be removed in a future version. Convert inf values to NaN before operating instead.\n",
      "  with pd.option_context('mode.use_inf_as_na', True):\n",
      "c:\\Users\\spradkyl\\AppData\\Local\\anaconda3\\Lib\\site-packages\\seaborn\\_oldcore.py:1119: FutureWarning: use_inf_as_na option is deprecated and will be removed in a future version. Convert inf values to NaN before operating instead.\n",
      "  with pd.option_context('mode.use_inf_as_na', True):\n"
     ]
    },
    {
     "data": {
      "image/png": "[encoded data removed]",
      "text/plain": [
       "<Figure size 600x400 with 1 Axes>"
      ]
     },
     "metadata": {},
     "output_type": "display_data"
    }
   ],
   "source": [
    "#plotting predictions\n",
    "plt.figure(figsize=(6, 4))\n",
    "\n",
    "sns.histplot(y_pred, label='prediction',color='red', alpha=0.5, bins=50)\n",
    "sns.histplot(y_val, label = 'target', color='blue', alpha=0.5, bins=50)\n",
    "\n",
    "plt.legend()\n",
    "\n",
    "plt.ylabel('Frequency')\n",
    "plt.xlabel('Log(MSRP + 1)')\n",
    "plt.title('Predictions vs actual distribution')\n",
    "\n",
    "plt.show()"
   ]
  },
  {
   "cell_type": "markdown",
   "metadata": {},
   "source": [
    "## **2.9 RMSE**"
   ]
  },
  {
   "cell_type": "markdown",
   "id": "1d013d16",
   "metadata": {},
   "source": [
    "### Root Mean Square Error (RMSE) Formula\n",
    "\n",
    "$$RMSE = \\sqrt{\\frac{1}{n}\\sum_{i=1}^{n}(y_i - \\hat{y}_i)^2}$$\n",
    "\n",
    "Where:\n",
    "- $y_i$ = actual value\n",
    "- $\\hat{y}_i$ = predicted value\n",
    "- $n$ = number of observations\n",
    "\n",
    "**Simple Definition:**\n",
    "\n",
    "RMSE tells you the average distance between what your model predicted and what actually happened, in the same units as your target variable."
   ]
  },
  {
   "cell_type": "code",
   "execution_count": 48,
   "metadata": {},
   "outputs": [],
   "source": [
    "def mse_rmse(y, y_predict):\n",
    "    error = y - y_predict\n",
    "    mse = (error**2).mean()\n",
    "    rmse = np.sqrt(mse)\n",
    "\n",
    "    return mse, rmse"
   ]
  },
  {
   "cell_type": "code",
   "execution_count": 100,
   "id": "6156294f",
   "metadata": {},
   "outputs": [],
   "source": [
    "def rmse(y, y_predict):\n",
    "    error = y - y_predict\n",
    "    mse = (error**2).mean()\n",
    "    rmse = np.sqrt(mse)\n",
    "\n",
    "    return rmse"
   ]
  },
  {
   "cell_type": "code",
   "execution_count": 204,
   "metadata": {},
   "outputs": [
    {
     "data": {
      "text/plain": [
       "0.761653099130157"
      ]
     },
     "execution_count": 204,
     "metadata": {},
     "output_type": "execute_result"
    }
   ],
   "source": [
    "rmse(y_val, y_pred)"
   ]
  },
  {
   "cell_type": "markdown",
   "metadata": {},
   "source": [
    "## 2.10 Validating the model"
   ]
  },
  {
   "cell_type": "markdown",
   "id": "e7181594",
   "metadata": {},
   "source": [
    "The Purpose of `Train` vs. `Validation Sets`\n",
    "When you train a model, it learns patterns from the training data. If you only evaluate the model on the same data it was trained on, you're essentially asking \"How well does the model memorize the training data?\" rather than \"How well does the model generalize to new, unseen data?\"\n",
    "\n",
    "Why Predict on Validation Data?\n",
    "The validation set serves as a proxy for real-world, unseen data. Here's what happens in your code:\n",
    "\n",
    "Key Reasons:\n",
    "1. **Detecting Overfitting:** If your model performs well on training data but poorly on validation data, it means the model has overfit (memorized training patterns that don't generalize)\n",
    "\n",
    "2. **True Performance Metric:** The validation RMSE tells you how well your model will likely perform on completely new data in production\n",
    "\n",
    "3. **Model Selection:** When comparing different models or hyperparameters (like you do in 2.14 Tuning the model), you use validation performance to choose the best option\n",
    "\n",
    "4. **Honest Assessment:** Training error will almost always be lower than validation error because the model has \"seen\" that data before"
   ]
  },
  {
   "cell_type": "code",
   "execution_count": 205,
   "metadata": {},
   "outputs": [],
   "source": [
    "columns = ['engine_hp', 'engine_cylinders', 'highway_mpg', 'city_mpg', 'popularity'] #features used to predict target variable\n",
    "\n",
    "def prepare_X(df):\n",
    "    df_num = df[columns]\n",
    "    df_num = df_num.fillna(0)\n",
    "    X = df_num.values\n",
    "    return X"
   ]
  },
  {
   "cell_type": "code",
   "execution_count": 207,
   "metadata": {},
   "outputs": [
    {
     "data": {
      "text/plain": [
       "0.761653099130157"
      ]
     },
     "execution_count": 207,
     "metadata": {},
     "output_type": "execute_result"
    }
   ],
   "source": [
    "X_train = prepare_X(df_train)\n",
    "w0, w = linear_regression(X_train, y_train)\n",
    "\n",
    "X_val = prepare_X(df_val)\n",
    "y_pred = w0 + X_val.dot(w)\n",
    "rmse(y_val, y_pred)"
   ]
  },
  {
   "cell_type": "code",
   "execution_count": null,
   "id": "d9c67c01",
   "metadata": {},
   "outputs": [],
   "source": [
    "X_train = prepare_X(df_train)\n",
    "w_0, w = linear_regression(X_train, y_train)\n",
    "y_predict = w_0 + X_train.dot(w)"
   ]
  },
  {
   "cell_type": "markdown",
   "metadata": {},
   "source": [
    "## 2.11 Simple feature engineering\n",
    "\n",
    " Handling numerical variables\n"
   ]
  },
  {
   "cell_type": "code",
   "execution_count": 270,
   "metadata": {},
   "outputs": [],
   "source": [
    "def prepare_X(df):\n",
    "    df = df.copy() #does not overwrite original data-frame\n",
    "    \n",
    "    df['age'] = 2017 - df['year']\n",
    "    features = columns + ['age']\n",
    "    \n",
    "    df_num = df[features]\n",
    "    df_num = df_num.fillna(0)\n",
    "    X = df_num.values\n",
    "\n",
    "    return X"
   ]
  },
  {
   "cell_type": "code",
   "execution_count": 272,
   "metadata": {},
   "outputs": [
    {
     "data": {
      "text/plain": [
       "0.5172055461058324"
      ]
     },
     "execution_count": 272,
     "metadata": {},
     "output_type": "execute_result"
    }
   ],
   "source": [
    "X_train = prepare_X(df_train)\n",
    "w0, w = linear_regression(X_train, y_train)\n",
    "\n",
    "X_val = prepare_X(df_val)\n",
    "y_pred = w0 + X_val.dot(w)\n",
    "rmse(y_val, y_pred)"
   ]
  },
  {
   "cell_type": "code",
   "execution_count": 210,
   "metadata": {},
   "outputs": [
    {
     "name": "stderr",
     "output_type": "stream",
     "text": [
      "c:\\Users\\spradkyl\\AppData\\Local\\anaconda3\\Lib\\site-packages\\seaborn\\_oldcore.py:1119: FutureWarning: use_inf_as_na option is deprecated and will be removed in a future version. Convert inf values to NaN before operating instead.\n",
      "  with pd.option_context('mode.use_inf_as_na', True):\n",
      "c:\\Users\\spradkyl\\AppData\\Local\\anaconda3\\Lib\\site-packages\\seaborn\\_oldcore.py:1119: FutureWarning: use_inf_as_na option is deprecated and will be removed in a future version. Convert inf values to NaN before operating instead.\n",
      "  with pd.option_context('mode.use_inf_as_na', True):\n"
     ]
    },
    {
     "data": {
      "text/plain": [
       "<matplotlib.legend.Legend at 0x1ae949523d0>"
      ]
     },
     "execution_count": 210,
     "metadata": {},
     "output_type": "execute_result"
    },
    {
     "data": {
      "image/png": "[encoded data removed]",
      "text/plain": [
       "<Figure size 640x480 with 1 Axes>"
      ]
     },
     "metadata": {},
     "output_type": "display_data"
    }
   ],
   "source": [
    "sns.histplot(y_pred, label='prediction', color='red', alpha=0.5, bins=50)\n",
    "sns.histplot(y_val, label='target', color='blue',  alpha=0.5, bins=50)\n",
    "plt.legend()"
   ]
  },
  {
   "attachments": {
    "image.png": {
     "image/png": "[encoded data removed]"
    }
   },
   "cell_type": "markdown",
   "metadata": {},
   "source": [
    "## 2.12 Categorical variables\n",
    "\n",
    "Handling categorical data involves converting the categorical variables into a form that can be easily understood and processed by machine learning algorithms. One common method to achieve this is `one-hot encoding`, which **creates binary features for each distinct category**.\n",
    "\n",
    "- Typically strings\n",
    "\n",
    "**Example:**  *# of doors*\n",
    "\n",
    "![image.png](attachment:image.png)\n",
    "\n"
   ]
  },
  {
   "cell_type": "code",
   "execution_count": null,
   "id": "4e3c2b38",
   "metadata": {},
   "outputs": [
    {
     "data": {
      "text/plain": [
       "0       1\n",
       "1       0\n",
       "2       0\n",
       "3       0\n",
       "4       0\n",
       "       ..\n",
       "7145    1\n",
       "7146    1\n",
       "7147    0\n",
       "7148    0\n",
       "7149    0\n",
       "Name: number_of_doors, Length: 7150, dtype: int32"
      ]
     },
     "execution_count": 84,
     "metadata": {},
     "output_type": "execute_result"
    }
   ],
   "source": [
    "# converting categorical data into \n",
    "df_train['num_doors_1'] = (df_train.number_of_doors == 1).astype(int)\n",
    "df_train['num_doors_2'] = (df_train.number_of_doors == 2).astype(int)\n",
    "df_train['num_doors_3'] = (df_train.number_of_doors == 3).astype(int)\n",
    "df_train['num_doors_4'] = (df_train.number_of_doors == 4).astype(int)"
   ]
  },
  {
   "cell_type": "code",
   "execution_count": null,
   "id": "6079b501",
   "metadata": {},
   "outputs": [
    {
     "data": {
      "application/vnd.microsoft.datawrangler.viewer.v0+json": {
       "columns": [
        {
         "name": "index",
         "rawType": "int64",
         "type": "integer"
        },
        {
         "name": "make",
         "rawType": "object",
         "type": "string"
        },
        {
         "name": "model",
         "rawType": "object",
         "type": "string"
        },
        {
         "name": "year",
         "rawType": "int64",
         "type": "integer"
        },
        {
         "name": "engine_fuel_type",
         "rawType": "object",
         "type": "unknown"
        },
        {
         "name": "engine_hp",
         "rawType": "float64",
         "type": "float"
        },
        {
         "name": "engine_cylinders",
         "rawType": "float64",
         "type": "float"
        },
        {
         "name": "transmission_type",
         "rawType": "object",
         "type": "string"
        },
        {
         "name": "driven_wheels",
         "rawType": "object",
         "type": "string"
        },
        {
         "name": "number_of_doors",
         "rawType": "float64",
         "type": "float"
        },
        {
         "name": "market_category",
         "rawType": "object",
         "type": "unknown"
        },
        {
         "name": "vehicle_size",
         "rawType": "object",
         "type": "string"
        },
        {
         "name": "vehicle_style",
         "rawType": "object",
         "type": "string"
        },
        {
         "name": "highway_mpg",
         "rawType": "int64",
         "type": "integer"
        },
        {
         "name": "city_mpg",
         "rawType": "int64",
         "type": "integer"
        },
        {
         "name": "popularity",
         "rawType": "int64",
         "type": "integer"
        },
        {
         "name": "num_doors_2",
         "rawType": "int32",
         "type": "integer"
        },
        {
         "name": "num_doors_3",
         "rawType": "int32",
         "type": "integer"
        },
        {
         "name": "num_doors_4",
         "rawType": "int32",
         "type": "integer"
        }
       ],
       "ref": "09837e17-b61d-46f7-b5cd-0c381ec609e1",
       "rows": [
        [
         "0",
         "chevrolet",
         "cobalt",
         "2008",
         "regular_unleaded",
         "148.0",
         "4.0",
         "manual",
         "front_wheel_drive",
         "2.0",
         null,
         "compact",
         "coupe",
         "33",
         "24",
         "1385",
         "1",
         "0",
         "0"
        ],
        [
         "1",
         "toyota",
         "matrix",
         "2012",
         "regular_unleaded",
         "132.0",
         "4.0",
         "automatic",
         "front_wheel_drive",
         "4.0",
         "hatchback",
         "compact",
         "4dr_hatchback",
         "32",
         "25",
         "2031",
         "0",
         "0",
         "1"
        ],
        [
         "2",
         "subaru",
         "impreza",
         "2016",
         "regular_unleaded",
         "148.0",
         "4.0",
         "automatic",
         "all_wheel_drive",
         "4.0",
         "hatchback",
         "compact",
         "4dr_hatchback",
         "37",
         "28",
         "640",
         "0",
         "0",
         "1"
        ],
        [
         "3",
         "volkswagen",
         "vanagon",
         "1991",
         "regular_unleaded",
         "90.0",
         "4.0",
         "manual",
         "rear_wheel_drive",
         "3.0",
         null,
         "large",
         "passenger_minivan",
         "18",
         "16",
         "873",
         "0",
         "1",
         "0"
        ],
        [
         "4",
         "ford",
         "f-150",
         "2017",
         "flex-fuel_(unleaded/e85)",
         "385.0",
         "8.0",
         "automatic",
         "four_wheel_drive",
         "4.0",
         "flex_fuel",
         "large",
         "crew_cab_pickup",
         "21",
         "15",
         "5657",
         "0",
         "0",
         "1"
        ],
        [
         "5",
         "volkswagen",
         "rabbit",
         "2008",
         "regular_unleaded",
         "170.0",
         "5.0",
         "manual",
         "front_wheel_drive",
         "4.0",
         "hatchback",
         "compact",
         "4dr_hatchback",
         "29",
         "22",
         "873",
         "0",
         "0",
         "1"
        ],
        [
         "6",
         "bentley",
         "continental_gtc",
         "2013",
         "premium_unleaded_(required)",
         "500.0",
         "8.0",
         "automatic",
         "all_wheel_drive",
         "2.0",
         "exotic,luxury,high-performance",
         "midsize",
         "convertible",
         "24",
         "14",
         "520",
         "1",
         "0",
         "0"
        ],
        [
         "7",
         "bmw",
         "6_series",
         "2015",
         "premium_unleaded_(required)",
         "315.0",
         "6.0",
         "automatic",
         "rear_wheel_drive",
         "2.0",
         "luxury,performance",
         "midsize",
         "coupe",
         "32",
         "21",
         "3916",
         "1",
         "0",
         "0"
        ],
        [
         "8",
         "maybach",
         "57",
         "2012",
         "premium_unleaded_(required)",
         "543.0",
         "12.0",
         "automatic",
         "rear_wheel_drive",
         "4.0",
         "exotic,luxury",
         "large",
         "sedan",
         "16",
         "10",
         "67",
         "0",
         "0",
         "1"
        ],
        [
         "9",
         "ford",
         "f-150_heritage",
         "2004",
         "regular_unleaded",
         "202.0",
         "6.0",
         "manual",
         "four_wheel_drive",
         "2.0",
         null,
         "large",
         "regular_cab_pickup",
         "18",
         "13",
         "5657",
         "1",
         "0",
         "0"
        ],
        [
         "10",
         "rolls-royce",
         "phantom_drophead_coupe",
         "2015",
         "premium_unleaded_(required)",
         "453.0",
         "12.0",
         "automatic",
         "rear_wheel_drive",
         "2.0",
         "exotic,luxury,performance",
         "large",
         "convertible",
         "19",
         "11",
         "86",
         "1",
         "0",
         "0"
        ],
        [
         "11",
         "chevrolet",
         "equinox",
         "2015",
         "regular_unleaded",
         "182.0",
         "4.0",
         "automatic",
         "all_wheel_drive",
         "4.0",
         "crossover,flex_fuel",
         "compact",
         "4dr_suv",
         "29",
         "20",
         "1385",
         "0",
         "0",
         "1"
        ],
        [
         "12",
         "mitsubishi",
         "eclipse_spyder",
         "2011",
         "regular_unleaded",
         "162.0",
         "4.0",
         "automatic",
         "front_wheel_drive",
         "2.0",
         null,
         "compact",
         "convertible",
         "27",
         "20",
         "436",
         "1",
         "0",
         "0"
        ],
        [
         "13",
         "ferrari",
         "california_t",
         "2015",
         "premium_unleaded_(required)",
         "553.0",
         "8.0",
         "automated_manual",
         "rear_wheel_drive",
         "2.0",
         "exotic,high-performance",
         "compact",
         "convertible",
         "23",
         "16",
         "2774",
         "1",
         "0",
         "0"
        ],
        [
         "14",
         "audi",
         "q5",
         "2017",
         "premium_unleaded_(required)",
         "272.0",
         "6.0",
         "automatic",
         "all_wheel_drive",
         "4.0",
         "crossover,luxury",
         "midsize",
         "4dr_suv",
         "26",
         "18",
         "3105",
         "0",
         "0",
         "1"
        ],
        [
         "15",
         "subaru",
         "xv_crosstrek",
         "2014",
         "regular_unleaded",
         "160.0",
         "4.0",
         "automatic",
         "all_wheel_drive",
         "4.0",
         "crossover,hybrid",
         "compact",
         "4dr_suv",
         "33",
         "29",
         "640",
         "0",
         "0",
         "1"
        ],
        [
         "16",
         "hyundai",
         "genesis_coupe",
         "2016",
         "premium_unleaded_(recommended)",
         "348.0",
         "6.0",
         "manual",
         "rear_wheel_drive",
         "2.0",
         "high-performance",
         "midsize",
         "coupe",
         "24",
         "17",
         "1439",
         "1",
         "0",
         "0"
        ],
        [
         "17",
         "mitsubishi",
         "mighty_max_pickup",
         "1994",
         "regular_unleaded",
         "151.0",
         "4.0",
         "manual",
         "rear_wheel_drive",
         "2.0",
         null,
         "compact",
         "extended_cab_pickup",
         "23",
         "18",
         "436",
         "1",
         "0",
         "0"
        ],
        [
         "18",
         "dodge",
         "dakota",
         "2008",
         "regular_unleaded",
         "210.0",
         "6.0",
         "manual",
         "four_wheel_drive",
         "4.0",
         null,
         "compact",
         "extended_cab_pickup",
         "19",
         "15",
         "1851",
         "0",
         "0",
         "1"
        ],
        [
         "19",
         "ford",
         "probe",
         "1996",
         "regular_unleaded",
         "164.0",
         "6.0",
         "manual",
         "front_wheel_drive",
         "2.0",
         "hatchback,performance",
         "compact",
         "2dr_hatchback",
         "24",
         "18",
         "5657",
         "1",
         "0",
         "0"
        ],
        [
         "20",
         "ford",
         "thunderbird",
         "2005",
         "premium_unleaded_(required)",
         "280.0",
         "8.0",
         "automatic",
         "rear_wheel_drive",
         "2.0",
         "performance",
         "midsize",
         "convertible",
         "22",
         "16",
         "5657",
         "1",
         "0",
         "0"
        ],
        [
         "21",
         "gmc",
         "sierra_1500_classic",
         "2007",
         "flex-fuel_(unleaded/e85)",
         "295.0",
         "8.0",
         "automatic",
         "four_wheel_drive",
         "4.0",
         "flex_fuel",
         "large",
         "extended_cab_pickup",
         "17",
         "13",
         "549",
         "0",
         "0",
         "1"
        ],
        [
         "22",
         "bmw",
         "6_series",
         "2015",
         "premium_unleaded_(required)",
         "315.0",
         "6.0",
         "automatic",
         "all_wheel_drive",
         "2.0",
         "luxury,performance",
         "midsize",
         "coupe",
         "29",
         "20",
         "3916",
         "1",
         "0",
         "0"
        ],
        [
         "23",
         "gmc",
         "canyon",
         "2016",
         "regular_unleaded",
         "305.0",
         "6.0",
         "automatic",
         "four_wheel_drive",
         "4.0",
         "diesel",
         "compact",
         "crew_cab_pickup",
         "24",
         "17",
         "549",
         "0",
         "0",
         "1"
        ],
        [
         "24",
         "volkswagen",
         "beetle_convertible",
         "2014",
         "regular_unleaded",
         "170.0",
         "4.0",
         "automatic",
         "front_wheel_drive",
         "2.0",
         null,
         "compact",
         "convertible",
         "32",
         "24",
         "873",
         "1",
         "0",
         "0"
        ],
        [
         "25",
         "suzuki",
         "esteem",
         "2001",
         "regular_unleaded",
         "122.0",
         "4.0",
         "manual",
         "front_wheel_drive",
         "4.0",
         null,
         "compact",
         "sedan",
         "32",
         "24",
         "481",
         "0",
         "0",
         "1"
        ],
        [
         "26",
         "nissan",
         "juke",
         "2016",
         "premium_unleaded_(recommended)",
         "188.0",
         "4.0",
         "manual",
         "front_wheel_drive",
         "4.0",
         "crossover,hatchback,performance",
         "compact",
         "4dr_hatchback",
         "34",
         "28",
         "2009",
         "0",
         "0",
         "1"
        ],
        [
         "27",
         "suzuki",
         "aerio",
         "2006",
         "regular_unleaded",
         "155.0",
         "4.0",
         "automatic",
         "front_wheel_drive",
         "4.0",
         null,
         "compact",
         "wagon",
         "28",
         "22",
         "481",
         "0",
         "0",
         "1"
        ],
        [
         "28",
         "mitsubishi",
         "mirage",
         "2014",
         "regular_unleaded",
         "74.0",
         "3.0",
         "manual",
         "front_wheel_drive",
         "4.0",
         "hatchback",
         "compact",
         "4dr_hatchback",
         "42",
         "34",
         "436",
         "0",
         "0",
         "1"
        ],
        [
         "29",
         "nissan",
         "rogue",
         "2015",
         "regular_unleaded",
         "170.0",
         "4.0",
         "automatic",
         "front_wheel_drive",
         "4.0",
         "crossover",
         "midsize",
         "4dr_suv",
         "33",
         "26",
         "2009",
         "0",
         "0",
         "1"
        ],
        [
         "30",
         "mercedes-benz",
         "gle-class",
         "2017",
         "premium_unleaded_(required)",
         "302.0",
         "6.0",
         "automatic",
         "rear_wheel_drive",
         "4.0",
         "crossover,luxury",
         "midsize",
         "4dr_suv",
         "23",
         "18",
         "617",
         "0",
         "0",
         "1"
        ],
        [
         "31",
         "ford",
         "escape_hybrid",
         "2011",
         "regular_unleaded",
         "177.0",
         "4.0",
         "automatic",
         "all_wheel_drive",
         "4.0",
         "crossover,hybrid",
         "compact",
         "4dr_suv",
         "27",
         "30",
         "5657",
         "0",
         "0",
         "1"
        ],
        [
         "32",
         "mercedes-benz",
         "300-class",
         "1991",
         "diesel",
         "121.0",
         "5.0",
         "automatic",
         "rear_wheel_drive",
         "4.0",
         "diesel,luxury",
         "midsize",
         "sedan",
         "30",
         "23",
         "617",
         "0",
         "0",
         "1"
        ],
        [
         "33",
         "volkswagen",
         "tiguan",
         "2016",
         "premium_unleaded_(recommended)",
         "200.0",
         "4.0",
         "automatic",
         "all_wheel_drive",
         "4.0",
         "crossover",
         "compact",
         "4dr_suv",
         "26",
         "20",
         "873",
         "0",
         "0",
         "1"
        ],
        [
         "34",
         "porsche",
         "macan",
         "2017",
         "premium_unleaded_(required)",
         "400.0",
         "6.0",
         "automated_manual",
         "all_wheel_drive",
         "4.0",
         "crossover,luxury,performance",
         "midsize",
         "4dr_suv",
         "23",
         "17",
         "1715",
         "0",
         "0",
         "1"
        ],
        [
         "35",
         "chevrolet",
         "captiva_sport",
         "2014",
         "flex-fuel_(unleaded/e85)",
         "180.0",
         "4.0",
         "automatic",
         "front_wheel_drive",
         "4.0",
         "crossover,flex_fuel",
         "midsize",
         "4dr_suv",
         "28",
         "20",
         "1385",
         "0",
         "0",
         "1"
        ],
        [
         "36",
         "nissan",
         "frontier",
         "2016",
         "regular_unleaded",
         "152.0",
         "4.0",
         "manual",
         "rear_wheel_drive",
         "4.0",
         null,
         "compact",
         "extended_cab_pickup",
         "23",
         "19",
         "2009",
         "0",
         "0",
         "1"
        ],
        [
         "37",
         "chevrolet",
         "camaro",
         "2017",
         "premium_unleaded_(recommended)",
         "455.0",
         "8.0",
         "manual",
         "rear_wheel_drive",
         "2.0",
         "high-performance",
         "midsize",
         "coupe",
         "25",
         "16",
         "1385",
         "1",
         "0",
         "0"
        ],
        [
         "38",
         "ford",
         "fusion_hybrid",
         "2017",
         "regular_unleaded",
         "188.0",
         "4.0",
         "automatic",
         "front_wheel_drive",
         "4.0",
         "hybrid",
         "midsize",
         "sedan",
         "41",
         "43",
         "5657",
         "0",
         "0",
         "1"
        ],
        [
         "39",
         "porsche",
         "panamera",
         "2015",
         "premium_unleaded_(required)",
         "310.0",
         "6.0",
         "automated_manual",
         "rear_wheel_drive",
         "4.0",
         "luxury,performance",
         "large",
         "sedan",
         "28",
         "18",
         "1715",
         "0",
         "0",
         "1"
        ],
        [
         "40",
         "nissan",
         "juke",
         "2017",
         "premium_unleaded_(recommended)",
         "188.0",
         "4.0",
         "automatic",
         "all_wheel_drive",
         "4.0",
         "crossover,hatchback",
         "compact",
         "4dr_hatchback",
         "30",
         "26",
         "2009",
         "0",
         "0",
         "1"
        ],
        [
         "41",
         "hyundai",
         "accent",
         "2014",
         "regular_unleaded",
         "138.0",
         "4.0",
         "manual",
         "front_wheel_drive",
         "4.0",
         "hatchback",
         "compact",
         "4dr_hatchback",
         "38",
         "27",
         "1439",
         "0",
         "0",
         "1"
        ],
        [
         "42",
         "suzuki",
         "kizashi",
         "2011",
         "regular_unleaded",
         "180.0",
         "4.0",
         "automatic",
         "front_wheel_drive",
         "4.0",
         null,
         "midsize",
         "sedan",
         "30",
         "23",
         "481",
         "0",
         "0",
         "1"
        ],
        [
         "43",
         "nissan",
         "370z",
         "2016",
         "premium_unleaded_(required)",
         "332.0",
         "6.0",
         "automatic",
         "rear_wheel_drive",
         "2.0",
         "high-performance",
         "compact",
         "coupe",
         "26",
         "19",
         "2009",
         "1",
         "0",
         "0"
        ],
        [
         "44",
         "ferrari",
         "superamerica",
         "2005",
         "premium_unleaded_(required)",
         "532.0",
         "12.0",
         "automated_manual",
         "rear_wheel_drive",
         "2.0",
         "exotic,high-performance",
         "compact",
         "convertible",
         "16",
         "9",
         "2774",
         "1",
         "0",
         "0"
        ],
        [
         "45",
         "bmw",
         "x3",
         "2015",
         "premium_unleaded_(required)",
         "240.0",
         "4.0",
         "automatic",
         "rear_wheel_drive",
         "4.0",
         "crossover,luxury",
         "midsize",
         "4dr_suv",
         "28",
         "21",
         "3916",
         "0",
         "0",
         "1"
        ],
        [
         "46",
         "lexus",
         "rx_450h",
         "2017",
         "premium_unleaded_(recommended)",
         "308.0",
         "6.0",
         "automatic",
         "all_wheel_drive",
         "4.0",
         "crossover,luxury,hybrid",
         "midsize",
         "4dr_suv",
         "28",
         "31",
         "454",
         "0",
         "0",
         "1"
        ],
        [
         "47",
         "maserati",
         "coupe",
         "2006",
         "premium_unleaded_(required)",
         "390.0",
         "8.0",
         "manual",
         "rear_wheel_drive",
         "2.0",
         "exotic,luxury,high-performance",
         "compact",
         "coupe",
         "17",
         "12",
         "238",
         "1",
         "0",
         "0"
        ],
        [
         "48",
         "gmc",
         "envoy_xl",
         "2005",
         "regular_unleaded",
         "275.0",
         "6.0",
         "automatic",
         "four_wheel_drive",
         "4.0",
         null,
         "large",
         "4dr_suv",
         "17",
         "12",
         "549",
         "0",
         "0",
         "1"
        ],
        [
         "49",
         "infiniti",
         "g_coupe",
         "2011",
         "premium_unleaded_(recommended)",
         "330.0",
         "6.0",
         "manual",
         "rear_wheel_drive",
         "2.0",
         "luxury,high-performance",
         "midsize",
         "coupe",
         "25",
         "17",
         "190",
         "1",
         "0",
         "0"
        ]
       ],
       "shape": {
        "columns": 18,
        "rows": 7150
       }
      },
      "text/html": [
       "<div>\n",
       "<style scoped>\n",
       "    .dataframe tbody tr th:only-of-type {\n",
       "        vertical-align: middle;\n",
       "    }\n",
       "\n",
       "    .dataframe tbody tr th {\n",
       "        vertical-align: top;\n",
       "    }\n",
       "\n",
       "    .dataframe thead th {\n",
       "        text-align: right;\n",
       "    }\n",
       "</style>\n",
       "<table border=\"1\" class=\"dataframe\">\n",
       "  <thead>\n",
       "    <tr style=\"text-align: right;\">\n",
       "      <th></th>\n",
       "      <th>make</th>\n",
       "      <th>model</th>\n",
       "      <th>year</th>\n",
       "      <th>engine_fuel_type</th>\n",
       "      <th>engine_hp</th>\n",
       "      <th>engine_cylinders</th>\n",
       "      <th>transmission_type</th>\n",
       "      <th>driven_wheels</th>\n",
       "      <th>number_of_doors</th>\n",
       "      <th>market_category</th>\n",
       "      <th>vehicle_size</th>\n",
       "      <th>vehicle_style</th>\n",
       "      <th>highway_mpg</th>\n",
       "      <th>city_mpg</th>\n",
       "      <th>popularity</th>\n",
       "      <th>num_doors_2</th>\n",
       "      <th>num_doors_3</th>\n",
       "      <th>num_doors_4</th>\n",
       "    </tr>\n",
       "  </thead>\n",
       "  <tbody>\n",
       "    <tr>\n",
       "      <th>0</th>\n",
       "      <td>chevrolet</td>\n",
       "      <td>cobalt</td>\n",
       "      <td>2008</td>\n",
       "      <td>regular_unleaded</td>\n",
       "      <td>148.0</td>\n",
       "      <td>4.0</td>\n",
       "      <td>manual</td>\n",
       "      <td>front_wheel_drive</td>\n",
       "      <td>2.0</td>\n",
       "      <td>NaN</td>\n",
       "      <td>compact</td>\n",
       "      <td>coupe</td>\n",
       "      <td>33</td>\n",
       "      <td>24</td>\n",
       "      <td>1385</td>\n",
       "      <td>1</td>\n",
       "      <td>0</td>\n",
       "      <td>0</td>\n",
       "    </tr>\n",
       "    <tr>\n",
       "      <th>1</th>\n",
       "      <td>toyota</td>\n",
       "      <td>matrix</td>\n",
       "      <td>2012</td>\n",
       "      <td>regular_unleaded</td>\n",
       "      <td>132.0</td>\n",
       "      <td>4.0</td>\n",
       "      <td>automatic</td>\n",
       "      <td>front_wheel_drive</td>\n",
       "      <td>4.0</td>\n",
       "      <td>hatchback</td>\n",
       "      <td>compact</td>\n",
       "      <td>4dr_hatchback</td>\n",
       "      <td>32</td>\n",
       "      <td>25</td>\n",
       "      <td>2031</td>\n",
       "      <td>0</td>\n",
       "      <td>0</td>\n",
       "      <td>1</td>\n",
       "    </tr>\n",
       "    <tr>\n",
       "      <th>2</th>\n",
       "      <td>subaru</td>\n",
       "      <td>impreza</td>\n",
       "      <td>2016</td>\n",
       "      <td>regular_unleaded</td>\n",
       "      <td>148.0</td>\n",
       "      <td>4.0</td>\n",
       "      <td>automatic</td>\n",
       "      <td>all_wheel_drive</td>\n",
       "      <td>4.0</td>\n",
       "      <td>hatchback</td>\n",
       "      <td>compact</td>\n",
       "      <td>4dr_hatchback</td>\n",
       "      <td>37</td>\n",
       "      <td>28</td>\n",
       "      <td>640</td>\n",
       "      <td>0</td>\n",
       "      <td>0</td>\n",
       "      <td>1</td>\n",
       "    </tr>\n",
       "    <tr>\n",
       "      <th>3</th>\n",
       "      <td>volkswagen</td>\n",
       "      <td>vanagon</td>\n",
       "      <td>1991</td>\n",
       "      <td>regular_unleaded</td>\n",
       "      <td>90.0</td>\n",
       "      <td>4.0</td>\n",
       "      <td>manual</td>\n",
       "      <td>rear_wheel_drive</td>\n",
       "      <td>3.0</td>\n",
       "      <td>NaN</td>\n",
       "      <td>large</td>\n",
       "      <td>passenger_minivan</td>\n",
       "      <td>18</td>\n",
       "      <td>16</td>\n",
       "      <td>873</td>\n",
       "      <td>0</td>\n",
       "      <td>1</td>\n",
       "      <td>0</td>\n",
       "    </tr>\n",
       "    <tr>\n",
       "      <th>4</th>\n",
       "      <td>ford</td>\n",
       "      <td>f-150</td>\n",
       "      <td>2017</td>\n",
       "      <td>flex-fuel_(unleaded/e85)</td>\n",
       "      <td>385.0</td>\n",
       "      <td>8.0</td>\n",
       "      <td>automatic</td>\n",
       "      <td>four_wheel_drive</td>\n",
       "      <td>4.0</td>\n",
       "      <td>flex_fuel</td>\n",
       "      <td>large</td>\n",
       "      <td>crew_cab_pickup</td>\n",
       "      <td>21</td>\n",
       "      <td>15</td>\n",
       "      <td>5657</td>\n",
       "      <td>0</td>\n",
       "      <td>0</td>\n",
       "      <td>1</td>\n",
       "    </tr>\n",
       "    <tr>\n",
       "      <th>...</th>\n",
       "      <td>...</td>\n",
       "      <td>...</td>\n",
       "      <td>...</td>\n",
       "      <td>...</td>\n",
       "      <td>...</td>\n",
       "      <td>...</td>\n",
       "      <td>...</td>\n",
       "      <td>...</td>\n",
       "      <td>...</td>\n",
       "      <td>...</td>\n",
       "      <td>...</td>\n",
       "      <td>...</td>\n",
       "      <td>...</td>\n",
       "      <td>...</td>\n",
       "      <td>...</td>\n",
       "      <td>...</td>\n",
       "      <td>...</td>\n",
       "      <td>...</td>\n",
       "    </tr>\n",
       "    <tr>\n",
       "      <th>7145</th>\n",
       "      <td>bmw</td>\n",
       "      <td>4_series</td>\n",
       "      <td>2015</td>\n",
       "      <td>premium_unleaded_(required)</td>\n",
       "      <td>300.0</td>\n",
       "      <td>6.0</td>\n",
       "      <td>automatic</td>\n",
       "      <td>rear_wheel_drive</td>\n",
       "      <td>2.0</td>\n",
       "      <td>luxury,performance</td>\n",
       "      <td>midsize</td>\n",
       "      <td>convertible</td>\n",
       "      <td>31</td>\n",
       "      <td>20</td>\n",
       "      <td>3916</td>\n",
       "      <td>1</td>\n",
       "      <td>0</td>\n",
       "      <td>0</td>\n",
       "    </tr>\n",
       "    <tr>\n",
       "      <th>7146</th>\n",
       "      <td>volkswagen</td>\n",
       "      <td>beetle</td>\n",
       "      <td>2015</td>\n",
       "      <td>premium_unleaded_(recommended)</td>\n",
       "      <td>210.0</td>\n",
       "      <td>4.0</td>\n",
       "      <td>automated_manual</td>\n",
       "      <td>front_wheel_drive</td>\n",
       "      <td>2.0</td>\n",
       "      <td>hatchback,performance</td>\n",
       "      <td>compact</td>\n",
       "      <td>2dr_hatchback</td>\n",
       "      <td>30</td>\n",
       "      <td>24</td>\n",
       "      <td>873</td>\n",
       "      <td>1</td>\n",
       "      <td>0</td>\n",
       "      <td>0</td>\n",
       "    </tr>\n",
       "    <tr>\n",
       "      <th>7147</th>\n",
       "      <td>gmc</td>\n",
       "      <td>sierra_1500</td>\n",
       "      <td>2015</td>\n",
       "      <td>flex-fuel_(unleaded/e85)</td>\n",
       "      <td>285.0</td>\n",
       "      <td>6.0</td>\n",
       "      <td>automatic</td>\n",
       "      <td>four_wheel_drive</td>\n",
       "      <td>4.0</td>\n",
       "      <td>flex_fuel</td>\n",
       "      <td>large</td>\n",
       "      <td>extended_cab_pickup</td>\n",
       "      <td>22</td>\n",
       "      <td>17</td>\n",
       "      <td>549</td>\n",
       "      <td>0</td>\n",
       "      <td>0</td>\n",
       "      <td>1</td>\n",
       "    </tr>\n",
       "    <tr>\n",
       "      <th>7148</th>\n",
       "      <td>rolls-royce</td>\n",
       "      <td>ghost</td>\n",
       "      <td>2014</td>\n",
       "      <td>premium_unleaded_(required)</td>\n",
       "      <td>563.0</td>\n",
       "      <td>12.0</td>\n",
       "      <td>automatic</td>\n",
       "      <td>rear_wheel_drive</td>\n",
       "      <td>4.0</td>\n",
       "      <td>exotic,luxury,performance</td>\n",
       "      <td>large</td>\n",
       "      <td>sedan</td>\n",
       "      <td>21</td>\n",
       "      <td>13</td>\n",
       "      <td>86</td>\n",
       "      <td>0</td>\n",
       "      <td>0</td>\n",
       "      <td>1</td>\n",
       "    </tr>\n",
       "    <tr>\n",
       "      <th>7149</th>\n",
       "      <td>volkswagen</td>\n",
       "      <td>cc</td>\n",
       "      <td>2017</td>\n",
       "      <td>premium_unleaded_(recommended)</td>\n",
       "      <td>200.0</td>\n",
       "      <td>4.0</td>\n",
       "      <td>automated_manual</td>\n",
       "      <td>front_wheel_drive</td>\n",
       "      <td>4.0</td>\n",
       "      <td>performance</td>\n",
       "      <td>midsize</td>\n",
       "      <td>sedan</td>\n",
       "      <td>31</td>\n",
       "      <td>22</td>\n",
       "      <td>873</td>\n",
       "      <td>0</td>\n",
       "      <td>0</td>\n",
       "      <td>1</td>\n",
       "    </tr>\n",
       "  </tbody>\n",
       "</table>\n",
       "<p>7150 rows × 18 columns</p>\n",
       "</div>"
      ],
      "text/plain": [
       "             make        model  year                engine_fuel_type  \\\n",
       "0       chevrolet       cobalt  2008                regular_unleaded   \n",
       "1          toyota       matrix  2012                regular_unleaded   \n",
       "2          subaru      impreza  2016                regular_unleaded   \n",
       "3      volkswagen      vanagon  1991                regular_unleaded   \n",
       "4            ford        f-150  2017        flex-fuel_(unleaded/e85)   \n",
       "...           ...          ...   ...                             ...   \n",
       "7145          bmw     4_series  2015     premium_unleaded_(required)   \n",
       "7146   volkswagen       beetle  2015  premium_unleaded_(recommended)   \n",
       "7147          gmc  sierra_1500  2015        flex-fuel_(unleaded/e85)   \n",
       "7148  rolls-royce        ghost  2014     premium_unleaded_(required)   \n",
       "7149   volkswagen           cc  2017  premium_unleaded_(recommended)   \n",
       "\n",
       "      engine_hp  engine_cylinders transmission_type      driven_wheels  \\\n",
       "0         148.0               4.0            manual  front_wheel_drive   \n",
       "1         132.0               4.0         automatic  front_wheel_drive   \n",
       "2         148.0               4.0         automatic    all_wheel_drive   \n",
       "3          90.0               4.0            manual   rear_wheel_drive   \n",
       "4         385.0               8.0         automatic   four_wheel_drive   \n",
       "...         ...               ...               ...                ...   \n",
       "7145      300.0               6.0         automatic   rear_wheel_drive   \n",
       "7146      210.0               4.0  automated_manual  front_wheel_drive   \n",
       "7147      285.0               6.0         automatic   four_wheel_drive   \n",
       "7148      563.0              12.0         automatic   rear_wheel_drive   \n",
       "7149      200.0               4.0  automated_manual  front_wheel_drive   \n",
       "\n",
       "      number_of_doors            market_category vehicle_size  \\\n",
       "0                 2.0                        NaN      compact   \n",
       "1                 4.0                  hatchback      compact   \n",
       "2                 4.0                  hatchback      compact   \n",
       "3                 3.0                        NaN        large   \n",
       "4                 4.0                  flex_fuel        large   \n",
       "...               ...                        ...          ...   \n",
       "7145              2.0         luxury,performance      midsize   \n",
       "7146              2.0      hatchback,performance      compact   \n",
       "7147              4.0                  flex_fuel        large   \n",
       "7148              4.0  exotic,luxury,performance        large   \n",
       "7149              4.0                performance      midsize   \n",
       "\n",
       "            vehicle_style  highway_mpg  city_mpg  popularity  num_doors_2  \\\n",
       "0                   coupe           33        24        1385            1   \n",
       "1           4dr_hatchback           32        25        2031            0   \n",
       "2           4dr_hatchback           37        28         640            0   \n",
       "3       passenger_minivan           18        16         873            0   \n",
       "4         crew_cab_pickup           21        15        5657            0   \n",
       "...                   ...          ...       ...         ...          ...   \n",
       "7145          convertible           31        20        3916            1   \n",
       "7146        2dr_hatchback           30        24         873            1   \n",
       "7147  extended_cab_pickup           22        17         549            0   \n",
       "7148                sedan           21        13          86            0   \n",
       "7149                sedan           31        22         873            0   \n",
       "\n",
       "      num_doors_3  num_doors_4  \n",
       "0               0            0  \n",
       "1               0            1  \n",
       "2               0            1  \n",
       "3               1            0  \n",
       "4               0            1  \n",
       "...           ...          ...  \n",
       "7145            0            0  \n",
       "7146            0            0  \n",
       "7147            0            1  \n",
       "7148            0            1  \n",
       "7149            0            1  \n",
       "\n",
       "[7150 rows x 18 columns]"
      ]
     },
     "execution_count": 88,
     "metadata": {},
     "output_type": "execute_result"
    }
   ],
   "source": [
    "for v in [2,3,4]:\n",
    "    df_train['num_doors_%s' % v] = (df_train.number_of_doors == v).astype(int).copy()"
   ]
  },
  {
   "cell_type": "code",
   "execution_count": 92,
   "id": "ad76ad03",
   "metadata": {},
   "outputs": [
    {
     "data": {
      "text/plain": [
       "number_of_doors\n",
       "4.0    5000\n",
       "2.0    1916\n",
       "3.0     228\n",
       "Name: count, dtype: int64"
      ]
     },
     "execution_count": 92,
     "metadata": {},
     "output_type": "execute_result"
    }
   ],
   "source": [
    "df_train.number_of_doors.value_counts()"
   ]
  },
  {
   "cell_type": "code",
   "execution_count": 401,
   "id": "50420049",
   "metadata": {},
   "outputs": [
    {
     "data": {
      "text/plain": [
       "array(['chevrolet', 'ford', 'volkswagen', 'toyota', 'dodge'], dtype=object)"
      ]
     },
     "execution_count": 401,
     "metadata": {},
     "output_type": "execute_result"
    }
   ],
   "source": [
    "makes = np.array(df.make.value_counts().head().index)\n",
    "makes"
   ]
  },
  {
   "cell_type": "code",
   "execution_count": null,
   "id": "5aff5c2d",
   "metadata": {},
   "outputs": [],
   "source": [
    "category_variable = [\n",
    "    'make',\n",
    "    'market_category',\n",
    "    'vehicle_size',\n",
    "    'vehicle_style',\n",
    "    'transmission_type',\n",
    "    'driven_wheels',\n",
    "    'engine_fuel_type'\n",
    "]"
   ]
  },
  {
   "cell_type": "code",
   "execution_count": 367,
   "id": "d493a2c5",
   "metadata": {},
   "outputs": [
    {
     "data": {
      "text/plain": [
       "{'make': ['chevrolet', 'ford', 'volkswagen', 'toyota', 'dodge'],\n",
       " 'market_category': ['crossover',\n",
       "  'flex_fuel',\n",
       "  'luxury',\n",
       "  'hatchback',\n",
       "  'luxury,performance'],\n",
       " 'vehicle_size': ['compact', 'midsize', 'large'],\n",
       " 'vehicle_style': ['sedan',\n",
       "  '4dr_suv',\n",
       "  'coupe',\n",
       "  'convertible',\n",
       "  '4dr_hatchback'],\n",
       " 'transmission_type': ['automatic',\n",
       "  'manual',\n",
       "  'automated_manual',\n",
       "  'direct_drive',\n",
       "  'unknown'],\n",
       " 'driven_wheels': ['front_wheel_drive',\n",
       "  'rear_wheel_drive',\n",
       "  'all_wheel_drive',\n",
       "  'four_wheel_drive'],\n",
       " 'engine_fuel_type': ['regular_unleaded',\n",
       "  'premium_unleaded_(required)',\n",
       "  'premium_unleaded_(recommended)',\n",
       "  'flex-fuel_(unleaded/e85)',\n",
       "  'diesel']}"
      ]
     },
     "execution_count": 367,
     "metadata": {},
     "output_type": "execute_result"
    }
   ],
   "source": [
    "categories ={}\n",
    "\n",
    "for c in category_variable:\n",
    "    categories[c] = list(df_train[c].value_counts().head().index)\n",
    "categories"
   ]
  },
  {
   "cell_type": "code",
   "execution_count": 391,
   "id": "5ce3834c",
   "metadata": {},
   "outputs": [],
   "source": [
    "def prepare_X(df):\n",
    "    df = df.copy()\n",
    "\n",
    "    df['age'] = 2017 - df['year']\n",
    "    features = columns + ['age']\n",
    "\n",
    "    for v in [2,3,4]:\n",
    "        df['num_doors_%s' % v] = (df['number_of_doors'] == v).astype(int)\n",
    "        features.append('num_doors_%s' % v)\n",
    "\n",
    "    for c, values in categories.items():\n",
    "        for v in values:\n",
    "            df['%s_%s' % (c, v)] = (df[c] == v).astype(int)\n",
    "            features.append('%s_%s' % (c, v))\n",
    "\n",
    "    df_num = df[features]\n",
    "    df_num=df_num.fillna(0)\n",
    "\n",
    "    x = df_num.values\n",
    "\n",
    "    return x"
   ]
  },
  {
   "cell_type": "code",
   "execution_count": 392,
   "id": "19fff675",
   "metadata": {},
   "outputs": [
    {
     "data": {
      "text/plain": [
       "array([[148.,   4.,  33., ...,   0.,   0.,   0.],\n",
       "       [132.,   4.,  32., ...,   0.,   0.,   0.],\n",
       "       [148.,   4.,  37., ...,   0.,   0.,   0.],\n",
       "       ...,\n",
       "       [285.,   6.,  22., ...,   0.,   1.,   0.],\n",
       "       [563.,  12.,  21., ...,   0.,   0.,   0.],\n",
       "       [200.,   4.,  31., ...,   1.,   0.,   0.]])"
      ]
     },
     "execution_count": 392,
     "metadata": {},
     "output_type": "execute_result"
    }
   ],
   "source": [
    "X_train = prepare_X(df_train)\n",
    "X_train"
   ]
  },
  {
   "cell_type": "code",
   "execution_count": 510,
   "id": "86bbff66",
   "metadata": {},
   "outputs": [
    {
     "data": {
      "text/plain": [
       "117.82814202271044"
      ]
     },
     "execution_count": 510,
     "metadata": {},
     "output_type": "execute_result"
    }
   ],
   "source": [
    "X_train = prepare_X(df_train)\n",
    "w0, w = linear_regression(X_train, y_train)\n",
    "\n",
    "X_val = prepare_X(df_val)\n",
    "y_pred = w0 + X_val.dot(w)\n",
    "rmse(y_val, y_pred)"
   ]
  },
  {
   "cell_type": "code",
   "execution_count": 394,
   "id": "5315585d",
   "metadata": {},
   "outputs": [
    {
     "data": {
      "text/plain": [
       "(-6978332781570588.0,\n",
       " array([ 5.49131215e-01, -6.99881516e+01, -4.21248050e+00,  5.25074278e+00,\n",
       "        -1.09474060e-02, -1.52216935e+00,  6.93891606e+03,  6.97211095e+03,\n",
       "         6.93251751e+03,  5.52872457e+00,  4.22595886e+01, -4.46738563e+01,\n",
       "        -9.21204079e+00, -7.63086981e+00,  8.89941294e+00, -1.02705610e+01,\n",
       "         1.14536218e+00, -4.83056955e+01,  3.27209318e+01, -2.36973689e+16,\n",
       "        -2.36973689e+16, -2.36973689e+16,  3.15717139e+00,  2.70421705e+00,\n",
       "         1.87971567e+01,  2.28590634e+01, -1.63306136e+01,  3.06757017e+16,\n",
       "         3.06757017e+16,  3.06757017e+16,  3.06757017e+16,  3.06757017e+16,\n",
       "         5.29476927e+02,  4.86138459e+02,  4.92467762e+02,  4.55137147e+02,\n",
       "        -4.61172642e-01,  6.90591028e-02, -3.27355835e-01, -5.40202560e-01,\n",
       "        -9.20899158e-02]))"
      ]
     },
     "execution_count": 394,
     "metadata": {},
     "output_type": "execute_result"
    }
   ],
   "source": [
    "w0, w"
   ]
  },
  {
   "cell_type": "code",
   "execution_count": 395,
   "id": "ab7d7e0a",
   "metadata": {},
   "outputs": [
    {
     "name": "stderr",
     "output_type": "stream",
     "text": [
      "c:\\Users\\spradkyl\\AppData\\Local\\anaconda3\\Lib\\site-packages\\seaborn\\_oldcore.py:1119: FutureWarning: use_inf_as_na option is deprecated and will be removed in a future version. Convert inf values to NaN before operating instead.\n",
      "  with pd.option_context('mode.use_inf_as_na', True):\n",
      "c:\\Users\\spradkyl\\AppData\\Local\\anaconda3\\Lib\\site-packages\\seaborn\\_oldcore.py:1119: FutureWarning: use_inf_as_na option is deprecated and will be removed in a future version. Convert inf values to NaN before operating instead.\n",
      "  with pd.option_context('mode.use_inf_as_na', True):\n"
     ]
    },
    {
     "data": {
      "text/plain": [
       "<matplotlib.legend.Legend at 0x1ae97c79790>"
      ]
     },
     "execution_count": 395,
     "metadata": {},
     "output_type": "execute_result"
    },
    {
     "data": {
      "image/png": "[encoded data removed]",
      "text/plain": [
       "<Figure size 640x480 with 1 Axes>"
      ]
     },
     "metadata": {},
     "output_type": "display_data"
    }
   ],
   "source": [
    "sns.histplot(y_pred, label='prediction', color='red', alpha=0.5, bins=50)\n",
    "sns.histplot(y_val, label='target', color='blue',  alpha=0.5, bins=50)\n",
    "plt.legend()"
   ]
  },
  {
   "cell_type": "markdown",
   "metadata": {},
   "source": [
    "## 2.13 Regularization"
   ]
  },
  {
   "cell_type": "code",
   "execution_count": 491,
   "metadata": {},
   "outputs": [
    {
     "data": {
      "text/plain": [
       "array([[4.        , 4.        , 4.        ],\n",
       "       [3.        , 5.        , 5.        ],\n",
       "       [5.        , 1.        , 1.        ],\n",
       "       [5.        , 4.        , 4.        ],\n",
       "       [7.        , 5.        , 5.        ],\n",
       "       [4.        , 5.        , 5.00000001]])"
      ]
     },
     "execution_count": 491,
     "metadata": {},
     "output_type": "execute_result"
    }
   ],
   "source": [
    "X = [\n",
    "    [4, 4, 4],\n",
    "    [3, 5, 5],\n",
    "    [5, 1, 1],\n",
    "    [5, 4, 4],\n",
    "    [7, 5, 5],\n",
    "    [4, 5, 5.00000001],\n",
    "]\n",
    "\n",
    "X = np.array(X)\n",
    "X"
   ]
  },
  {
   "cell_type": "code",
   "execution_count": 430,
   "metadata": {},
   "outputs": [],
   "source": [
    "y= [1, 2, 3, 1, 2, 3]"
   ]
  },
  {
   "cell_type": "code",
   "execution_count": 492,
   "metadata": {},
   "outputs": [
    {
     "data": {
      "text/plain": [
       "array([[140.        , 111.        , 111.00000004],\n",
       "       [111.        , 108.        , 108.00000005],\n",
       "       [111.00000004, 108.00000005, 108.0000001 ]])"
      ]
     },
     "execution_count": 492,
     "metadata": {},
     "output_type": "execute_result"
    }
   ],
   "source": [
    "XTX = X.T.dot(X)\n",
    "XTX"
   ]
  },
  {
   "cell_type": "code",
   "execution_count": 493,
   "metadata": {},
   "outputs": [
    {
     "ename": "LinAlgError",
     "evalue": "Singular matrix",
     "output_type": "error",
     "traceback": [
      "\u001b[1;31m---------------------------------------------------------------------------\u001b[0m",
      "\u001b[1;31mLinAlgError\u001b[0m                               Traceback (most recent call last)",
      "Cell \u001b[1;32mIn[493], line 1\u001b[0m\n\u001b[1;32m----> 1\u001b[0m \u001b[43mnp\u001b[49m\u001b[38;5;241;43m.\u001b[39;49m\u001b[43mlinalg\u001b[49m\u001b[38;5;241;43m.\u001b[39;49m\u001b[43minv\u001b[49m\u001b[43m(\u001b[49m\u001b[43mXTX\u001b[49m\u001b[43m)\u001b[49m\n",
      "File \u001b[1;32mc:\\Users\\spradkyl\\AppData\\Local\\anaconda3\\Lib\\site-packages\\numpy\\linalg\\linalg.py:561\u001b[0m, in \u001b[0;36minv\u001b[1;34m(a)\u001b[0m\n\u001b[0;32m    559\u001b[0m signature \u001b[38;5;241m=\u001b[39m \u001b[38;5;124m'\u001b[39m\u001b[38;5;124mD->D\u001b[39m\u001b[38;5;124m'\u001b[39m \u001b[38;5;28;01mif\u001b[39;00m isComplexType(t) \u001b[38;5;28;01melse\u001b[39;00m \u001b[38;5;124m'\u001b[39m\u001b[38;5;124md->d\u001b[39m\u001b[38;5;124m'\u001b[39m\n\u001b[0;32m    560\u001b[0m extobj \u001b[38;5;241m=\u001b[39m get_linalg_error_extobj(_raise_linalgerror_singular)\n\u001b[1;32m--> 561\u001b[0m ainv \u001b[38;5;241m=\u001b[39m \u001b[43m_umath_linalg\u001b[49m\u001b[38;5;241;43m.\u001b[39;49m\u001b[43minv\u001b[49m\u001b[43m(\u001b[49m\u001b[43ma\u001b[49m\u001b[43m,\u001b[49m\u001b[43m \u001b[49m\u001b[43msignature\u001b[49m\u001b[38;5;241;43m=\u001b[39;49m\u001b[43msignature\u001b[49m\u001b[43m,\u001b[49m\u001b[43m \u001b[49m\u001b[43mextobj\u001b[49m\u001b[38;5;241;43m=\u001b[39;49m\u001b[43mextobj\u001b[49m\u001b[43m)\u001b[49m\n\u001b[0;32m    562\u001b[0m \u001b[38;5;28;01mreturn\u001b[39;00m wrap(ainv\u001b[38;5;241m.\u001b[39mastype(result_t, copy\u001b[38;5;241m=\u001b[39m\u001b[38;5;28;01mFalse\u001b[39;00m))\n",
      "File \u001b[1;32mc:\\Users\\spradkyl\\AppData\\Local\\anaconda3\\Lib\\site-packages\\numpy\\linalg\\linalg.py:112\u001b[0m, in \u001b[0;36m_raise_linalgerror_singular\u001b[1;34m(err, flag)\u001b[0m\n\u001b[0;32m    111\u001b[0m \u001b[38;5;28;01mdef\u001b[39;00m \u001b[38;5;21m_raise_linalgerror_singular\u001b[39m(err, flag):\n\u001b[1;32m--> 112\u001b[0m     \u001b[38;5;28;01mraise\u001b[39;00m LinAlgError(\u001b[38;5;124m\"\u001b[39m\u001b[38;5;124mSingular matrix\u001b[39m\u001b[38;5;124m\"\u001b[39m)\n",
      "\u001b[1;31mLinAlgError\u001b[0m: Singular matrix"
     ]
    }
   ],
   "source": [
    "np.linalg.inv(XTX)"
   ]
  },
  {
   "cell_type": "code",
   "execution_count": 413,
   "metadata": {},
   "outputs": [
    {
     "data": {
      "text/plain": [
       "array([[ 0.04670793, -0.1558807 ,  0.11311199],\n",
       "       [-0.1558807 ,  1.71299943, -1.61845807],\n",
       "       [ 0.11311199, -1.61845807,  1.57512661]])"
      ]
     },
     "execution_count": 413,
     "metadata": {},
     "output_type": "execute_result"
    }
   ],
   "source": [
    "XTX_inv"
   ]
  },
  {
   "cell_type": "code",
   "execution_count": 380,
   "metadata": {},
   "outputs": [
    {
     "ename": "NameError",
     "evalue": "name 'XTX_inv' is not defined",
     "output_type": "error",
     "traceback": [
      "\u001b[1;31m---------------------------------------------------------------------------\u001b[0m",
      "\u001b[1;31mNameError\u001b[0m                                 Traceback (most recent call last)",
      "Cell \u001b[1;32mIn[380], line 1\u001b[0m\n\u001b[1;32m----> 1\u001b[0m \u001b[43mXTX_inv\u001b[49m\u001b[38;5;241m.\u001b[39mdot(X\u001b[38;5;241m.\u001b[39mT)\u001b[38;5;241m.\u001b[39mdot(y)\n",
      "\u001b[1;31mNameError\u001b[0m: name 'XTX_inv' is not defined"
     ]
    }
   ],
   "source": [
    "XTX_inv.dot(X.T).dot(y)"
   ]
  },
  {
   "cell_type": "code",
   "execution_count": 506,
   "metadata": {},
   "outputs": [
    {
     "data": {
      "text/plain": [
       "array([[1.     , 2.     , 2.     ],\n",
       "       [2.     , 1.     , 1.00001],\n",
       "       [2.     , 1.00001, 1.     ]])"
      ]
     },
     "execution_count": 506,
     "metadata": {},
     "output_type": "execute_result"
    }
   ],
   "source": [
    "XTX = [\n",
    "    [1,2,2],\n",
    "    [2,1,1.00001],\n",
    "    [2,1.00001,1]\n",
    "]\n",
    "\n",
    "XTX = np.array(XTX)\n",
    "XTX"
   ]
  },
  {
   "cell_type": "code",
   "execution_count": 502,
   "metadata": {},
   "outputs": [
    {
     "data": {
      "text/plain": [
       "array([[-3.33669114e-01,  3.33500696e-01,  3.33500696e-01],\n",
       "       [ 3.33500696e-01,  5.04967047e+02, -5.05133964e+02],\n",
       "       [ 3.33500696e-01, -5.05133964e+02,  5.04967047e+02]])"
      ]
     },
     "execution_count": 502,
     "metadata": {},
     "output_type": "execute_result"
    }
   ],
   "source": [
    "np.linalg.inv(XTX)"
   ]
  },
  {
   "cell_type": "code",
   "execution_count": 508,
   "metadata": {},
   "outputs": [
    {
     "data": {
      "text/plain": [
       "array([[1.01   , 2.     , 2.     ],\n",
       "       [2.     , 1.01   , 1.00001],\n",
       "       [2.     , 1.00001, 1.01   ]])"
      ]
     },
     "execution_count": 508,
     "metadata": {},
     "output_type": "execute_result"
    }
   ],
   "source": [
    "XTX = XTX + 0.01 * np.eye(3)\n",
    "\n",
    "XTX"
   ]
  },
  {
   "cell_type": "code",
   "execution_count": 509,
   "id": "4af4c1b8",
   "metadata": {},
   "outputs": [
    {
     "data": {
      "text/plain": [
       "array([[ -0.3366913 ,   0.33501455,   0.33501455],\n",
       "       [  0.33501455,  49.96545888, -50.13464122],\n",
       "       [  0.33501455, -50.13464122,  49.96545888]])"
      ]
     },
     "execution_count": 509,
     "metadata": {},
     "output_type": "execute_result"
    }
   ],
   "source": [
    "np.linalg.inv(XTX)"
   ]
  },
  {
   "cell_type": "code",
   "execution_count": 511,
   "metadata": {},
   "outputs": [],
   "source": [
    "def train_linear_regression_reg(X, y, r=0.001 ):\n",
    "    X_0 = np.ones(X.shape[0])\n",
    "    X = np.column_stack([X_0, X])\n",
    "    \n",
    "    XTX = X.T.dot(X) # multiplying the transpose of X by X itself.\n",
    "    XTX = XTX + r * np.eye(XTX.shape[0])\n",
    "\n",
    "    XTX_inverse = np.linalg.inv(XTX)\n",
    "    \n",
    "    w = XTX_inverse.dot(X.T).dot(y)\n",
    "    \n",
    "    return w[0], w[1:]"
   ]
  },
  {
   "cell_type": "code",
   "execution_count": 512,
   "metadata": {},
   "outputs": [
    {
     "data": {
      "text/plain": [
       "0.4565219901159868"
      ]
     },
     "execution_count": 512,
     "metadata": {},
     "output_type": "execute_result"
    }
   ],
   "source": [
    "X_train = prepare_X(df_train)\n",
    "w0, w = train_linear_regression_reg(X_train, y_train, r=0.01)\n",
    "\n",
    "X_val = prepare_X(df_val)\n",
    "y_pred = w0 + X_val.dot(w)\n",
    "rmse(y_val, y_pred)"
   ]
  },
  {
   "cell_type": "code",
   "execution_count": 513,
   "metadata": {},
   "outputs": [
    {
     "name": "stderr",
     "output_type": "stream",
     "text": [
      "c:\\Users\\spradkyl\\AppData\\Local\\anaconda3\\Lib\\site-packages\\seaborn\\_oldcore.py:1119: FutureWarning: use_inf_as_na option is deprecated and will be removed in a future version. Convert inf values to NaN before operating instead.\n",
      "  with pd.option_context('mode.use_inf_as_na', True):\n",
      "c:\\Users\\spradkyl\\AppData\\Local\\anaconda3\\Lib\\site-packages\\seaborn\\_oldcore.py:1119: FutureWarning: use_inf_as_na option is deprecated and will be removed in a future version. Convert inf values to NaN before operating instead.\n",
      "  with pd.option_context('mode.use_inf_as_na', True):\n"
     ]
    },
    {
     "data": {
      "text/plain": [
       "<matplotlib.legend.Legend at 0x1ae96034d90>"
      ]
     },
     "execution_count": 513,
     "metadata": {},
     "output_type": "execute_result"
    },
    {
     "data": {
      "image/png": "[encoded data removed]",
      "text/plain": [
       "<Figure size 640x480 with 1 Axes>"
      ]
     },
     "metadata": {},
     "output_type": "display_data"
    }
   ],
   "source": [
    "sns.histplot(y_pred, label='prediction', color='red', alpha=0.5, bins=50)\n",
    "sns.histplot(y_val, label='target', color='blue',  alpha=0.5, bins=50)\n",
    "plt.legend()"
   ]
  },
  {
   "cell_type": "markdown",
   "metadata": {},
   "source": [
    "## 2.14 Tuning the model"
   ]
  },
  {
   "cell_type": "code",
   "execution_count": null,
   "metadata": {},
   "outputs": [],
   "source": [
    "for r in [0.0, 0.00001, 0.0001, 0.001, 0.1, 1, 10]:\n",
    "    X_train = prepare_X(df_train)\n",
    "    w0, w = train_linear_regression_reg(X_train, y_train, r=r)\n",
    "\n",
    "    X_val = prepare_X(df_val)\n",
    "    y_pred = w0 + X_val.dot(w)\n",
    "    score = rmse(y_val, y_pred)\n",
    "    \n",
    "    print(r, w0, score)"
   ]
  },
  {
   "cell_type": "code",
   "execution_count": null,
   "metadata": {},
   "outputs": [],
   "source": [
    "r = 0.001\n",
    "X_train = prepare_X(df_train)\n",
    "w0, w = train_linear_regression_reg(X_train, y_train, r=r)\n",
    "\n",
    "X_val = prepare_X(df_val)\n",
    "y_pred = w0 + X_val.dot(w)\n",
    "score = rmse(y_val, y_pred)\n",
    "score"
   ]
  },
  {
   "cell_type": "markdown",
   "metadata": {},
   "source": [
    "## 2.15 Using the model"
   ]
  },
  {
   "cell_type": "code",
   "execution_count": null,
   "metadata": {},
   "outputs": [],
   "source": [
    "df_full_train = pd.concat([df_train, df_val])"
   ]
  },
  {
   "cell_type": "code",
   "execution_count": null,
   "metadata": {},
   "outputs": [],
   "source": [
    "df_full_train = df_full_train.reset_index(drop=True)"
   ]
  },
  {
   "cell_type": "code",
   "execution_count": null,
   "metadata": {},
   "outputs": [],
   "source": [
    "X_full_train = prepare_X(df_full_train)"
   ]
  },
  {
   "cell_type": "code",
   "execution_count": null,
   "metadata": {},
   "outputs": [],
   "source": [
    "X_full_train"
   ]
  },
  {
   "cell_type": "code",
   "execution_count": null,
   "metadata": {},
   "outputs": [],
   "source": [
    "y_full_train = np.concatenate([y_train, y_val])"
   ]
  },
  {
   "cell_type": "code",
   "execution_count": null,
   "metadata": {},
   "outputs": [],
   "source": [
    "w0, w = train_linear_regression_reg(X_full_train, y_full_train, r=0.001)"
   ]
  },
  {
   "cell_type": "code",
   "execution_count": null,
   "metadata": {},
   "outputs": [],
   "source": [
    "X_test = prepare_X(df_test)\n",
    "y_pred = w0 + X_test.dot(w)\n",
    "score = rmse(y_test, y_pred)\n",
    "score"
   ]
  },
  {
   "cell_type": "code",
   "execution_count": null,
   "metadata": {},
   "outputs": [],
   "source": [
    "car = df_test.iloc[20].to_dict()\n",
    "car"
   ]
  },
  {
   "cell_type": "code",
   "execution_count": null,
   "metadata": {},
   "outputs": [],
   "source": [
    "df_small = pd.DataFrame([car])\n",
    "df_small"
   ]
  },
  {
   "cell_type": "code",
   "execution_count": null,
   "metadata": {},
   "outputs": [],
   "source": [
    "X_small = prepare_X(df_small)"
   ]
  },
  {
   "cell_type": "code",
   "execution_count": null,
   "metadata": {},
   "outputs": [],
   "source": [
    "y_pred = w0 + X_small.dot(w)\n",
    "y_pred = y_pred[0]\n",
    "y_pred"
   ]
  },
  {
   "cell_type": "code",
   "execution_count": null,
   "metadata": {},
   "outputs": [],
   "source": [
    "np.expm1(y_pred)"
   ]
  },
  {
   "cell_type": "code",
   "execution_count": null,
   "metadata": {},
   "outputs": [],
   "source": [
    "np.expm1(y_test[20])"
   ]
  },
  {
   "cell_type": "markdown",
   "metadata": {},
   "source": [
    "## 2.16 Next steps"
   ]
  },
  {
   "cell_type": "markdown",
   "metadata": {},
   "source": [
    "* We included only 5 top features. What happens if we include 10?\n",
    "\n",
    "Other projects\n",
    "\n",
    "* Predict the price of a house - e.g. boston dataset\n",
    "* https://archive.ics.uci.edu/ml/datasets.php?task=reg\n",
    "* https://archive.ics.uci.edu/ml/datasets/Student+Performance"
   ]
  },
  {
   "cell_type": "markdown",
   "metadata": {},
   "source": [
    "## 2.17 Summary\n",
    "\n",
    "* EDA - looking at data, finding missing values\n",
    "* Target variable distribution - long tail => bell shaped curve\n",
    "* Validation framework: train/val/test split (helped us detect problems)\n",
    "* Normal equation - not magic, but math\n",
    "* Implemented it with numpy\n",
    "* RMSE to validate our model\n",
    "* Feature engineering: age, categorical features\n",
    "* Regularization to fight numerical instability"
   ]
  },
  {
   "cell_type": "code",
   "execution_count": null,
   "metadata": {},
   "outputs": [],
   "source": []
  }
 ],
 "metadata": {
  "kernelspec": {
   "display_name": "base",
   "language": "python",
   "name": "python3"
  },
  "language_info": {
   "codemirror_mode": {
    "name": "ipython",
    "version": 3
   },
   "file_extension": ".py",
   "mimetype": "text/x-python",
   "name": "python",
   "nbconvert_exporter": "python",
   "pygments_lexer": "ipython3",
   "version": "3.11.5"
  }
 },
 "nbformat": 4,
 "nbformat_minor": 5
}
